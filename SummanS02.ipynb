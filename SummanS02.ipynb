{
  "nbformat": 4,
  "nbformat_minor": 0,
  "metadata": {
    "colab": {
      "name": "SummanS02.ipynb",
      "provenance": [],
      "collapsed_sections": [],
      "include_colab_link": true
    },
    "kernelspec": {
      "name": "python3",
      "display_name": "Python 3"
    },
    "accelerator": "GPU"
  },
  "cells": [
    {
      "cell_type": "markdown",
      "metadata": {
        "id": "view-in-github",
        "colab_type": "text"
      },
      "source": [
        "<a href=\"https://colab.research.google.com/github/jubotero/cursoML/blob/master/SummanS02.ipynb\" target=\"_parent\"><img src=\"https://colab.research.google.com/assets/colab-badge.svg\" alt=\"Open In Colab\"/></a>"
      ]
    },
    {
      "cell_type": "markdown",
      "metadata": {
        "id": "mtEzBLXfdP4q",
        "colab_type": "text"
      },
      "source": [
        "<h1> Curso de Análisis de datos y Machine Learning en Python</h1>\n",
        "\n",
        "\n"
      ]
    },
    {
      "cell_type": "markdown",
      "metadata": {
        "id": "SW9cZkhEdn7N",
        "colab_type": "text"
      },
      "source": [
        "<p><a name=\"contents\"></a></p>\n",
        "\n",
        "# Contenido Sesión 2\n",
        "\n",
        "- <a href=\"#libs\">1. Librerías en Python.\n",
        "   - <a href=\"#ilbintro\">1.1 Introducción</a><br>\n",
        "- <a href=\"#numpy\">2. Numpy</a><br>\n",
        "   - <a href=\"#arrays\">2.1. Arrays</a><br>\n",
        "   - <a href=\"#dataType\">2.2. Tipos de datos</a><br>\n",
        "   - <a href=\"#arraysBAS\">2.3. Manipulación de los arrays</a><br>\n",
        "    - <a href=\"#arraysATT\">2.3.1. Atributos </a><br>\n",
        "    - <a href=\"#arraysIDX\">2.3.2. Indexado </a><br>\n",
        "    - <a href=\"#arraysSLI\">2.3.3. Segmentación </a><br>\n",
        "    - <a href=\"#arraysRES\">2.3.4. Reshape</a><br>\n",
        "    - <a href=\"#arraysCON\">2.3.5. Concatenación y división</a><br>\n",
        "   - <a href=\"#arrayMath\">2.4. Operaciones entre arrays</a><br>\n",
        "   - <a href=\"#bcasting\">2.5. Broadcasting</a><br>\n",
        "   - <a href=\"#tnumpy\">2.6. Taller numpy</a><br>\n",
        "- <a href=\"#matplotlib\">3. Matplotlib</a><br>\n",
        "  - <a href=\"#mpylab\">3.1 matplotlib, pyplot y pylab </a><br>\n",
        "  - <a href=\"#plotfunc\">3.2 Función `plot` </a><br>\n",
        "  - <a href=\"#catVars\">3.3 Gráficas de varibles categóricas </a><br>\n",
        "  - <a href=\"#scatterPlots\">3.4 Gráficos de dispersión </a><br>\n",
        "  - <a href=\"#tmatplotlib\">3.5 Taller `matplotlib` </a><br>\n",
        "- <a href=\"#pandas\">4. Pandas</a><br>\n",
        " - <a href=\"#ipandas\">4.1 Introducción a `pandas` </a><br>\n",
        " - <a href=\"#visu\">4.2 Visualización del dataFrame </a><br>\n",
        " - <a href=\"#internet\">4.3 Carga de una base de datos de internet </a><br>\n",
        " - <a href=\"#dataExploration\">4.4 Exploración básica del dataFrame </a><br>\n",
        " - <a href=\"#timeSeries\">4.5 Series de tiempo </a><br>\n",
        " - <a href=\"#tpandas\">4.6 Taller `pandas` </a><br>\n"
      ]
    },
    {
      "cell_type": "markdown",
      "metadata": {
        "id": "1P7kbSzrjJsk",
        "colab_type": "text"
      },
      "source": [
        "<p><a name=\"libs\"></a></p>\n",
        "\n",
        "# Librerías en Python\n",
        "\n",
        "[[Contenidos]](#contents)\n",
        "\n",
        "En Python, una libreria es una colección de funciones y métodos que nos permiten realizar varias acciones sin la necesidad de programarlas explicitamente. Las librerias suelen contener módulos integrados que proporcionan diferentes funcionalidades que pueden ser usadas directamente. \n",
        "\n",
        "Existen varias librerías extensas con un amplio rango de opciones. Podemos dividir estas librerías en tres grandes grupos:\n",
        "\n",
        "\n",
        "\n",
        "1.   Librerías de computación científica: [numPy](https://numpy.org/), [pandas](https://pandas.pydata.org/) y [SciPy](https://www.scipy.org/)\n",
        "2.   Librerías de visualización: [matplotlib](https://matplotlib.org/) y [seaborn](https://seaborn.pydata.org/).\n",
        "3.   Librerías de algoritmos: [Skir-learn](https://scikit-learn.org/stable/) y [Statsmodels](https://www.statsmodels.org/stable/index.html#).\n",
        "\n",
        "En lo que respecta a la **sección 2** nos centraremos en las librerías cientificas y de visualización de numPy, pandas y matplotlib.\n",
        "\n"
      ]
    },
    {
      "cell_type": "code",
      "metadata": {
        "id": "5gB3SRbv4gc9",
        "colab_type": "code",
        "colab": {}
      },
      "source": [
        "import sklearn as skl"
      ],
      "execution_count": 0,
      "outputs": []
    },
    {
      "cell_type": "markdown",
      "metadata": {
        "id": "hn__DFsalOfa",
        "colab_type": "text"
      },
      "source": [
        "<p><a name=\"numpy\"></a></p>\n",
        "\n",
        "# 2. Numpy\n",
        "\n",
        "[[Contenidos]](#contents)\n",
        "\n",
        "\n",
        "Numpy es la librería central para el computo científico en Python. Esta librería proporciona objetos matriciales multidimensionales de alto desempeño, además de herramientas para trabajar con estos arreglos. Para quienes estén familiarizados con el algebra lineal encontrarán este tutorial útil para empezar a trabajar con Numpy."
      ]
    },
    {
      "cell_type": "code",
      "metadata": {
        "id": "Q2JaOEXgoV5b",
        "colab_type": "code",
        "colab": {}
      },
      "source": [
        "#importación de numpy\n",
        "\n",
        "import numpy as np"
      ],
      "execution_count": 0,
      "outputs": []
    },
    {
      "cell_type": "markdown",
      "metadata": {
        "id": "HB-jNF1wzG3a",
        "colab_type": "text"
      },
      "source": [
        "<p><a name=\"arrays\"></a></p>\n",
        "\n",
        "## 2.1. Arrays\n",
        "\n",
        "[[Contenidos]](#contents)\n",
        "\n",
        "\n",
        "Un array en numpy es un grid de valores, del mismo tipo, los cuales son indexados por una tupla de enteros no negativos. El número de dimensiones es el rango de la matriz; la forma de la matríz es una tupla de enteros dados por el tamaño del array a lo largo de cada dimensión.\n",
        "\n",
        "\n",
        "\n",
        "Podemos inicializar los arrays de numpy mediante listas de Python y acceder a los elementos mediante corchetes `[]`\n"
      ]
    },
    {
      "cell_type": "code",
      "metadata": {
        "id": "ApzNyesGoQBf",
        "colab_type": "code",
        "outputId": "95100608-ca0e-47bf-f240-960a48ae360c",
        "colab": {
          "base_uri": "https://localhost:8080/",
          "height": 72
        }
      },
      "source": [
        "a=np.array([0,1,2,3]) # Creación de un array de rango 1\n",
        "print(type(a))      # Impresión del tipo\n",
        "print(a.shape)      # impresión de la dimensión \"(4,)\"\n",
        "list(a)"
      ],
      "execution_count": 0,
      "outputs": [
        {
          "output_type": "stream",
          "text": [
            "<class 'numpy.ndarray'>\n",
            "(4,)\n"
          ],
          "name": "stdout"
        },
        {
          "output_type": "execute_result",
          "data": {
            "text/plain": [
              "[0, 1, 2, 3]"
            ]
          },
          "metadata": {
            "tags": []
          },
          "execution_count": 3
        }
      ]
    },
    {
      "cell_type": "markdown",
      "metadata": {
        "id": "FoS8S0qAOu0-",
        "colab_type": "text"
      },
      "source": [
        "También se puede crear en numpy un array de dos dimensiones, como una lista de listas:"
      ]
    },
    {
      "cell_type": "code",
      "metadata": {
        "id": "zoG2Ng9hOHfp",
        "colab_type": "code",
        "outputId": "6fb72abd-7c7a-4df1-ec47-92cf15bdc4ef",
        "colab": {
          "base_uri": "https://localhost:8080/",
          "height": 90
        }
      },
      "source": [
        "b = np.array([[0,1,2,3],[4,5,6,7]])    # Creación de un array de rango 2\n",
        "print(b)\n",
        "print(b.shape)                     # Impresión de las dimensiones \"(2, 4)\"\n",
        "print(b[0, 0], b[0, 1], b[1, 0])   # Impresión de los elementos 0, 1 y 4"
      ],
      "execution_count": 0,
      "outputs": [
        {
          "output_type": "stream",
          "text": [
            "[[0 1 2 3]\n",
            " [4 5 6 7]]\n",
            "(2, 4)\n",
            "0 1 4\n"
          ],
          "name": "stdout"
        }
      ]
    },
    {
      "cell_type": "markdown",
      "metadata": {
        "id": "wLi3SWmkO3cn",
        "colab_type": "text"
      },
      "source": [
        "Numpy proporciona varias funciones para la creación de arrays:\n"
      ]
    },
    {
      "cell_type": "code",
      "metadata": {
        "id": "REDIJWb_QdfC",
        "colab_type": "code",
        "outputId": "7114e322-54d0-49a4-a65b-48761720e9f3",
        "colab": {
          "base_uri": "https://localhost:8080/",
          "height": 326
        }
      },
      "source": [
        "a = np.zeros((2,2))                        # Creación de un array de zeros\n",
        "print(\"Array de ceros\", a)                 # Imprime \"[[ 0.  0.]\n",
        "                                           #          [ 0.  0.]]\"\n",
        "\n",
        "b = np.ones((1,2))                         # Creación de un array de unos\n",
        "print(\"Arrays de unos\", b)                 # Imprime \"[[ 1.  1.]]\"\n",
        "\n",
        "c = np.full((2,2), 8)                      # Creación de un array de una costante\n",
        "print(\"Array constante\", c)                # Imprime \"[[ 8.  8.]\n",
        "                                           #          [ 8.  8.]]\"\n",
        "\n",
        "d = np.eye(2)                              # Creación de la matriz indentidad de 2x2.\n",
        "print(\"Matriz identidad 2x2\", d)           # Imprime \"[[ 1.  0.]\n",
        "                                           #          [ 0.  1.]]\"\n",
        "\n",
        "e = np.arange(0, 20, 2)                    # Creación de un vector lleno de una secuencia lineal\n",
        "print(\"Array de una secuencia lineal\" ,e)  # que comience en 0, finalice en 18, con paso 2.\n",
        "\n",
        "\n",
        "f = np.linspace(0, 1, 5)                   # Crea un vector de cinco valores espaciados \n",
        "print(\"Array de una secuencia lineal2\",f)  # uniformemente entre 0 y 1.   \n",
        "\n",
        "\n",
        "g = np.random.random((2,2))                # Creación de una matriz de 2x2 de valores aleatorios.\n",
        "print(\"Array de números aleatorios(u)\", g) # distribuidos uniformemente.\n",
        "\n",
        "\n",
        "h = np.random.normal(0, 1, (3, 3))         # Creación una matriz 3x3 de valores aleatorios normalmente \n",
        "print(\"Array de números aleatorios(n)\", h) # distribuidos con media 0 y desviación estándar 1.\n",
        "\n",
        "\n",
        "i = np.random.randint(0, 10, (3, 3))       # Creación de una matriz 3x3 de números enteros aleatorios\n",
        "print(\"Array de números aleatorios(i)\",i)  # en el intervalo [0,10)\n"
      ],
      "execution_count": 0,
      "outputs": [
        {
          "output_type": "stream",
          "text": [
            "Array de ceros [[0. 0.]\n",
            " [0. 0.]]\n",
            "Arrays de unos [[1. 1.]]\n",
            "Array constante [[8 8]\n",
            " [8 8]]\n",
            "Matriz identidad 2x2 [[1. 0.]\n",
            " [0. 1.]]\n",
            "Array de una secuencia lineal [ 0  2  4  6  8 10 12 14 16 18]\n",
            "Array de una secuencia lineal2 [0.   0.25 0.5  0.75 1.  ]\n",
            "Array de números aleatorios(u) [[0.79362847 0.61309346]\n",
            " [0.7237206  0.09682199]]\n",
            "Array de números aleatorios(n) [[ 1.65616137 -0.58594301  0.57496784]\n",
            " [ 0.98997177  0.139279    2.25387828]\n",
            " [ 0.0687156   1.18896945  0.97476046]]\n",
            "Array de números aleatorios(i) [[0 9 4]\n",
            " [5 4 9]\n",
            " [7 9 5]]\n"
          ],
          "name": "stdout"
        }
      ]
    },
    {
      "cell_type": "markdown",
      "metadata": {
        "id": "aDUkFkiNzqAt",
        "colab_type": "text"
      },
      "source": [
        "<p><a name=\"dataType\"></a></p>\n",
        "\n",
        "## 2.2. Tipos de datos."
      ]
    },
    {
      "cell_type": "markdown",
      "metadata": {
        "id": "XWTfZKIhWQdO",
        "colab_type": "text"
      },
      "source": [
        "[[Contenidos]](#contents)\n",
        "\n",
        "Los arrays en NumPy contienen valores de un solo tipo, por lo que es importante tener conocimiento de esos tipos y sus limitaciones. En numpy, los elementos de un array  por defecto son floats de 64 bits, es decir, que cada float ocupa 8 bytes en memoria. Vemos esto en el siguiente ejemplo"
      ]
    },
    {
      "cell_type": "code",
      "metadata": {
        "id": "j7ZxXurxTTxd",
        "colab_type": "code",
        "outputId": "73699b9b-e1a6-4723-e737-d07404c32bcf",
        "colab": {
          "base_uri": "https://localhost:8080/",
          "height": 54
        }
      },
      "source": [
        "n = np.zeros((1))\n",
        "print(\"Tipo de dato almacenado en un elemento del array:\", type(n[0]))\n",
        "print(\"Bytes almacenados en el array: %d bytes\" % (n.size * n.itemsize))"
      ],
      "execution_count": 0,
      "outputs": [
        {
          "output_type": "stream",
          "text": [
            "Tipo de dato almacenado en un elemento del array: <class 'numpy.float64'>\n",
            "Bytes almacenados en el array: 8 bytes\n"
          ],
          "name": "stdout"
        }
      ]
    },
    {
      "cell_type": "markdown",
      "metadata": {
        "id": "EdedVnLvtDgA",
        "colab_type": "text"
      },
      "source": [
        "El tipo por defecto de cada elemento del array es `float64`, que ocupan 8 bytes de memoria. Si se quiere cambiar el tipo por defecto, se debe acceder mediante `dtype=np.` y el nombre del tipo deseado, por ejemplo:"
      ]
    },
    {
      "cell_type": "code",
      "metadata": {
        "id": "G5y3njGotmui",
        "colab_type": "code",
        "outputId": "1afad58a-d7f5-45c3-9e3c-af2e5e73c67b",
        "colab": {
          "base_uri": "https://localhost:8080/",
          "height": 54
        }
      },
      "source": [
        "# Definición de un array de enteros de 8 bits\n",
        "n = np.zeros((1), dtype = np.int8)\n",
        "print(\"Tipo de dato almacenado en un elemento del array:\", type(n[0]))\n",
        "print(\"Bytes almacenados en el array: %d bytes\" % (n.size * n.itemsize))"
      ],
      "execution_count": 0,
      "outputs": [
        {
          "output_type": "stream",
          "text": [
            "Tipo de dato almacenado en un elemento del array: <class 'numpy.int8'>\n",
            "Bytes almacenados en el array: 1 bytes\n"
          ],
          "name": "stdout"
        }
      ]
    },
    {
      "cell_type": "markdown",
      "metadata": {
        "id": "Bm6umNJTAqnU",
        "colab_type": "text"
      },
      "source": [
        "ver tipos de datos: https://numpy.org/devdocs/user/basics.types.html"
      ]
    },
    {
      "cell_type": "markdown",
      "metadata": {
        "id": "KRZdYM8EBIfv",
        "colab_type": "text"
      },
      "source": [
        "<p><a name=\"arraysBAS\"></a></p>\n",
        "\n",
        "## 2.3. Manipulación de los arrays"
      ]
    },
    {
      "cell_type": "markdown",
      "metadata": {
        "id": "hMrRBFpuCOYE",
        "colab_type": "text"
      },
      "source": [
        "[[Contenidos]](#contents)\n",
        "\n"
      ]
    },
    {
      "cell_type": "markdown",
      "metadata": {
        "id": "aUAVSSFjA8JF",
        "colab_type": "text"
      },
      "source": [
        "<p><a name=\"arraysATT\"></a></p>\n",
        "\n",
        "###2.3.1. Atributos\n",
        "\n",
        "Cada array tiene como atributos: <code>ndim</code>  (el número de dimensiones), <code>shape</code> (el tamaño de cada dimensión) y <code>size</code> (el tamaño total de la matriz o número de elementos):\n"
      ]
    },
    {
      "cell_type": "code",
      "metadata": {
        "id": "1zx4b91dC5iX",
        "colab_type": "code",
        "outputId": "49b8fe05-cdc3-40a5-a3aa-06b878a25664",
        "colab": {
          "base_uri": "https://localhost:8080/",
          "height": 235
        }
      },
      "source": [
        "x1 = np.random.randint(10, size=6)          # array unidimensional\n",
        "x2 = np.random.randint(10, size=(3, 4))     # array bidimensional\n",
        "x3 = np.random.randint(10, size=(3, 4, 5))  # array tridimensional\n",
        "\n",
        "print(x1)\n",
        "print(\"x1 ndim: \", x1.ndim)\n",
        "print(\"x1 shape:\", x1.shape)\n",
        "print(\"x1 size: \", x1.size,\"\\n\")\n",
        "\n",
        "print(\"x2 ndim: \", x2.ndim)\n",
        "print(\"x2 shape:\", x2.shape)\n",
        "print(\"x2 size: \", x2.size, \"\\n\")\n",
        "\n",
        "print(\"x3 ndim: \", x3.ndim)\n",
        "print(\"x3 shape:\", x3.shape)\n",
        "print(\"x3 size: \", x3.size)"
      ],
      "execution_count": 0,
      "outputs": [
        {
          "output_type": "stream",
          "text": [
            "[8 0 0 4 4 9]\n",
            "x1 ndim:  1\n",
            "x1 shape: (6,)\n",
            "x1 size:  6 \n",
            "\n",
            "x2 ndim:  2\n",
            "x2 shape: (3, 4)\n",
            "x2 size:  12 \n",
            "\n",
            "x3 ndim:  3\n",
            "x3 shape: (3, 4, 5)\n",
            "x3 size:  60\n"
          ],
          "name": "stdout"
        }
      ]
    },
    {
      "cell_type": "markdown",
      "metadata": {
        "id": "lNlJw0HeGIIC",
        "colab_type": "text"
      },
      "source": [
        "Otro atributo útil es el <code>dtype</code>, el tipo de dato del array (discutido previamente en la sección 2.2.)"
      ]
    },
    {
      "cell_type": "code",
      "metadata": {
        "id": "DewYiYJqGQ34",
        "colab_type": "code",
        "outputId": "b092084c-eb9d-4fab-eda7-a1eb4773f285",
        "colab": {
          "base_uri": "https://localhost:8080/",
          "height": 35
        }
      },
      "source": [
        "print(\"dtype: \", x3.dtype)"
      ],
      "execution_count": 0,
      "outputs": [
        {
          "output_type": "stream",
          "text": [
            "dtype:  int64\n"
          ],
          "name": "stdout"
        }
      ]
    },
    {
      "cell_type": "markdown",
      "metadata": {
        "id": "T8-an6XDGizu",
        "colab_type": "text"
      },
      "source": [
        "Otros atributos incluyen <code>itemsize</code>, que enumera el tamaño (en bytes) de cada elemento del array,\n",
        "y <code>nbytes</code>, que enumera el tamaño total (en bytes) del array"
      ]
    },
    {
      "cell_type": "code",
      "metadata": {
        "id": "84xkkKF6G_YU",
        "colab_type": "code",
        "outputId": "74ec429a-d697-443a-ba69-9bbbb313fea8",
        "colab": {
          "base_uri": "https://localhost:8080/",
          "height": 54
        }
      },
      "source": [
        "print(\"itemsize:\", x3.itemsize, \"bytes\")\n",
        "print(\"nbytes:\", x3.nbytes, \"bytes\")"
      ],
      "execution_count": 0,
      "outputs": [
        {
          "output_type": "stream",
          "text": [
            "itemsize: 8 bytes\n",
            "nbytes: 480 bytes\n"
          ],
          "name": "stdout"
        }
      ]
    },
    {
      "cell_type": "markdown",
      "metadata": {
        "id": "EjugYaD5HfQl",
        "colab_type": "text"
      },
      "source": [
        "En general, esperamos que  <code>nbytes </code> sea igual a  <code>itemsize </code>  por  <code>size </code>."
      ]
    },
    {
      "cell_type": "code",
      "metadata": {
        "id": "60cMP_eHJ1Xs",
        "colab_type": "code",
        "outputId": "804bcf0b-3003-4b4e-adf3-65ff0e1034a4",
        "colab": {
          "base_uri": "https://localhost:8080/",
          "height": 35
        }
      },
      "source": [
        "print(\"El número de bytes que ocupa x3 es:\", x3.itemsize*x3.size, \"bytes\")"
      ],
      "execution_count": 0,
      "outputs": [
        {
          "output_type": "stream",
          "text": [
            "El número de bytes que ocupa x3 es: 480 bytes\n"
          ],
          "name": "stdout"
        }
      ]
    },
    {
      "cell_type": "markdown",
      "metadata": {
        "id": "BEe6fe-PzXBf",
        "colab_type": "text"
      },
      "source": [
        "<p><a name=\"arraysIDX\"></a></p>\n",
        "\n",
        "### 2.3.2. Indexado\n",
        "\n",
        "[[Contenidos]](#contents)\n",
        "\n",
        "Al igual que en las librerias estándar de Python, se puede acceder a la i-ésima componente de un array especificando el índice deseado entre []"
      ]
    },
    {
      "cell_type": "code",
      "metadata": {
        "id": "X7-kPWAbI_Sq",
        "colab_type": "code",
        "outputId": "131caece-e558-4399-f799-9fdcc3c3914b",
        "colab": {
          "base_uri": "https://localhost:8080/",
          "height": 54
        }
      },
      "source": [
        "print(x1)\n",
        "\n",
        "print(x1[0])"
      ],
      "execution_count": 0,
      "outputs": [
        {
          "output_type": "stream",
          "text": [
            "[8 0 0 4 4 9]\n",
            "8\n"
          ],
          "name": "stdout"
        }
      ]
    },
    {
      "cell_type": "markdown",
      "metadata": {
        "id": "rCjdMfYHKBxm",
        "colab_type": "text"
      },
      "source": [
        "En un array multidimensional, se accede a los elementos utilizando una tupla de índices separados por comas"
      ]
    },
    {
      "cell_type": "code",
      "metadata": {
        "id": "5JDno9bhKRCS",
        "colab_type": "code",
        "outputId": "ef7da232-dfd5-4db2-97cc-d14dcf257ccd",
        "colab": {
          "base_uri": "https://localhost:8080/",
          "height": 90
        }
      },
      "source": [
        "print(x2)\n",
        "\n",
        "print(x2[0,1])"
      ],
      "execution_count": 0,
      "outputs": [
        {
          "output_type": "stream",
          "text": [
            "[[4 7 2 1]\n",
            " [4 9 3 8]\n",
            " [3 2 0 3]]\n",
            "7\n"
          ],
          "name": "stdout"
        }
      ]
    },
    {
      "cell_type": "markdown",
      "metadata": {
        "id": "H03qUs3PLdRP",
        "colab_type": "text"
      },
      "source": [
        "Recordemos que los arrays en NumPy tiene un tipo fijo. Si intentamos insertar un número de tipo flotante en un array de tipo entero, el valor se truncará"
      ]
    },
    {
      "cell_type": "code",
      "metadata": {
        "id": "Nchf3cKTLpJE",
        "colab_type": "code",
        "outputId": "fb8ead50-3770-4602-b6f5-f69336b2dada",
        "colab": {
          "base_uri": "https://localhost:8080/",
          "height": 35
        }
      },
      "source": [
        "x1[0] = 3.1415\n",
        "print(x1)"
      ],
      "execution_count": 0,
      "outputs": [
        {
          "output_type": "stream",
          "text": [
            "[3 0 0 4 4 9]\n"
          ],
          "name": "stdout"
        }
      ]
    },
    {
      "cell_type": "markdown",
      "metadata": {
        "id": "tpxd_MBXXebw",
        "colab_type": "text"
      },
      "source": [
        "En el caso tridimensional"
      ]
    },
    {
      "cell_type": "code",
      "metadata": {
        "id": "ng-oz5ObXd_s",
        "colab_type": "code",
        "outputId": "42aca0c0-4a63-417e-ff79-eed787a69d1f",
        "colab": {
          "base_uri": "https://localhost:8080/",
          "height": 363
        }
      },
      "source": [
        "print(x3,\"\\n\")\n",
        "\n",
        "print(\"Dos formas de acceder al mismo elemento: \\n\")\n",
        "print(\"x3[1][1][0] =\", x3[1][1][0])\n",
        "print(\"x3[1,1,0] =\", x3[1,1,0])"
      ],
      "execution_count": 0,
      "outputs": [
        {
          "output_type": "stream",
          "text": [
            "[[[4 7 3 7 3]\n",
            "  [9 1 5 2 5]\n",
            "  [9 3 1 6 8]\n",
            "  [9 7 9 4 7]]\n",
            "\n",
            " [[2 8 7 2 3]\n",
            "  [9 0 6 2 7]\n",
            "  [5 1 3 6 0]\n",
            "  [0 6 7 7 7]]\n",
            "\n",
            " [[3 2 2 1 7]\n",
            "  [5 1 3 4 2]\n",
            "  [4 2 3 1 4]\n",
            "  [5 2 7 7 2]]] \n",
            "\n",
            "Dos formas de acceder al mismo elemento: \n",
            "\n",
            "x3[1][1][0] = 9\n",
            "x3[1,1,0] = 9\n"
          ],
          "name": "stdout"
        }
      ]
    },
    {
      "cell_type": "code",
      "metadata": {
        "id": "Ga5yVhZO2GZ8",
        "colab_type": "code",
        "outputId": "0e6794e3-d5d9-4e74-f64a-604d1b22fd03",
        "colab": {
          "base_uri": "https://localhost:8080/",
          "height": 72
        }
      },
      "source": [
        "x2"
      ],
      "execution_count": 0,
      "outputs": [
        {
          "output_type": "execute_result",
          "data": {
            "text/plain": [
              "array([[4, 7, 2, 1],\n",
              "       [4, 9, 3, 8],\n",
              "       [3, 2, 0, 3]])"
            ]
          },
          "metadata": {
            "tags": []
          },
          "execution_count": 16
        }
      ]
    },
    {
      "cell_type": "code",
      "metadata": {
        "id": "jkGBlsgl2IEL",
        "colab_type": "code",
        "outputId": "f4422cc0-574c-41d2-87ff-9564fd502ff9",
        "colab": {
          "base_uri": "https://localhost:8080/",
          "height": 35
        }
      },
      "source": [
        "x2[-1,-1]"
      ],
      "execution_count": 0,
      "outputs": [
        {
          "output_type": "execute_result",
          "data": {
            "text/plain": [
              "3"
            ]
          },
          "metadata": {
            "tags": []
          },
          "execution_count": 17
        }
      ]
    },
    {
      "cell_type": "markdown",
      "metadata": {
        "id": "ef1KZw0JBfCK",
        "colab_type": "text"
      },
      "source": [
        "<p><a name=\"arraysSLI\"></a></p>\n",
        "\n",
        "### 2.3.3. Segmentación\n",
        "\n",
        "[[Contenidos]](#contents)\n",
        "\n",
        "La sintaxis de segmentación NumPy sigue la de la lista estándar de Python: <code>x[inicio:final:paso]</code>"
      ]
    },
    {
      "cell_type": "code",
      "metadata": {
        "id": "F1UB_I8MNtvx",
        "colab_type": "code",
        "outputId": "264100fe-bcc6-46ca-8607-4e645ac4bd21",
        "colab": {
          "base_uri": "https://localhost:8080/",
          "height": 145
        }
      },
      "source": [
        "x = np.arange(10)     \n",
        "\n",
        "print(x)\n",
        "\n",
        "print('Primeros cinco elementos ',x[:5])\n",
        "\n",
        "print('Elementos luego del índice 5 ',x[5:])\n",
        "\n",
        "print('Subarray medio ',x[4:7])\n",
        "\n",
        "print('Subarray medio2', x[4:-3])\n",
        "\n",
        "print('Elementos separados por dos índices ',x[::2])\n",
        "\n",
        "print('Elementos separados por dos índices comenzando en el índice 1 ',x[1::2])"
      ],
      "execution_count": 0,
      "outputs": [
        {
          "output_type": "stream",
          "text": [
            "[0 1 2 3 4 5 6 7 8 9]\n",
            "Primeros cinco elementos  [0 1 2 3 4]\n",
            "Elementos luego del índice 5  [5 6 7 8 9]\n",
            "Subarray medio  [4 5 6]\n",
            "Subarray medio2 [4 5 6]\n",
            "Elementos separados por dos índices  [0 2 4 6 8]\n",
            "Elementos separados por dos índices comenzando en el índice 1  [1 3 5 7 9]\n"
          ],
          "name": "stdout"
        }
      ]
    },
    {
      "cell_type": "code",
      "metadata": {
        "id": "nsf7P0Jx2W7o",
        "colab_type": "code",
        "outputId": "142f0afb-19f8-4c67-ddf9-e39fd9633569",
        "colab": {
          "base_uri": "https://localhost:8080/",
          "height": 35
        }
      },
      "source": [
        "x[-3]"
      ],
      "execution_count": 0,
      "outputs": [
        {
          "output_type": "execute_result",
          "data": {
            "text/plain": [
              "7"
            ]
          },
          "metadata": {
            "tags": []
          },
          "execution_count": 19
        }
      ]
    },
    {
      "cell_type": "markdown",
      "metadata": {
        "id": "3IxyCwGgP1BE",
        "colab_type": "text"
      },
      "source": [
        "Un caso potencialmente confuso es cuando el valor del paso es negativo. En este caso, los valores predeterminados para <code>inicio</code> y \n",
        "<code>final</code> se intercambian."
      ]
    },
    {
      "cell_type": "code",
      "metadata": {
        "id": "F_kJNMyNP8bs",
        "colab_type": "code",
        "outputId": "4ee056df-bb48-444f-d977-c025be9327e5",
        "colab": {
          "base_uri": "https://localhost:8080/",
          "height": 54
        }
      },
      "source": [
        "print(x[::-1])      # Se reversan todos los elementos \n",
        "\n",
        "print(x[5::-2])     # Se reversan los elementos desde el índice 5 con paso 2 "
      ],
      "execution_count": 0,
      "outputs": [
        {
          "output_type": "stream",
          "text": [
            "[9 8 7 6 5 4 3 2 1 0]\n",
            "[5 3 1]\n"
          ],
          "name": "stdout"
        }
      ]
    },
    {
      "cell_type": "markdown",
      "metadata": {
        "id": "fuenNeduPVP2",
        "colab_type": "text"
      },
      "source": [
        "Para los arrays multidimensionales la segmentación se hace de una manera similar, por ejemplo:"
      ]
    },
    {
      "cell_type": "code",
      "metadata": {
        "id": "YAVT_c6PPJG-",
        "colab_type": "code",
        "outputId": "14f1746e-8b23-49d6-d580-4713b48228a0",
        "colab": {
          "base_uri": "https://localhost:8080/",
          "height": 290
        }
      },
      "source": [
        "print(x2)\n",
        "\n",
        "print('Dos filas, tres columnas')\n",
        "print(x2[:2, :3])  \n",
        "\n",
        "print('Todas las filas, dos columnas')\n",
        "print(x2[:, :2])      \n",
        "\n",
        "print('Dos filas, el resto de columnas con paso 2')\n",
        "print(x2[:2, ::2])        \n",
        "\n",
        "print('Primera fila')\n",
        "print(x2[0])"
      ],
      "execution_count": 0,
      "outputs": [
        {
          "output_type": "stream",
          "text": [
            "[[4 7 2 1]\n",
            " [4 9 3 8]\n",
            " [3 2 0 3]]\n",
            "Dos filas, tres columnas\n",
            "[[4 7 2]\n",
            " [4 9 3]]\n",
            "Todas las filas, dos columnas\n",
            "[[4 7]\n",
            " [4 9]\n",
            " [3 2]]\n",
            "Dos filas, el resto de columnas con paso 2\n",
            "[[4 2]\n",
            " [4 3]]\n",
            "Primera fila\n",
            "[4 7 2 1]\n"
          ],
          "name": "stdout"
        }
      ]
    },
    {
      "cell_type": "code",
      "metadata": {
        "id": "gm-aZkm6VBQE",
        "colab_type": "code",
        "outputId": "d32d2eca-d973-4e29-fd09-53259baf8bb8",
        "colab": {
          "base_uri": "https://localhost:8080/",
          "height": 435
        }
      },
      "source": [
        "print(x3)\n",
        "\n",
        "print('Tercer array, dos filas y tres columnas')\n",
        "print(x3[2,:2,:3])\n",
        "\n",
        "print('Hasta el 2do array, dos filas y dos columnas')\n",
        "print(x3[:2,:2,:2])"
      ],
      "execution_count": 0,
      "outputs": [
        {
          "output_type": "stream",
          "text": [
            "[[[4 7 3 7 3]\n",
            "  [9 1 5 2 5]\n",
            "  [9 3 1 6 8]\n",
            "  [9 7 9 4 7]]\n",
            "\n",
            " [[2 8 7 2 3]\n",
            "  [9 0 6 2 7]\n",
            "  [5 1 3 6 0]\n",
            "  [0 6 7 7 7]]\n",
            "\n",
            " [[3 2 2 1 7]\n",
            "  [5 1 3 4 2]\n",
            "  [4 2 3 1 4]\n",
            "  [5 2 7 7 2]]]\n",
            "Tercer array, dos filas y tres columnas\n",
            "[[3 2 2]\n",
            " [5 1 3]]\n",
            "Hasta el 2do array, dos filas y dos columnas\n",
            "[[[4 7]\n",
            "  [9 1]]\n",
            "\n",
            " [[2 8]\n",
            "  [9 0]]]\n"
          ],
          "name": "stdout"
        }
      ]
    },
    {
      "cell_type": "markdown",
      "metadata": {
        "id": "CM0OAc5wa4-t",
        "colab_type": "text"
      },
      "source": [
        "Es importante tener en cuenta que la segmentación de arrays en NumPy devuelve *vistas*  en lugar de *copias* de los datos del array. Esto significa que cuando trabajamos con grandes conjuntos de datos, podemos acceder y procesar partes de estos conjuntos de datos sin la necesidad de copiar el búfer de datos subyacente."
      ]
    },
    {
      "cell_type": "code",
      "metadata": {
        "id": "e2OuvZBr2-jL",
        "colab_type": "code",
        "colab": {}
      },
      "source": [
        "x = np.arange(10)"
      ],
      "execution_count": 0,
      "outputs": []
    },
    {
      "cell_type": "code",
      "metadata": {
        "id": "x_0f2lRc3Lgb",
        "colab_type": "code",
        "outputId": "155336f9-3273-4fde-fa76-ed332a026bdc",
        "colab": {
          "base_uri": "https://localhost:8080/",
          "height": 35
        }
      },
      "source": [
        "x"
      ],
      "execution_count": 0,
      "outputs": [
        {
          "output_type": "execute_result",
          "data": {
            "text/plain": [
              "array([0, 1, 2, 3, 4, 5, 6, 7, 8, 9])"
            ]
          },
          "metadata": {
            "tags": []
          },
          "execution_count": 24
        }
      ]
    },
    {
      "cell_type": "code",
      "metadata": {
        "id": "bVtWoEXk3TaK",
        "colab_type": "code",
        "outputId": "9f4c4d92-2818-4e06-8705-e0bb44ff0fbc",
        "colab": {
          "base_uri": "https://localhost:8080/",
          "height": 35
        }
      },
      "source": [
        "x[1:5]"
      ],
      "execution_count": 0,
      "outputs": [
        {
          "output_type": "execute_result",
          "data": {
            "text/plain": [
              "array([1, 2, 3, 4])"
            ]
          },
          "metadata": {
            "tags": []
          },
          "execution_count": 25
        }
      ]
    },
    {
      "cell_type": "code",
      "metadata": {
        "id": "TFL8OIDw29sq",
        "colab_type": "code",
        "outputId": "776ffa81-3627-4b47-cf6f-2dacd69a1d9b",
        "colab": {
          "base_uri": "https://localhost:8080/",
          "height": 35
        }
      },
      "source": [
        "x"
      ],
      "execution_count": 0,
      "outputs": [
        {
          "output_type": "execute_result",
          "data": {
            "text/plain": [
              "array([0, 1, 2, 3, 4, 5, 6, 7, 8, 9])"
            ]
          },
          "metadata": {
            "tags": []
          },
          "execution_count": 26
        }
      ]
    },
    {
      "cell_type": "code",
      "metadata": {
        "id": "3Y89Onz1bO1h",
        "colab_type": "code",
        "outputId": "b281bebb-2629-4a01-9b37-740df4ff7e65",
        "colab": {
          "base_uri": "https://localhost:8080/",
          "height": 272
        }
      },
      "source": [
        "print('Array original \\n',x2)\n",
        "\n",
        "sub_array = x2[:2,:2]\n",
        "print('sub array \\n',sub_array)\n",
        "\n",
        "sub_array[0,0] = 5\n",
        "print('sub array mod \\n',sub_array)\n",
        "\n",
        "print('Array luego de modificar el subarray \\n',x2)"
      ],
      "execution_count": 0,
      "outputs": [
        {
          "output_type": "stream",
          "text": [
            "Array original \n",
            " [[4 7 2 1]\n",
            " [4 9 3 8]\n",
            " [3 2 0 3]]\n",
            "sub array \n",
            " [[4 7]\n",
            " [4 9]]\n",
            "sub array mod \n",
            " [[5 7]\n",
            " [4 9]]\n",
            "Array luego de modificar el subarray \n",
            " [[5 7 2 1]\n",
            " [4 9 3 8]\n",
            " [3 2 0 3]]\n"
          ],
          "name": "stdout"
        }
      ]
    },
    {
      "cell_type": "code",
      "metadata": {
        "id": "nPIvvLl43v0G",
        "colab_type": "code",
        "outputId": "54e4503c-fad1-4efd-b7df-b8ba6130251b",
        "colab": {
          "base_uri": "https://localhost:8080/",
          "height": 72
        }
      },
      "source": [
        "x2"
      ],
      "execution_count": 0,
      "outputs": [
        {
          "output_type": "execute_result",
          "data": {
            "text/plain": [
              "array([[5, 7, 2, 1],\n",
              "       [4, 9, 3, 8],\n",
              "       [3, 2, 0, 3]])"
            ]
          },
          "metadata": {
            "tags": []
          },
          "execution_count": 28
        }
      ]
    },
    {
      "cell_type": "markdown",
      "metadata": {
        "id": "ztGzf48tb4U5",
        "colab_type": "text"
      },
      "source": [
        "A veces es útil copiar explícitamente los datos dentro de un array o un  subarray. Esto se puede hacer más fácilmente con el\n",
        "método <code>copy()</code>"
      ]
    },
    {
      "cell_type": "code",
      "metadata": {
        "id": "DkFK83b5denr",
        "colab_type": "code",
        "outputId": "94213ab1-b0c1-473d-f2f1-8e9f8ccb9a92",
        "colab": {
          "base_uri": "https://localhost:8080/",
          "height": 126
        }
      },
      "source": [
        "sub_array_copia = x2[:2,:2].copy()\n",
        "sub_array_copia[0,0] = 20\n",
        "\n",
        "print(sub_array_copia)\n",
        "print(5*'-')\n",
        "print(x2)"
      ],
      "execution_count": 0,
      "outputs": [
        {
          "output_type": "stream",
          "text": [
            "[[20  7]\n",
            " [ 4  9]]\n",
            "-----\n",
            "[[5 7 2 1]\n",
            " [4 9 3 8]\n",
            " [3 2 0 3]]\n"
          ],
          "name": "stdout"
        }
      ]
    },
    {
      "cell_type": "markdown",
      "metadata": {
        "id": "9Ez4uourB6CM",
        "colab_type": "text"
      },
      "source": [
        "<p><a name=\"arraysRES\"></a></p>\n",
        "\n",
        "### 2.3.4. Reshape\n",
        "\n",
        "[[Contenidos]](#contents)\n",
        "\n",
        "Otro tipo útil de operación es el \"reshape\" de arrays. La forma más flexible de hacerlo es con el método <code>reshape()</code>. \n",
        "\n"
      ]
    },
    {
      "cell_type": "code",
      "metadata": {
        "id": "gwJ2emt68ObB",
        "colab_type": "code",
        "outputId": "364cad45-2350-49ba-fd52-b96e745fb6b3",
        "colab": {
          "base_uri": "https://localhost:8080/",
          "height": 90
        }
      },
      "source": [
        "grilla = np.arange(1, 10).reshape((3, 3))            \n",
        "print(grilla)\n",
        "\n",
        "a = np.array([[1,2,3], [4,5,6]]).reshape(1,6)\n",
        "print(a)"
      ],
      "execution_count": 0,
      "outputs": [
        {
          "output_type": "stream",
          "text": [
            "[[1 2 3]\n",
            " [4 5 6]\n",
            " [7 8 9]]\n",
            "[[1 2 3 4 5 6]]\n"
          ],
          "name": "stdout"
        }
      ]
    },
    {
      "cell_type": "markdown",
      "metadata": {
        "id": "tLcXP-5n9KQ3",
        "colab_type": "text"
      },
      "source": [
        "Podemos convertir un array unidimensional en un vector fila o columna bidimensional \n",
        "\n"
      ]
    },
    {
      "cell_type": "code",
      "metadata": {
        "id": "6Livw21U9TBQ",
        "colab_type": "code",
        "outputId": "3da062bc-b667-45b8-b539-4e0656cc6ca9",
        "colab": {
          "base_uri": "https://localhost:8080/",
          "height": 108
        }
      },
      "source": [
        "x = np.array([1,2,3])\n",
        "\n",
        "fil_x = x.reshape((1,3))    # vector fila\n",
        "col_x = x.reshape((3,1))    # vector columna\n",
        "\n",
        "print(x)\n",
        "print(fil_x)\n",
        "print(col_x)"
      ],
      "execution_count": 0,
      "outputs": [
        {
          "output_type": "stream",
          "text": [
            "[1 2 3]\n",
            "[[1 2 3]]\n",
            "[[1]\n",
            " [2]\n",
            " [3]]\n"
          ],
          "name": "stdout"
        }
      ]
    },
    {
      "cell_type": "markdown",
      "metadata": {
        "id": "HpobXl09HLRj",
        "colab_type": "text"
      },
      "source": [
        "<p><a name=\"arraysCON\"></a></p>\n",
        "\n",
        "### 2.2.5. Concatenación y división de arrays\n",
        "\n",
        "[[Contenidos]](#contents)\n",
        "\n",
        "Todas las rutinas anteriores funcionaron en arrays individuales. También es posible combinar varios arrays en uno solo o, por el contrario, dividir un array en varios. La concatenación, o unión de dos arrays en NumPy, se realiza principalmente a través de la rutina <code>np.concatenate</code>\n"
      ]
    },
    {
      "cell_type": "code",
      "metadata": {
        "id": "nRpkEwBSIU7e",
        "colab_type": "code",
        "outputId": "1fc73ec6-1579-4593-8e83-ffcd8cb4625c",
        "colab": {
          "base_uri": "https://localhost:8080/",
          "height": 35
        }
      },
      "source": [
        "x = np.array([1, 2, 3])\n",
        "y = np.array([3, 2, 1])\n",
        "z = np.concatenate([x, y])\n",
        "print(z)"
      ],
      "execution_count": 0,
      "outputs": [
        {
          "output_type": "stream",
          "text": [
            "[1 2 3 3 2 1]\n"
          ],
          "name": "stdout"
        }
      ]
    },
    {
      "cell_type": "markdown",
      "metadata": {
        "id": "BhwiTVYzItHY",
        "colab_type": "text"
      },
      "source": [
        "\n",
        "También se puede utilizar para arrays bidimensionales"
      ]
    },
    {
      "cell_type": "code",
      "metadata": {
        "id": "ImZZ9zIVIz-z",
        "colab_type": "code",
        "outputId": "eabe8a5b-f372-4bcd-f9e2-b0c1d4796857",
        "colab": {
          "base_uri": "https://localhost:8080/",
          "height": 145
        }
      },
      "source": [
        "grilla = np.array([[1, 2, 3], [4, 5, 6]])\n",
        "\n",
        "z1 = np.concatenate([grilla,grilla])            # concatenar a lo largo del primer eje\n",
        "print(z1)\n",
        "print(5*'-')\n",
        "z2 = np.concatenate([grilla,grilla], axis=1)    # concatenar a lo largo del segundo eje\n",
        "print(z2)"
      ],
      "execution_count": 0,
      "outputs": [
        {
          "output_type": "stream",
          "text": [
            "[[1 2 3]\n",
            " [4 5 6]\n",
            " [1 2 3]\n",
            " [4 5 6]]\n",
            "-----\n",
            "[[1 2 3 1 2 3]\n",
            " [4 5 6 4 5 6]]\n"
          ],
          "name": "stdout"
        }
      ]
    },
    {
      "cell_type": "markdown",
      "metadata": {
        "id": "6gC3eowqKuKY",
        "colab_type": "text"
      },
      "source": [
        "Para trabajar con arrays de dimensiones mixtas, puede ser más claro usar las funciones  <code>np.vstack</code> y <code>np.hstack</code>. \n"
      ]
    },
    {
      "cell_type": "code",
      "metadata": {
        "id": "Tu-Dla5nK-zh",
        "colab_type": "code",
        "outputId": "d4fb9c92-8c05-412c-9dd7-1dd18a3909ad",
        "colab": {
          "base_uri": "https://localhost:8080/",
          "height": 126
        }
      },
      "source": [
        "# Apilar verticalmente los arrays\n",
        "x = np.array([11, 22, 33])\n",
        "z1 = np.vstack([x,grilla])\n",
        "print(z1)\n",
        "\n",
        "print(5*'-')\n",
        "# Apilar horizontalmente los arrays\n",
        "y = np.array([[99], [99]])\n",
        "z2 = np.hstack([grilla, y])\n",
        "print(z2)"
      ],
      "execution_count": 0,
      "outputs": [
        {
          "output_type": "stream",
          "text": [
            "[[11 22 33]\n",
            " [ 1  2  3]\n",
            " [ 4  5  6]]\n",
            "-----\n",
            "[[ 1  2  3 99]\n",
            " [ 4  5  6 99]]\n"
          ],
          "name": "stdout"
        }
      ]
    },
    {
      "cell_type": "markdown",
      "metadata": {
        "id": "463MK3SkNX3D",
        "colab_type": "text"
      },
      "source": [
        "Lo opuesto a la concatenación es la división, que se implementa mediante las funciones <code>np.split</code>, <code>np.hsplit</code> y <code>np.vsplit</code>\n"
      ]
    },
    {
      "cell_type": "code",
      "metadata": {
        "id": "yysGRkhaNlc7",
        "colab_type": "code",
        "outputId": "53e1e4fe-5a55-4559-8cef-d83dbda492aa",
        "colab": {
          "base_uri": "https://localhost:8080/",
          "height": 54
        }
      },
      "source": [
        "x = [1, 2, 3, 99, 99, 3, 2, 1]\n",
        "\n",
        "x1, x2, x3 = np.split(x, [3, 5])\n",
        "print(x1, x2, x3)\n",
        "\n",
        "x4, x5 = np.split(x, [3])\n",
        "print(x4, x5)"
      ],
      "execution_count": 0,
      "outputs": [
        {
          "output_type": "stream",
          "text": [
            "[1 2 3] [99 99] [3 2 1]\n",
            "[1 2 3] [99 99  3  2  1]\n"
          ],
          "name": "stdout"
        }
      ]
    },
    {
      "cell_type": "markdown",
      "metadata": {
        "colab_type": "text",
        "id": "jDAhKsOXd9VI"
      },
      "source": [
        "Note que las funciones `np.hsplit` y `np.vsplit` son similares"
      ]
    },
    {
      "cell_type": "code",
      "metadata": {
        "id": "iN0f1cVvN4Zj",
        "colab_type": "code",
        "outputId": "f57f9b0c-9b72-485a-b0b8-8f26a9c9dc03",
        "colab": {
          "base_uri": "https://localhost:8080/",
          "height": 108
        }
      },
      "source": [
        "grilla = np.arange(16).reshape((4, 4))\n",
        "\n",
        "sup, inf = np.vsplit(grilla, [2])\n",
        "print(sup)\n",
        "print(5*'-')\n",
        "print(inf)"
      ],
      "execution_count": 0,
      "outputs": [
        {
          "output_type": "stream",
          "text": [
            "[[0 1 2 3]\n",
            " [4 5 6 7]]\n",
            "-----\n",
            "[[ 8  9 10 11]\n",
            " [12 13 14 15]]\n"
          ],
          "name": "stdout"
        }
      ]
    },
    {
      "cell_type": "code",
      "metadata": {
        "id": "GTbRCocjOS_R",
        "colab_type": "code",
        "outputId": "7233f2bd-1408-4872-f406-f7337691649d",
        "colab": {
          "base_uri": "https://localhost:8080/",
          "height": 181
        }
      },
      "source": [
        "izq, der = np.hsplit(grilla, [2])\n",
        "print(izq)\n",
        "print(5*'-')\n",
        "print(der)"
      ],
      "execution_count": 0,
      "outputs": [
        {
          "output_type": "stream",
          "text": [
            "[[ 0  1]\n",
            " [ 4  5]\n",
            " [ 8  9]\n",
            " [12 13]]\n",
            "-----\n",
            "[[ 2  3]\n",
            " [ 6  7]\n",
            " [10 11]\n",
            " [14 15]]\n"
          ],
          "name": "stdout"
        }
      ]
    },
    {
      "cell_type": "markdown",
      "metadata": {
        "id": "4CFfCTUfg-EH",
        "colab_type": "text"
      },
      "source": [
        "<p><a name=\"arrayMath\"></a></p>\n",
        "\n",
        "## 2.4. Operaciones entre arrays \n",
        "\n",
        "[[Contenidos]](#contents)\n",
        "\n",
        "### 2.4.1. Operaciones vectorizadas\n",
        "\n",
        "El cálculo con arrays en NumPy puede ser muy rápido o muy lento. La clave para hacerlo rápido es usar operaciones *vectorizadas*, generalmente implementadas a través de las funciones universales de NumPy (ufuncs)"
      ]
    },
    {
      "cell_type": "code",
      "metadata": {
        "id": "XJNXfC8J8A_O",
        "colab_type": "code",
        "outputId": "f5df42ea-5422-45bd-ab94-8411b55d1d8b",
        "colab": {
          "base_uri": "https://localhost:8080/",
          "height": 54
        }
      },
      "source": [
        "def compute_reciprocals(values):\n",
        "  output = np.empty(len(values))\n",
        "  for i in range(len(values)):\n",
        "    output[i] = 1.0 / values[i]\n",
        "  return output\n",
        "\n",
        "big_array = np.random.randint(1, 100, size=1000000) \n",
        "\n",
        "\n",
        "%timeit compute_reciprocals(big_array)          # calculo en loop\n",
        "\n",
        "%timeit (1.0 / big_array)                       # calculo vectorizado"
      ],
      "execution_count": 0,
      "outputs": [
        {
          "output_type": "stream",
          "text": [
            "1 loop, best of 3: 2.41 s per loop\n",
            "100 loops, best of 3: 2.84 ms per loop\n"
          ],
          "name": "stdout"
        }
      ]
    },
    {
      "cell_type": "markdown",
      "metadata": {
        "id": "FM8EdbgL-4QG",
        "colab_type": "text"
      },
      "source": [
        "Las operaciones vectorizadas en NumPy se implementan a través de las ufuncs, cuyo objetivo principal es ejecutar rápidamente operaciones de forma repetida sobre valores de arrays. Las operaciones con ufuncs no se limitan a arrays unidimensionales, sino que también pueden actuar sobre arrays multidimensionales "
      ]
    },
    {
      "cell_type": "code",
      "metadata": {
        "id": "xyfbKnVC_mW0",
        "colab_type": "code",
        "outputId": "ee70b910-9de3-4481-f9b9-826d70f4b8ca",
        "colab": {
          "base_uri": "https://localhost:8080/",
          "height": 108
        }
      },
      "source": [
        "print(np.arange(5) / np.arange(1, 6))         # Operación sobre array unidimensional\n",
        "\n",
        "print(5*'-')\n",
        "x = np.arange(9).reshape((3, 3))              # Operación sobre array multidimensional\n",
        "print(2**x)"
      ],
      "execution_count": 0,
      "outputs": [
        {
          "output_type": "stream",
          "text": [
            "[0.         0.5        0.66666667 0.75       0.8       ]\n",
            "-----\n",
            "[[  1   2   4]\n",
            " [  8  16  32]\n",
            " [ 64 128 256]]\n"
          ],
          "name": "stdout"
        }
      ]
    },
    {
      "cell_type": "markdown",
      "metadata": {
        "id": "d-jGhCb5Aayf",
        "colab_type": "text"
      },
      "source": [
        "Los cálculos que usan vectorización a través de ufuncs son casi siempre más eficientes que su contraparte implementada a través de ciclos, especialmente a medida que los arrays crecen en tamaño. Cada vez que se vea un ciclo de este tipo en un script de Python, debe considerarse si este puede reemplazarse con una expresión vectorizada."
      ]
    },
    {
      "cell_type": "markdown",
      "metadata": {
        "id": "Nbkpq8HPU_Jl",
        "colab_type": "text"
      },
      "source": [
        "**Definición:** En el contexto de lenguajes de alto nivel como Python, MATLAB o R, el término **vectorización** representa el uso de código optimizado y precompilado escritos en lenguajes de bajo nivel (por ejemplo C) para realizar operaciones matemáticas en una secuencia de datos. Esto se realiza en lugar de una iteración explicita escrita en código nativo."
      ]
    },
    {
      "cell_type": "markdown",
      "metadata": {
        "id": "59bWwCsfAzGH",
        "colab_type": "text"
      },
      "source": [
        "### 2.4.2. Ufuncs\n",
        "\n",
        "https://docs.scipy.org/doc/numpy/reference/ufuncs.html"
      ]
    },
    {
      "cell_type": "code",
      "metadata": {
        "id": "sdFATPpfCEk6",
        "colab_type": "code",
        "outputId": "38f2db86-5075-44a8-bf56-8f2176ad3b0f",
        "colab": {
          "base_uri": "https://localhost:8080/",
          "height": 290
        }
      },
      "source": [
        "x = np.arange(1,5)\n",
        "print(x)\n",
        "\n",
        "# Operadores aritméticos\n",
        "print('x+2 ',np.add(x,2))\n",
        "print('x-2 ',np.subtract(x,2))\n",
        "print('-x ',np.negative(x))\n",
        "print('x*2 ',np.multiply(x,2))\n",
        "print('x/2 ',np.divide(x,2))\n",
        "print('x^2 ',np.power(x,2))\n",
        "\n",
        "# Funciones trigonométricas\n",
        "theta = np.linspace(0,np.pi,3)\n",
        "\n",
        "print('sin(theta)',np.sin(theta))\n",
        "print('cos(theta)',np.cos(theta))\n",
        "\n",
        "# Exponenciales y logaritmos\n",
        "print(\"e^x =\", np.exp(x))\n",
        "print(\"2^x =\", np.exp2(x))\n",
        "print(\"3^x =\", np.power(3, x))\n",
        "\n",
        "print(\"ln(x) =\", np.log(x))\n",
        "print(\"log2(x) =\", np.log2(x))\n",
        "print(\"log10(x) =\", np.log10(x))"
      ],
      "execution_count": 0,
      "outputs": [
        {
          "output_type": "stream",
          "text": [
            "[1 2 3 4]\n",
            "x+2  [3 4 5 6]\n",
            "x-2  [-1  0  1  2]\n",
            "-x  [-1 -2 -3 -4]\n",
            "x*2  [2 4 6 8]\n",
            "x/2  [0.5 1.  1.5 2. ]\n",
            "x^2  [ 1  4  9 16]\n",
            "sin(theta) [0.0000000e+00 1.0000000e+00 1.2246468e-16]\n",
            "cos(theta) [ 1.000000e+00  6.123234e-17 -1.000000e+00]\n",
            "e^x = [ 2.71828183  7.3890561  20.08553692 54.59815003]\n",
            "2^x = [ 2.  4.  8. 16.]\n",
            "3^x = [ 3  9 27 81]\n",
            "ln(x) = [0.         0.69314718 1.09861229 1.38629436]\n",
            "log2(x) = [0.        1.        1.5849625 2.       ]\n",
            "log10(x) = [0.         0.30103    0.47712125 0.60205999]\n"
          ],
          "name": "stdout"
        }
      ]
    },
    {
      "cell_type": "markdown",
      "metadata": {
        "id": "y9M0gTBl61gy",
        "colab_type": "text"
      },
      "source": [
        "### 2.4.3. Operaciones Básicas.\n",
        "\n",
        "Las operaciones matematicas basicas entre arrays, son operaciones elemento a elemento, y estan disponibles, tanto como sobrecarga de operadores como en funciones de la librería de numpy:"
      ]
    },
    {
      "cell_type": "code",
      "metadata": {
        "id": "3WDg1X327shT",
        "colab_type": "code",
        "outputId": "9a925622-06a4-44ba-f68b-b2f490f2c033",
        "colab": {
          "base_uri": "https://localhost:8080/",
          "height": 345
        }
      },
      "source": [
        "x = np.array([[1,2],[3,4]], dtype=np.float64)\n",
        "y = np.array([[5,6],[7,8]], dtype=np.float64)\n",
        "\n",
        "# Suma elemento a elemento\n",
        "print(x + y)\n",
        "print(np.add(x, y))\n",
        "\n",
        "# Resta elemento a elemento.\n",
        "print(x - y)\n",
        "print(np.subtract(x, y))\n",
        "\n",
        "# Multiplicación elemento a elemento.\n",
        "print(x * y)\n",
        "print(np.multiply(x, y))\n",
        "\n",
        "# División elemento a elemento.\n",
        "print(x / y)\n",
        "print(np.divide(x, y))\n",
        "\n",
        "# Raiz cuadrada a cada elmento.\n",
        "print(np.sqrt(x))"
      ],
      "execution_count": 0,
      "outputs": [
        {
          "output_type": "stream",
          "text": [
            "[[ 6.  8.]\n",
            " [10. 12.]]\n",
            "[[ 6.  8.]\n",
            " [10. 12.]]\n",
            "[[-4. -4.]\n",
            " [-4. -4.]]\n",
            "[[-4. -4.]\n",
            " [-4. -4.]]\n",
            "[[ 5. 12.]\n",
            " [21. 32.]]\n",
            "[[ 5. 12.]\n",
            " [21. 32.]]\n",
            "[[0.2        0.33333333]\n",
            " [0.42857143 0.5       ]]\n",
            "[[0.2        0.33333333]\n",
            " [0.42857143 0.5       ]]\n",
            "[[1.         1.41421356]\n",
            " [1.73205081 2.        ]]\n"
          ],
          "name": "stdout"
        }
      ]
    },
    {
      "cell_type": "markdown",
      "metadata": {
        "id": "hjEETdx_8wyF",
        "colab_type": "text"
      },
      "source": [
        "Nótese que la multiplicación mediante el operador `*` corresponde a una multiplicación elemento a elemento entre dos arrays. En Python, la multiplicación matricial entre dos arrays se realiza mediante la función punto (`dot`)."
      ]
    },
    {
      "cell_type": "code",
      "metadata": {
        "colab_type": "code",
        "outputId": "f78404a6-ae5a-4fda-f2e7-3899c0608bc4",
        "id": "GnH9g3-cOS9V",
        "colab": {
          "base_uri": "https://localhost:8080/",
          "height": 290
        }
      },
      "source": [
        "import numpy as np\n",
        "\n",
        "x = np.array([[1,2],[3,4]])\n",
        "y = np.array([[5,6],[7,8]])\n",
        "\n",
        "v = np.array([9,10])\n",
        "w = np.array([11, 12])\n",
        "\n",
        "# Producto entre vectores\n",
        "print(\"Producto vector-vector\",v.dot(w))\n",
        "print(\"Producto vector-vector\", np.dot(v, w),\"\\n\")\n",
        "\n",
        "# Producto matriz/vector;\n",
        "print(\"Producto matriz/vector \\n\",x.dot(v))\n",
        "print(\"Producto matriz/vector \\n\", np.dot(x, v),\"\\n\")\n",
        "\n",
        "# Producto matrix/matrix ; \n",
        "print(\"Producto matriz/matriz \\n\",x.dot(y),\"\\n\")\n",
        "print(\"Producto matriz/matriz \\n\",np.dot(x, y))"
      ],
      "execution_count": 0,
      "outputs": [
        {
          "output_type": "stream",
          "text": [
            "Producto vector-vector 219\n",
            "Producto vector-vector 219 \n",
            "\n",
            "Producto matriz/vector \n",
            " [29 67]\n",
            "Producto matriz/vector \n",
            " [29 67] \n",
            "\n",
            "Producto matriz/matriz \n",
            " [[19 22]\n",
            " [43 50]] \n",
            "\n",
            "Producto matriz/matriz \n",
            " [[19 22]\n",
            " [43 50]]\n"
          ],
          "name": "stdout"
        }
      ]
    },
    {
      "cell_type": "markdown",
      "metadata": {
        "id": "363CkXHPNcXL",
        "colab_type": "text"
      },
      "source": [
        "Python proporciona algunas funciones para realizar operaciones sobre los arrays. \n",
        "Por ejemplo, la función `sum` realiza una suma sobre todos los elementos del array:"
      ]
    },
    {
      "cell_type": "code",
      "metadata": {
        "id": "wDmks3LyNtAI",
        "colab_type": "code",
        "outputId": "88b4c589-210d-4eb4-8d06-a652eee4f94d",
        "colab": {
          "base_uri": "https://localhost:8080/",
          "height": 72
        }
      },
      "source": [
        "import numpy as np\n",
        "\n",
        "x = np.array([[1,2],[3,4]])\n",
        "\n",
        "print(\"Suma total de los elementos del array\", np.sum(x))  # Calculo de la suma de todos los elementos.\n",
        "print(\"Suma de cada columna\",np.sum(x, axis=0))  # Suma de cada columna\n",
        "print(\"Suma de cada fila\",np.sum(x, axis=1))  # Suma de cada fila"
      ],
      "execution_count": 0,
      "outputs": [
        {
          "output_type": "stream",
          "text": [
            "Suma total de los elementos del array 10\n",
            "Suma de cada columna [4 6]\n",
            "Suma de cada fila [3 7]\n"
          ],
          "name": "stdout"
        }
      ]
    },
    {
      "cell_type": "markdown",
      "metadata": {
        "id": "9KxDpyp1PAMS",
        "colab_type": "text"
      },
      "source": [
        "Para más funciones puede consultar [este enlace](https://docs.scipy.org/doc/numpy/reference/routines.math.html)."
      ]
    },
    {
      "cell_type": "markdown",
      "metadata": {
        "id": "NQnxhbtOqZLc",
        "colab_type": "text"
      },
      "source": [
        "<p><a name=\"tnumpy\"></a></p>\n",
        "\n",
        "## 2.6. Taller Numpy\n",
        "\n",
        "[[Contenidos]](#contents)"
      ]
    },
    {
      "cell_type": "markdown",
      "metadata": {
        "id": "SQURPZFUqjo9",
        "colab_type": "text"
      },
      "source": [
        "<div class=\"alert alert-danger alertdanger\" style=\"margin-top: 20px\">\n",
        "<h1> Pregunta #1: </h1>\n",
        "<b>Defina un array de 6x6x6 de floats de 64 bits. Determine cual será la reserva de memoria en bytes necesaria para definir el array y corrobórelo mediante funciones de numpy</b>.\n",
        "</div>"
      ]
    },
    {
      "cell_type": "code",
      "metadata": {
        "id": "YuV9jC_quRsk",
        "colab_type": "code",
        "colab": {}
      },
      "source": [
        "#escriba acá su código"
      ],
      "execution_count": 0,
      "outputs": []
    },
    {
      "cell_type": "markdown",
      "metadata": {
        "id": "bvkn3nrYqvAF",
        "colab_type": "text"
      },
      "source": [
        "<div class=\"alert alert-danger alertdanger\" style=\"margin-top: 20px\">\n",
        "<h1> Respuesta Pregunta #1: </h1>\n",
        "<b>Corra el código a continuación:</b>\n",
        "</div>"
      ]
    },
    {
      "cell_type": "markdown",
      "metadata": {
        "id": "N_49wnbZ8sq6",
        "colab_type": "text"
      },
      "source": [
        "Para ver la solución haga double-click <b>aquí</b>.\n",
        "\n",
        "<!-- La respuesta se encuentra a continuación:\n",
        "\n",
        "import numpy as np\n",
        "a=np.zeros((6,6,6)) #también podría usar np.random.random((6,6,6)) u otros\n",
        "\n",
        "# La cantidad de memoria de memoria necesaria para definir el array sería\n",
        "print(\"Cantidad de memoria necesaría para definir el array\", 8*6*6*6, \"Bytes\")\n",
        "\n",
        "# Corroboración del tamaño requerido mediante funciones de numpy\n",
        "\n",
        "print(\"Bytes almacenados en el array: %d bytes\" % (a.size * a.itemsize))\n",
        "\n",
        "-->"
      ]
    },
    {
      "cell_type": "code",
      "metadata": {
        "id": "k4aP3mF2HDbg",
        "colab_type": "code",
        "outputId": "fb01d7cc-a9cf-4b15-f490-83d520caffc8",
        "colab": {
          "base_uri": "https://localhost:8080/",
          "height": 35
        }
      },
      "source": [
        "6*6*6*8"
      ],
      "execution_count": 0,
      "outputs": [
        {
          "output_type": "execute_result",
          "data": {
            "text/plain": [
              "1728"
            ]
          },
          "metadata": {
            "tags": []
          },
          "execution_count": 48
        }
      ]
    },
    {
      "cell_type": "code",
      "metadata": {
        "id": "ljdgVWJyEZp4",
        "colab_type": "code",
        "outputId": "c524f206-7236-4d3c-b5f8-a5c6f7d79095",
        "colab": {
          "base_uri": "https://localhost:8080/",
          "height": 54
        }
      },
      "source": [
        "a=np.zeros((6,6,6)) #también podría usar np.random.random((6,6,6)) u otros\n",
        "\n",
        "# La cantidad de memoria de memoria necesaria para definir el array sería\n",
        "print(\"Cantidad de memoria necesaría para definir el array\", 8*6*6*6, \"Bytes\")\n",
        "\n",
        "# Corroboración del tamaño requerido mediante funciones de numpy\n",
        "\n",
        "print(\"Bytes almacenados en el array: %d bytes\" % (a.size * a.itemsize))"
      ],
      "execution_count": 0,
      "outputs": [
        {
          "output_type": "stream",
          "text": [
            "Cantidad de memoria necesaría para definir el array 1728 Bytes\n",
            "Bytes almacenados en el array: 1728 bytes\n"
          ],
          "name": "stdout"
        }
      ]
    },
    {
      "cell_type": "code",
      "metadata": {
        "id": "62X0eatEEjJX",
        "colab_type": "code",
        "outputId": "fc6a57d0-a7d4-4f74-b158-80426fec8411",
        "colab": {
          "base_uri": "https://localhost:8080/",
          "height": 35
        }
      },
      "source": [
        "a.size"
      ],
      "execution_count": 0,
      "outputs": [
        {
          "output_type": "execute_result",
          "data": {
            "text/plain": [
              "216"
            ]
          },
          "metadata": {
            "tags": []
          },
          "execution_count": 50
        }
      ]
    },
    {
      "cell_type": "code",
      "metadata": {
        "id": "rPbdj_EyEmpJ",
        "colab_type": "code",
        "outputId": "e99ee57b-6a39-4ce8-dd7a-dcd8b9190cc0",
        "colab": {
          "base_uri": "https://localhost:8080/",
          "height": 35
        }
      },
      "source": [
        "a.itemsize"
      ],
      "execution_count": 0,
      "outputs": [
        {
          "output_type": "execute_result",
          "data": {
            "text/plain": [
              "8"
            ]
          },
          "metadata": {
            "tags": []
          },
          "execution_count": 51
        }
      ]
    },
    {
      "cell_type": "markdown",
      "metadata": {
        "id": "RxwB3NJD8g9l",
        "colab_type": "text"
      },
      "source": [
        "<div class=\"alert alert-danger alertdanger\" style=\"margin-top: 20px\">\n",
        "<h1> Pregunta #2: </h1>\n",
        "<b>Realice una comparación entre el tiempo de computo requerido para la sumar todos los elementos de un array mediante el método la función vectorizada de numpy sum en comparación con una suma realizada iterando sobre los elementos del array</b>.\n",
        "</div>"
      ]
    },
    {
      "cell_type": "code",
      "metadata": {
        "id": "b_d0aukwuVTn",
        "colab_type": "code",
        "colab": {}
      },
      "source": [
        "#escriba acá su código"
      ],
      "execution_count": 0,
      "outputs": []
    },
    {
      "cell_type": "markdown",
      "metadata": {
        "id": "eEJG3rtE8Sbu",
        "colab_type": "text"
      },
      "source": [
        "<div class=\"alert alert-danger alertdanger\" style=\"margin-top: 20px\">\n",
        "<h1> Respuesta Pregunta #2: </h1>\n",
        "<b>Corra el código a continuación:</b>\n",
        "</div>"
      ]
    },
    {
      "cell_type": "markdown",
      "metadata": {
        "id": "wYQg_rTJ75y-",
        "colab_type": "text"
      },
      "source": [
        "Para ver la solución haga double-click <b>aquí</b>.\n",
        "\n",
        "<!-- La respuesta se encuentra a continuación:\n",
        "\n",
        "import numpy as np\n",
        "\n",
        "def sumArrayElements(arrayInput):\n",
        "    total = 0\n",
        "    for i in arrayInput:\n",
        "        total += i\n",
        "  \n",
        "    return total\n",
        "  \n",
        "\n",
        "nElements = 100000 \n",
        "\n",
        "totalA = sumArrayElements(np.arange(nElements))\n",
        "print(\"Información de la suma mediante función for:\")\n",
        "%timeit sumArrayElements(np.arange(nElements))\n",
        "print(\"La suma de los elementos es \", str(totalA)+\".\\n\")\n",
        "\n",
        "totalB=np.sum(np.arange(nElements))\n",
        "print(\"Información de la suma mediante función vectorizada sum:\")\n",
        "%timeit np.sum(np.arange(nElements))\n",
        "print(\"La suma de los elementos es \", str(totalB)+\".\\n\")\n",
        "\n",
        "-->"
      ]
    },
    {
      "cell_type": "code",
      "metadata": {
        "id": "n6UF5J4uIZkD",
        "colab_type": "code",
        "colab": {}
      },
      "source": [
        ""
      ],
      "execution_count": 0,
      "outputs": []
    },
    {
      "cell_type": "code",
      "metadata": {
        "id": "NEa3ApdGFm3j",
        "colab_type": "code",
        "outputId": "0725fa44-fc3e-4546-9720-8b18800a4071",
        "colab": {
          "base_uri": "https://localhost:8080/",
          "height": 163
        }
      },
      "source": [
        "import numpy as np\n",
        "def sumArrayElements(arrayInput):\n",
        "    total = 0\n",
        "    for i in arrayInput:\n",
        "        total += i #total=total+i\n",
        "  \n",
        "    return total\n",
        "  \n",
        "\n",
        "nElements = 100000 \n",
        "\n",
        "totalA = sumArrayElements(np.arange(nElements))\n",
        "print(\"Información de la suma mediante función for:\")\n",
        "%timeit sumArrayElements(np.arange(nElements))\n",
        "print(\"La suma de los elementos es \", str(totalA)+\".\\n\")\n",
        "\n",
        "totalB=np.sum(np.arange(nElements))\n",
        "print(\"Información de la suma mediante función vectorizada sum:\")\n",
        "%timeit np.sum(np.arange(nElements))\n",
        "print(\"La suma de los elementos es \", str(totalB)+\".\\n\")"
      ],
      "execution_count": 0,
      "outputs": [
        {
          "output_type": "stream",
          "text": [
            "Información de la suma mediante función for:\n",
            "10 loops, best of 3: 20.3 ms per loop\n",
            "La suma de los elementos es  4999950000.\n",
            "\n",
            "Información de la suma mediante función vectorizada sum:\n",
            "1000 loops, best of 3: 254 µs per loop\n",
            "La suma de los elementos es  4999950000.\n",
            "\n"
          ],
          "name": "stdout"
        }
      ]
    },
    {
      "cell_type": "markdown",
      "metadata": {
        "id": "sRWedwBcq0nG",
        "colab_type": "text"
      },
      "source": [
        "<div class=\"alert alert-danger alertdanger\" style=\"margin-top: 20px\">\n",
        "<h1> Pregunta #3: </h1>\n",
        "<b>Demuestre que la multiplicación de una matriz $A$ de $6\\times6$ por la matriz ideantidad $I$ es igual a la matriz $A$</b>.\n",
        "</div>\n",
        "\n"
      ]
    },
    {
      "cell_type": "code",
      "metadata": {
        "id": "WSKbyRpguYMt",
        "colab_type": "code",
        "colab": {}
      },
      "source": [
        "#escriba acá su código"
      ],
      "execution_count": 0,
      "outputs": []
    },
    {
      "cell_type": "markdown",
      "metadata": {
        "id": "3KrZo30Fr3RH",
        "colab_type": "text"
      },
      "source": [
        "<div class=\"alert alert-danger alertdanger\" style=\"margin-top: 20px\">\n",
        "<h1> Respuesta Pregunta #3: </h1>\n",
        "<b>Corra el código a continuación:</b>\n",
        "</div>\n"
      ]
    },
    {
      "cell_type": "markdown",
      "metadata": {
        "id": "seJp2cPN5sId",
        "colab_type": "text"
      },
      "source": [
        "Para ver la solución haga double-click <b>aquí</b>.\n",
        "\n",
        "<!-- La respuesta se encuentra a continuación:\n",
        "import numpy as np\n",
        "\n",
        "identity = np.eye(6,6)\n",
        "A1 = np.random.rand(6,6)\n",
        "A2 = A1.dot(identity)\n",
        "if A2==A1:\n",
        "    print('se cumple')\n",
        "else:\n",
        "    print('no se cumple')\n",
        "\n",
        "print(\"La matriz A1 es \", A1)\n",
        "print(\"La matriz A2 es \", A2)\n",
        "\n",
        "-->"
      ]
    },
    {
      "cell_type": "markdown",
      "metadata": {
        "id": "iLkJH4010yGI",
        "colab_type": "text"
      },
      "source": [
        "<p><a name=\"matplotlib\"></a></p>\n",
        "\n",
        "# 3. Matplotlib.\n",
        "\n",
        "[[Contenidos]](#contents)\n",
        "\n",
        "\n",
        "matplotlib es la librería principal para la realización de gráficas científicas en Python. Esta librería proporciona funciones para la realizacion de gráficas como mapas, histogramas, gráficas de dispersión, entre otras. La visualización de sus datos y de diferentes aspectos de su analisis puede brindarle una mejor comprensión del problema a tratar. Para mayor información sobre la librería `matplotlib` puede consultar en [este enlace](https://matplotlib.org/index.html).\n",
        "\n"
      ]
    },
    {
      "cell_type": "markdown",
      "metadata": {
        "id": "rE8AzSuaaCde",
        "colab_type": "text"
      },
      "source": [
        "<p><a name=\"mpylab\"></a></p>\n",
        "\n",
        "## 3.1 matplotlib, pyplot y pylab.\n",
        "\n",
        "[[Contenidos]](#contents)\n",
        "\n",
        "\n",
        "\n",
        "1.   `matplotlib`: Cuando se habla de paquete, se habla de todo el paquete de visualización de Python.\n",
        "2.   `pyplot` : corresponde a un módulo de `matplotlib`, el cual permite crear  gráficas de forma rápida y sin necesidad de instanciar figuras o ejes.\n",
        "3.   `pylab` es una módulo poco recomendado para el tratamiento de arrays y gráficas inteacticas, cuyo uso es desaconsejado [en este enlace](https://matthiasbussonnier.com/posts/10-No-PyLab-Thanks.html).\n",
        "\n"
      ]
    },
    {
      "cell_type": "markdown",
      "metadata": {
        "id": "ThjV-GxbYn_r",
        "colab_type": "text"
      },
      "source": [
        "<p><a name=\"plotfunc\"></a></p>\n",
        "\n",
        "## 3.2 Función `plot`.\n",
        "\n",
        "[[Contenidos]](#contents)"
      ]
    },
    {
      "cell_type": "code",
      "metadata": {
        "id": "oAkS2PnSDZh6",
        "colab_type": "code",
        "outputId": "0ebd3e84-bfe3-4360-a0ae-5c41fa3ae6b9",
        "colab": {
          "base_uri": "https://localhost:8080/",
          "height": 299
        }
      },
      "source": [
        "import matplotlib.pyplot as plt\n",
        "\n",
        "# Generar una secuencia de 100 numeros entre -10 y 10 \n",
        "x = np.linspace(-10, 10, 100)\n",
        "# Creamos un arreglo con el seno de éstos números\n",
        "y = np.sin(x)\n",
        "# Generamos una gráfica con x vs y\n",
        "plt.plot(x, y, marker=\"x\")\n",
        "plt.title('Mi primera figura')"
      ],
      "execution_count": 0,
      "outputs": [
        {
          "output_type": "execute_result",
          "data": {
            "text/plain": [
              "Text(0.5, 1.0, 'Mi primera figura')"
            ]
          },
          "metadata": {
            "tags": []
          },
          "execution_count": 56
        },
        {
          "output_type": "display_data",
          "data": {
            "image/png": "[encoded data removed]",
            "text/plain": [
              "<Figure size 432x288 with 1 Axes>"
            ]
          },
          "metadata": {
            "tags": []
          }
        }
      ]
    },
    {
      "cell_type": "markdown",
      "metadata": {
        "id": "QGhkpdwnYBG9",
        "colab_type": "text"
      },
      "source": [
        "Antes de realizar gráficas en usando matplolib, es necesario conocer cada una de las partes de una gráfica, con el fin de acceder facilmente a las funciones que las modifica:"
      ]
    },
    {
      "cell_type": "markdown",
      "metadata": {
        "id": "gYEvMIv2TFSK",
        "colab_type": "text"
      },
      "source": [
        "<a href=\"https://ibb.co/nBCK0rX\"><img src=\"https://i.ibb.co/ScrZxNk/partes-grafica.png\" alt=\"partes-grafica\" border=\"0\"></a>"
      ]
    },
    {
      "cell_type": "markdown",
      "metadata": {
        "id": "yKci4KKLeg8u",
        "colab_type": "text"
      },
      "source": [
        "Podemos representar en una figura, varias gráficas, adicionarle un título y etiquetar las curvas y los ejes"
      ]
    },
    {
      "cell_type": "code",
      "metadata": {
        "id": "-VabNHNiehqd",
        "colab_type": "code",
        "outputId": "4815f6be-ecba-462d-ad98-b18c7ce2fdaa",
        "colab": {
          "base_uri": "https://localhost:8080/",
          "height": 313
        }
      },
      "source": [
        "import numpy as np\n",
        "import matplotlib.pyplot as plt\n",
        "\n",
        "# Coordenadas x y de las gráficas para las funciones seno y coseno\n",
        "x = np.arange(0, 3 * np.pi, 0.1)\n",
        "y_sin = np.sin(x)\n",
        "y_cos = np.cos(x)\n",
        "\n",
        "# Gráfica de los puntos usando matplolib.\n",
        "plt.plot(x, y_sin)\n",
        "plt.plot(x, y_cos, color='k')\n",
        "plt.xlabel('label del eje x')\n",
        "plt.ylabel('label del eje y')\n",
        "plt.title('Funciones seno y coseno')\n",
        "plt.legend(['Seno', 'Coseno'])\n"
      ],
      "execution_count": 0,
      "outputs": [
        {
          "output_type": "execute_result",
          "data": {
            "text/plain": [
              "<matplotlib.legend.Legend at 0x7f79d9b6c588>"
            ]
          },
          "metadata": {
            "tags": []
          },
          "execution_count": 57
        },
        {
          "output_type": "display_data",
          "data": {
            "image/png": "[encoded data removed]",
            "text/plain": [
              "<Figure size 432x288 with 1 Axes>"
            ]
          },
          "metadata": {
            "tags": []
          }
        }
      ]
    },
    {
      "cell_type": "markdown",
      "metadata": {
        "id": "A9eYoSjpncUH",
        "colab_type": "text"
      },
      "source": [
        "Existen casos en los que los datos se presentan en un formato que le permite acceder a variables particulares con mediante una palabra clave. Por ejemplo, con numpy.recarray o pandas.DataFrame:"
      ]
    },
    {
      "cell_type": "code",
      "metadata": {
        "id": "xjBMkaa3nddG",
        "colab_type": "code",
        "outputId": "9cafc9b2-d851-429e-ca4e-3fee771e701e",
        "colab": {
          "base_uri": "https://localhost:8080/",
          "height": 279
        }
      },
      "source": [
        "import matplotlib.pyplot as plt\n",
        "\n",
        "dicc = {'a': np.arange(50),\n",
        "        'c': np.random.randint(0, 50, 50),\n",
        "        'd': np.random.randn(50)}\n",
        "dicc['b'] = dicc['a'] + 10 * np.random.randn(50)\n",
        "dicc['d'] = np.abs(dicc['d']) * 100\n",
        "\n",
        "plt.scatter('a', 'b', c='c', s='d', data=dicc)\n",
        "plt.xlabel('Entrada a')\n",
        "plt.ylabel('Entrada b')\n",
        "plt.show()"
      ],
      "execution_count": 0,
      "outputs": [
        {
          "output_type": "display_data",
          "data": {
            "image/png": "[encoded data removed]",
            "text/plain": [
              "<Figure size 432x288 with 1 Axes>"
            ]
          },
          "metadata": {
            "tags": []
          }
        }
      ]
    },
    {
      "cell_type": "markdown",
      "metadata": {
        "id": "Cqdo4gxOfxxt",
        "colab_type": "text"
      },
      "source": [
        "<p><a name=\"catVars\"></a></p>\n",
        "\n",
        "## 3.3 Gráficas de variables categóricas.\n",
        "\n",
        "[[Contenidos]](#contents)"
      ]
    },
    {
      "cell_type": "code",
      "metadata": {
        "id": "Eb9JiZLRsf-u",
        "colab_type": "code",
        "outputId": "29d7e494-fdcc-49c3-d347-44684fcdade2",
        "colab": {
          "base_uri": "https://localhost:8080/",
          "height": 233
        }
      },
      "source": [
        "import matplotlib.pyplot as plt\n",
        "\n",
        "names = ['groupo_a', 'groupo_b', 'groupo_c']\n",
        "values = [5, 25, 100]\n",
        "\n",
        "plt.figure(figsize=(9, 3))\n",
        "\n",
        "plt.subplot(131)\n",
        "plt.bar(names, values)\n",
        "plt.subplot(132)\n",
        "plt.scatter(names, values)\n",
        "plt.subplot(133)\n",
        "plt.plot(names, values)\n",
        "plt.suptitle('Gráficas categóricas')\n",
        "plt.show()"
      ],
      "execution_count": 0,
      "outputs": [
        {
          "output_type": "display_data",
          "data": {
            "image/png": "[encoded data removed]",
            "text/plain": [
              "<Figure size 648x216 with 3 Axes>"
            ]
          },
          "metadata": {
            "tags": []
          }
        }
      ]
    },
    {
      "cell_type": "code",
      "metadata": {
        "id": "3SNqQGw_OHDJ",
        "colab_type": "code",
        "outputId": "d2fa25cc-c01e-47a2-d140-be062c55c762",
        "colab": {
          "base_uri": "https://localhost:8080/",
          "height": 357
        }
      },
      "source": [
        "names = ['groupo_a', 'groupo_b', 'groupo_c']\n",
        "values = [5, 25, 100]\n",
        "\n",
        "plt.figure(figsize=(9, 5))\n",
        "\n",
        "plt.subplot(231)\n",
        "plt.bar(names, values)\n",
        "plt.subplot(232)\n",
        "plt.scatter(names, values)\n",
        "plt.subplot(233)\n",
        "plt.plot(names, values)\n",
        "plt.subplot(234)\n",
        "plt.bar(names, values)\n",
        "plt.subplot(235)\n",
        "plt.scatter(names, values)\n",
        "plt.subplot(236)\n",
        "plt.plot(names, values)\n",
        "plt.suptitle('Gráficas categóricas')\n",
        "\n",
        "plt.show()"
      ],
      "execution_count": 0,
      "outputs": [
        {
          "output_type": "display_data",
          "data": {
            "image/png": "[encoded data removed]",
            "text/plain": [
              "<Figure size 648x360 with 6 Axes>"
            ]
          },
          "metadata": {
            "tags": []
          }
        }
      ]
    },
    {
      "cell_type": "markdown",
      "metadata": {
        "id": "3BCp_ZEyg5f7",
        "colab_type": "text"
      },
      "source": [
        "<p><a name=\"scatterPlots\"></a></p>\n",
        "\n",
        "## 3.4 Gráficos de dispersión.\n",
        "\n",
        "[[Contenidos]](#contents)\n",
        "\n",
        "A continuación se muestran varios ejemplos de gráficos de dispersión, los cuales pueden realizarse mediante la función `scatter`:"
      ]
    },
    {
      "cell_type": "code",
      "metadata": {
        "id": "5APQ2ZhHhIEz",
        "colab_type": "code",
        "outputId": "979eb65a-a55b-4a36-f619-11ea3e1bdd66",
        "colab": {
          "base_uri": "https://localhost:8080/",
          "height": 295
        }
      },
      "source": [
        "import matplotlib.pyplot as plt\n",
        "import numpy as np\n",
        "\n",
        "# Generación de los puntos (x,y) para la realización de los gráficos de \n",
        "# dispersión.\n",
        "x=range(10)\n",
        "y=np.random.rand(10)\n",
        "\n",
        "plt.scatter(x,y)\n",
        "plt.xlabel('label del eje x')\n",
        "plt.ylabel('label del eje y')\n",
        "plt.title('Gráfico de dispersión')\n",
        "plt.show()"
      ],
      "execution_count": 0,
      "outputs": [
        {
          "output_type": "display_data",
          "data": {
            "image/png": "[encoded data removed]",
            "text/plain": [
              "<Figure size 432x288 with 1 Axes>"
            ]
          },
          "metadata": {
            "tags": []
          }
        }
      ]
    },
    {
      "cell_type": "code",
      "metadata": {
        "id": "tQx5gaepjN-k",
        "colab_type": "code",
        "outputId": "fa16b58d-ddad-493e-d05c-71e25f6248b2",
        "colab": {
          "base_uri": "https://localhost:8080/",
          "height": 295
        }
      },
      "source": [
        "xx=np.array([0,3,5,1,9,7,6,2,4,8])\n",
        "\n",
        "plt.scatter(xx,y)\n",
        "plt.xlabel('label del eje x')\n",
        "plt.ylabel('label del eje y')\n",
        "plt.title('Gráfico de dispersión')\n",
        "plt.show()"
      ],
      "execution_count": 0,
      "outputs": [
        {
          "output_type": "display_data",
          "data": {
            "image/png": "[encoded data removed]",
            "text/plain": [
              "<Figure size 432x288 with 1 Axes>"
            ]
          },
          "metadata": {
            "tags": []
          }
        }
      ]
    },
    {
      "cell_type": "code",
      "metadata": {
        "id": "QQD9aPp_jvI1",
        "colab_type": "code",
        "outputId": "83088705-b950-47ce-b050-a7c03bc2c232",
        "colab": {
          "base_uri": "https://localhost:8080/",
          "height": 295
        }
      },
      "source": [
        "plt.plot(x,y)\n",
        "plt.xlabel('label del eje x')\n",
        "plt.ylabel('label del eje y')\n",
        "plt.title('Gráfico de dispersión, puntos conectados')\n",
        "plt.show()"
      ],
      "execution_count": 0,
      "outputs": [
        {
          "output_type": "display_data",
          "data": {
            "image/png": "[encoded data removed]",
            "text/plain": [
              "<Figure size 432x288 with 1 Axes>"
            ]
          },
          "metadata": {
            "tags": []
          }
        }
      ]
    },
    {
      "cell_type": "code",
      "metadata": {
        "id": "bptSqSz4j-vB",
        "colab_type": "code",
        "outputId": "6031e4f8-8764-4c6d-e3b2-64abbb5df0db",
        "colab": {
          "base_uri": "https://localhost:8080/",
          "height": 295
        }
      },
      "source": [
        "plt.plot(xx,y)\n",
        "plt.xlabel('label del eje x')\n",
        "plt.ylabel('label del eje y')\n",
        "plt.title('Gráfico de dispersión, puntos conectados')\n",
        "plt.show()"
      ],
      "execution_count": 0,
      "outputs": [
        {
          "output_type": "display_data",
          "data": {
            "image/png": "[encoded data removed]",
            "text/plain": [
              "<Figure size 432x288 with 1 Axes>"
            ]
          },
          "metadata": {
            "tags": []
          }
        }
      ]
    },
    {
      "cell_type": "markdown",
      "metadata": {
        "id": "5Hmbe8lCkne5",
        "colab_type": "text"
      },
      "source": [
        "<p><a name=\"tmatplotlib\"></a></p>\n",
        "\n",
        "## 3.5 Taller `matplotlib`\n",
        "\n",
        "[[Contenidos]](#contents)"
      ]
    },
    {
      "cell_type": "markdown",
      "metadata": {
        "id": "YkWTnd6FlYZr",
        "colab_type": "text"
      },
      "source": [
        "<div class=\"alert alert-danger alertdanger\" style=\"margin-top: 20px\">\n",
        "<h1> Pregunta #1: </h1>\n",
        "\n",
        "**Grafíque los cuatro gráficos de ejemplo de la sección [gráficos de dispersión](#scatterPlots) en una figura compuesta por 4 subplots de 2x2 cajones**.\n"
      ]
    },
    {
      "cell_type": "markdown",
      "metadata": {
        "id": "7y1G7Ynloyhs",
        "colab_type": "text"
      },
      "source": [
        "<div class=\"alert alert-danger alertdanger\" style=\"margin-top: 20px\">\n",
        "<h1> Respuesta Pregunta #1: </h1>\n",
        "<b>Corra el código a continuación:</b>\n",
        "</div>"
      ]
    },
    {
      "cell_type": "markdown",
      "metadata": {
        "id": "vKt34ygUo6-N",
        "colab_type": "text"
      },
      "source": [
        "Para ver la solución haga double-click <b>aquí</b>.\n",
        "\n",
        "<!-- La respuesta se encuentra a continuación:\n",
        "import matplotlib.pyplot as plt\n",
        "import numpy as np\n",
        "\n",
        "# Generación de los puntos (x,y) para la realización de los gráficos de \n",
        "# dispersión.\n",
        "\n",
        "# Datos 1.\n",
        "x=range(10)\n",
        "y=np.random.rand(10)\n",
        "\n",
        "# Datos 2 (mismos valores de y de Datos1).\n",
        "xx=np.array([0,3,5,1,9,7,6,2,4,8])\n",
        "\n",
        "#Ajuste del tamaño de cada subplot\n",
        "plt.subplots(2,2, figsize=(8,8))\n",
        "\n",
        "plt.subplot(221)\n",
        "plt.scatter(x, y)\n",
        "plt.xlabel('label del eje x')\n",
        "plt.ylabel('label del eje y')\n",
        "plt.subplot(222)\n",
        "plt.scatter(xx,y)\n",
        "plt.xlabel('label del eje x')\n",
        "plt.ylabel('label del eje y')\n",
        "plt.subplot(223)\n",
        "plt.plot(x,y)\n",
        "plt.xlabel('label del eje x')\n",
        "plt.ylabel('label del eje y')\n",
        "plt.subplot(224)\n",
        "plt.plot(xx,y)\n",
        "plt.xlabel('label del eje x')\n",
        "plt.ylabel('label del eje y')\n",
        "plt.suptitle('Gráficos de dispersión')\n",
        "plt.show()\n",
        "-->"
      ]
    },
    {
      "cell_type": "markdown",
      "metadata": {
        "id": "QRcTUlvY1KT1",
        "colab_type": "text"
      },
      "source": [
        "<p><a name=\"pandas\"></a></p>\n",
        "\n",
        "# 4. Pandas.\n",
        "\n",
        "[[Contenidos]](#contents)\n",
        "\n",
        "\n",
        "`pandas` es una biblioteca que respresenta una extensión de numpy, para la manipulación y análisis de datos en Python."
      ]
    },
    {
      "cell_type": "markdown",
      "metadata": {
        "id": "-J3wznX-tPJa",
        "colab_type": "text"
      },
      "source": [
        "\n",
        "<p><a name=\"ipandas\"></a></p>\n",
        "\n",
        "## 4.1 Introducción a la librería `pandas`.\n",
        "\n",
        "[[Contenidos]](#contents)\n",
        "\n",
        "A continuación se expondrá la noción básica de dataFrame en `pandas`. \n",
        "\n"
      ]
    },
    {
      "cell_type": "code",
      "metadata": {
        "id": "TgcumsD9tPoh",
        "colab_type": "code",
        "colab": {}
      },
      "source": [
        "import pandas as pd\n",
        "\n",
        "numbers = {\"even\":list(range(0,200,2)),\"odd\":list(range(1,200,2))}\n",
        "\n",
        "# Creación de un dataFrame en pandas\n",
        "df=pd.DataFrame(numbers)"
      ],
      "execution_count": 0,
      "outputs": []
    },
    {
      "cell_type": "code",
      "metadata": {
        "id": "-UJtYiL9SsF1",
        "colab_type": "code",
        "outputId": "c0d7b860-42cc-49c5-b4a7-68cf45f3af9b",
        "colab": {
          "base_uri": "https://localhost:8080/",
          "height": 198
        }
      },
      "source": [
        "df.head()"
      ],
      "execution_count": 0,
      "outputs": [
        {
          "output_type": "execute_result",
          "data": {
            "text/html": [
              "<div>\n",
              "<style scoped>\n",
              "    .dataframe tbody tr th:only-of-type {\n",
              "        vertical-align: middle;\n",
              "    }\n",
              "\n",
              "    .dataframe tbody tr th {\n",
              "        vertical-align: top;\n",
              "    }\n",
              "\n",
              "    .dataframe thead th {\n",
              "        text-align: right;\n",
              "    }\n",
              "</style>\n",
              "<table border=\"1\" class=\"dataframe\">\n",
              "  <thead>\n",
              "    <tr style=\"text-align: right;\">\n",
              "      <th></th>\n",
              "      <th>even</th>\n",
              "      <th>odd</th>\n",
              "    </tr>\n",
              "  </thead>\n",
              "  <tbody>\n",
              "    <tr>\n",
              "      <th>0</th>\n",
              "      <td>0</td>\n",
              "      <td>1</td>\n",
              "    </tr>\n",
              "    <tr>\n",
              "      <th>1</th>\n",
              "      <td>2</td>\n",
              "      <td>3</td>\n",
              "    </tr>\n",
              "    <tr>\n",
              "      <th>2</th>\n",
              "      <td>4</td>\n",
              "      <td>5</td>\n",
              "    </tr>\n",
              "    <tr>\n",
              "      <th>3</th>\n",
              "      <td>6</td>\n",
              "      <td>7</td>\n",
              "    </tr>\n",
              "    <tr>\n",
              "      <th>4</th>\n",
              "      <td>8</td>\n",
              "      <td>9</td>\n",
              "    </tr>\n",
              "  </tbody>\n",
              "</table>\n",
              "</div>"
            ],
            "text/plain": [
              "   even  odd\n",
              "0     0    1\n",
              "1     2    3\n",
              "2     4    5\n",
              "3     6    7\n",
              "4     8    9"
            ]
          },
          "metadata": {
            "tags": []
          },
          "execution_count": 68
        }
      ]
    },
    {
      "cell_type": "code",
      "metadata": {
        "id": "ihGLqyCkRhyu",
        "colab_type": "code",
        "colab": {}
      },
      "source": [
        "dfPrueba=pd.DataFrame({\"even\":[2,4,6],\"odd\":[1,3, np.nan]})"
      ],
      "execution_count": 0,
      "outputs": []
    },
    {
      "cell_type": "code",
      "metadata": {
        "id": "dRk7M_zKVRLA",
        "colab_type": "code",
        "outputId": "bc0c4048-6f98-428e-a0ad-fb9b019df033",
        "colab": {
          "base_uri": "https://localhost:8080/",
          "height": 138
        }
      },
      "source": [
        "dfPrueba.head()"
      ],
      "execution_count": 0,
      "outputs": [
        {
          "output_type": "execute_result",
          "data": {
            "text/html": [
              "<div>\n",
              "<style scoped>\n",
              "    .dataframe tbody tr th:only-of-type {\n",
              "        vertical-align: middle;\n",
              "    }\n",
              "\n",
              "    .dataframe tbody tr th {\n",
              "        vertical-align: top;\n",
              "    }\n",
              "\n",
              "    .dataframe thead th {\n",
              "        text-align: right;\n",
              "    }\n",
              "</style>\n",
              "<table border=\"1\" class=\"dataframe\">\n",
              "  <thead>\n",
              "    <tr style=\"text-align: right;\">\n",
              "      <th></th>\n",
              "      <th>even</th>\n",
              "      <th>odd</th>\n",
              "    </tr>\n",
              "  </thead>\n",
              "  <tbody>\n",
              "    <tr>\n",
              "      <th>0</th>\n",
              "      <td>2</td>\n",
              "      <td>1.0</td>\n",
              "    </tr>\n",
              "    <tr>\n",
              "      <th>1</th>\n",
              "      <td>4</td>\n",
              "      <td>3.0</td>\n",
              "    </tr>\n",
              "    <tr>\n",
              "      <th>2</th>\n",
              "      <td>6</td>\n",
              "      <td>NaN</td>\n",
              "    </tr>\n",
              "  </tbody>\n",
              "</table>\n",
              "</div>"
            ],
            "text/plain": [
              "   even  odd\n",
              "0     2  1.0\n",
              "1     4  3.0\n",
              "2     6  NaN"
            ]
          },
          "metadata": {
            "tags": []
          },
          "execution_count": 70
        }
      ]
    },
    {
      "cell_type": "code",
      "metadata": {
        "id": "VW2OyPs4VBo0",
        "colab_type": "code",
        "outputId": "54d82b73-34a2-4bd6-cdf0-7cbf1b076cfb",
        "colab": {
          "base_uri": "https://localhost:8080/",
          "height": 288
        }
      },
      "source": [
        "dfPrueba.describe()"
      ],
      "execution_count": 0,
      "outputs": [
        {
          "output_type": "execute_result",
          "data": {
            "text/html": [
              "<div>\n",
              "<style scoped>\n",
              "    .dataframe tbody tr th:only-of-type {\n",
              "        vertical-align: middle;\n",
              "    }\n",
              "\n",
              "    .dataframe tbody tr th {\n",
              "        vertical-align: top;\n",
              "    }\n",
              "\n",
              "    .dataframe thead th {\n",
              "        text-align: right;\n",
              "    }\n",
              "</style>\n",
              "<table border=\"1\" class=\"dataframe\">\n",
              "  <thead>\n",
              "    <tr style=\"text-align: right;\">\n",
              "      <th></th>\n",
              "      <th>even</th>\n",
              "      <th>odd</th>\n",
              "    </tr>\n",
              "  </thead>\n",
              "  <tbody>\n",
              "    <tr>\n",
              "      <th>count</th>\n",
              "      <td>3.0</td>\n",
              "      <td>2.000000</td>\n",
              "    </tr>\n",
              "    <tr>\n",
              "      <th>mean</th>\n",
              "      <td>4.0</td>\n",
              "      <td>2.000000</td>\n",
              "    </tr>\n",
              "    <tr>\n",
              "      <th>std</th>\n",
              "      <td>2.0</td>\n",
              "      <td>1.414214</td>\n",
              "    </tr>\n",
              "    <tr>\n",
              "      <th>min</th>\n",
              "      <td>2.0</td>\n",
              "      <td>1.000000</td>\n",
              "    </tr>\n",
              "    <tr>\n",
              "      <th>25%</th>\n",
              "      <td>3.0</td>\n",
              "      <td>1.500000</td>\n",
              "    </tr>\n",
              "    <tr>\n",
              "      <th>50%</th>\n",
              "      <td>4.0</td>\n",
              "      <td>2.000000</td>\n",
              "    </tr>\n",
              "    <tr>\n",
              "      <th>75%</th>\n",
              "      <td>5.0</td>\n",
              "      <td>2.500000</td>\n",
              "    </tr>\n",
              "    <tr>\n",
              "      <th>max</th>\n",
              "      <td>6.0</td>\n",
              "      <td>3.000000</td>\n",
              "    </tr>\n",
              "  </tbody>\n",
              "</table>\n",
              "</div>"
            ],
            "text/plain": [
              "       even       odd\n",
              "count   3.0  2.000000\n",
              "mean    4.0  2.000000\n",
              "std     2.0  1.414214\n",
              "min     2.0  1.000000\n",
              "25%     3.0  1.500000\n",
              "50%     4.0  2.000000\n",
              "75%     5.0  2.500000\n",
              "max     6.0  3.000000"
            ]
          },
          "metadata": {
            "tags": []
          },
          "execution_count": 71
        }
      ]
    },
    {
      "cell_type": "markdown",
      "metadata": {
        "id": "c_XHgD9Iva2G",
        "colab_type": "text"
      },
      "source": [
        "<p><a name=\"visu\"></a></p>\n",
        "\n",
        "## 4.2 Visualización del dataFrame.\n",
        "\n",
        "[[Contenidos]](#contents)"
      ]
    },
    {
      "cell_type": "markdown",
      "metadata": {
        "id": "rsRXMJKuvljX",
        "colab_type": "text"
      },
      "source": [
        "Para visualizar el dataFrame creado, sobretodo en el caso de almacenamiento de grandes tablas, existen dos métodos o funciones útiles mediante las cuales se puede inspecciónar el principio y final de los datos.\n",
        "\n",
        "\n",
        "Para inspeccionar la cabecera de la tabla usamos la función `head()` de la librería."
      ]
    },
    {
      "cell_type": "code",
      "metadata": {
        "id": "2atMDMORwGdm",
        "colab_type": "code",
        "outputId": "9469dc1d-4367-4ccf-93ec-07ef5ad8cdd5",
        "colab": {
          "base_uri": "https://localhost:8080/",
          "height": 198
        }
      },
      "source": [
        "df.head()"
      ],
      "execution_count": 0,
      "outputs": [
        {
          "output_type": "execute_result",
          "data": {
            "text/html": [
              "<div>\n",
              "<style scoped>\n",
              "    .dataframe tbody tr th:only-of-type {\n",
              "        vertical-align: middle;\n",
              "    }\n",
              "\n",
              "    .dataframe tbody tr th {\n",
              "        vertical-align: top;\n",
              "    }\n",
              "\n",
              "    .dataframe thead th {\n",
              "        text-align: right;\n",
              "    }\n",
              "</style>\n",
              "<table border=\"1\" class=\"dataframe\">\n",
              "  <thead>\n",
              "    <tr style=\"text-align: right;\">\n",
              "      <th></th>\n",
              "      <th>even</th>\n",
              "      <th>odd</th>\n",
              "    </tr>\n",
              "  </thead>\n",
              "  <tbody>\n",
              "    <tr>\n",
              "      <th>0</th>\n",
              "      <td>0</td>\n",
              "      <td>1</td>\n",
              "    </tr>\n",
              "    <tr>\n",
              "      <th>1</th>\n",
              "      <td>2</td>\n",
              "      <td>3</td>\n",
              "    </tr>\n",
              "    <tr>\n",
              "      <th>2</th>\n",
              "      <td>4</td>\n",
              "      <td>5</td>\n",
              "    </tr>\n",
              "    <tr>\n",
              "      <th>3</th>\n",
              "      <td>6</td>\n",
              "      <td>7</td>\n",
              "    </tr>\n",
              "    <tr>\n",
              "      <th>4</th>\n",
              "      <td>8</td>\n",
              "      <td>9</td>\n",
              "    </tr>\n",
              "  </tbody>\n",
              "</table>\n",
              "</div>"
            ],
            "text/plain": [
              "   even  odd\n",
              "0     0    1\n",
              "1     2    3\n",
              "2     4    5\n",
              "3     6    7\n",
              "4     8    9"
            ]
          },
          "metadata": {
            "tags": []
          },
          "execution_count": 72
        }
      ]
    },
    {
      "cell_type": "markdown",
      "metadata": {
        "id": "_YWMAyg2w1Ct",
        "colab_type": "text"
      },
      "source": [
        "Por defecto, la función `head()` mostrará las cinco primeras filas de la tabla, además de la cabecera. \n",
        "\n",
        "Si se quiere imprimir en pantalla más elementos de la fila, se debe indicar el número deseado de la siguiente forma: "
      ]
    },
    {
      "cell_type": "code",
      "metadata": {
        "id": "HPkxwIoUw5Yq",
        "colab_type": "code",
        "outputId": "60c5db6c-bd29-41df-dec3-5feb7b593428",
        "colab": {
          "base_uri": "https://localhost:8080/",
          "height": 288
        }
      },
      "source": [
        "# Mostrar en pantalla las 8 primeras filas del dataFrame\n",
        "df.head(8)"
      ],
      "execution_count": 0,
      "outputs": [
        {
          "output_type": "execute_result",
          "data": {
            "text/html": [
              "<div>\n",
              "<style scoped>\n",
              "    .dataframe tbody tr th:only-of-type {\n",
              "        vertical-align: middle;\n",
              "    }\n",
              "\n",
              "    .dataframe tbody tr th {\n",
              "        vertical-align: top;\n",
              "    }\n",
              "\n",
              "    .dataframe thead th {\n",
              "        text-align: right;\n",
              "    }\n",
              "</style>\n",
              "<table border=\"1\" class=\"dataframe\">\n",
              "  <thead>\n",
              "    <tr style=\"text-align: right;\">\n",
              "      <th></th>\n",
              "      <th>even</th>\n",
              "      <th>odd</th>\n",
              "    </tr>\n",
              "  </thead>\n",
              "  <tbody>\n",
              "    <tr>\n",
              "      <th>0</th>\n",
              "      <td>0</td>\n",
              "      <td>1</td>\n",
              "    </tr>\n",
              "    <tr>\n",
              "      <th>1</th>\n",
              "      <td>2</td>\n",
              "      <td>3</td>\n",
              "    </tr>\n",
              "    <tr>\n",
              "      <th>2</th>\n",
              "      <td>4</td>\n",
              "      <td>5</td>\n",
              "    </tr>\n",
              "    <tr>\n",
              "      <th>3</th>\n",
              "      <td>6</td>\n",
              "      <td>7</td>\n",
              "    </tr>\n",
              "    <tr>\n",
              "      <th>4</th>\n",
              "      <td>8</td>\n",
              "      <td>9</td>\n",
              "    </tr>\n",
              "    <tr>\n",
              "      <th>5</th>\n",
              "      <td>10</td>\n",
              "      <td>11</td>\n",
              "    </tr>\n",
              "    <tr>\n",
              "      <th>6</th>\n",
              "      <td>12</td>\n",
              "      <td>13</td>\n",
              "    </tr>\n",
              "    <tr>\n",
              "      <th>7</th>\n",
              "      <td>14</td>\n",
              "      <td>15</td>\n",
              "    </tr>\n",
              "  </tbody>\n",
              "</table>\n",
              "</div>"
            ],
            "text/plain": [
              "   even  odd\n",
              "0     0    1\n",
              "1     2    3\n",
              "2     4    5\n",
              "3     6    7\n",
              "4     8    9\n",
              "5    10   11\n",
              "6    12   13\n",
              "7    14   15"
            ]
          },
          "metadata": {
            "tags": []
          },
          "execution_count": 73
        }
      ]
    },
    {
      "cell_type": "markdown",
      "metadata": {
        "id": "vlSG623Fx4gA",
        "colab_type": "text"
      },
      "source": [
        "Por otra parte, si lo que se quiere inspeccionar son los últimos datos del dataFrame, debemos usar la función `tail()`:"
      ]
    },
    {
      "cell_type": "code",
      "metadata": {
        "id": "mcM_YsB6yEsu",
        "colab_type": "code",
        "outputId": "a10b08a3-a58a-4ea8-a590-868bfa244532",
        "colab": {
          "base_uri": "https://localhost:8080/",
          "height": 198
        }
      },
      "source": [
        "# Inspección del final del dataFrame\n",
        "\n",
        "df.tail()"
      ],
      "execution_count": 0,
      "outputs": [
        {
          "output_type": "execute_result",
          "data": {
            "text/html": [
              "<div>\n",
              "<style scoped>\n",
              "    .dataframe tbody tr th:only-of-type {\n",
              "        vertical-align: middle;\n",
              "    }\n",
              "\n",
              "    .dataframe tbody tr th {\n",
              "        vertical-align: top;\n",
              "    }\n",
              "\n",
              "    .dataframe thead th {\n",
              "        text-align: right;\n",
              "    }\n",
              "</style>\n",
              "<table border=\"1\" class=\"dataframe\">\n",
              "  <thead>\n",
              "    <tr style=\"text-align: right;\">\n",
              "      <th></th>\n",
              "      <th>even</th>\n",
              "      <th>odd</th>\n",
              "    </tr>\n",
              "  </thead>\n",
              "  <tbody>\n",
              "    <tr>\n",
              "      <th>95</th>\n",
              "      <td>190</td>\n",
              "      <td>191</td>\n",
              "    </tr>\n",
              "    <tr>\n",
              "      <th>96</th>\n",
              "      <td>192</td>\n",
              "      <td>193</td>\n",
              "    </tr>\n",
              "    <tr>\n",
              "      <th>97</th>\n",
              "      <td>194</td>\n",
              "      <td>195</td>\n",
              "    </tr>\n",
              "    <tr>\n",
              "      <th>98</th>\n",
              "      <td>196</td>\n",
              "      <td>197</td>\n",
              "    </tr>\n",
              "    <tr>\n",
              "      <th>99</th>\n",
              "      <td>198</td>\n",
              "      <td>199</td>\n",
              "    </tr>\n",
              "  </tbody>\n",
              "</table>\n",
              "</div>"
            ],
            "text/plain": [
              "    even  odd\n",
              "95   190  191\n",
              "96   192  193\n",
              "97   194  195\n",
              "98   196  197\n",
              "99   198  199"
            ]
          },
          "metadata": {
            "tags": []
          },
          "execution_count": 74
        }
      ]
    },
    {
      "cell_type": "markdown",
      "metadata": {
        "id": "aqs77P9kyVW7",
        "colab_type": "text"
      },
      "source": [
        "De forma análoga a la función `head()`, podemos especificar el número de filas a visualizar en la parte final del dataFrame:"
      ]
    },
    {
      "cell_type": "code",
      "metadata": {
        "id": "LDYEnNlCyjw6",
        "colab_type": "code",
        "outputId": "bd69af1a-5dcf-4a96-93a1-f7477aca4447",
        "colab": {
          "base_uri": "https://localhost:8080/",
          "height": 258
        }
      },
      "source": [
        "df.tail(7)"
      ],
      "execution_count": 0,
      "outputs": [
        {
          "output_type": "execute_result",
          "data": {
            "text/html": [
              "<div>\n",
              "<style scoped>\n",
              "    .dataframe tbody tr th:only-of-type {\n",
              "        vertical-align: middle;\n",
              "    }\n",
              "\n",
              "    .dataframe tbody tr th {\n",
              "        vertical-align: top;\n",
              "    }\n",
              "\n",
              "    .dataframe thead th {\n",
              "        text-align: right;\n",
              "    }\n",
              "</style>\n",
              "<table border=\"1\" class=\"dataframe\">\n",
              "  <thead>\n",
              "    <tr style=\"text-align: right;\">\n",
              "      <th></th>\n",
              "      <th>even</th>\n",
              "      <th>odd</th>\n",
              "    </tr>\n",
              "  </thead>\n",
              "  <tbody>\n",
              "    <tr>\n",
              "      <th>93</th>\n",
              "      <td>186</td>\n",
              "      <td>187</td>\n",
              "    </tr>\n",
              "    <tr>\n",
              "      <th>94</th>\n",
              "      <td>188</td>\n",
              "      <td>189</td>\n",
              "    </tr>\n",
              "    <tr>\n",
              "      <th>95</th>\n",
              "      <td>190</td>\n",
              "      <td>191</td>\n",
              "    </tr>\n",
              "    <tr>\n",
              "      <th>96</th>\n",
              "      <td>192</td>\n",
              "      <td>193</td>\n",
              "    </tr>\n",
              "    <tr>\n",
              "      <th>97</th>\n",
              "      <td>194</td>\n",
              "      <td>195</td>\n",
              "    </tr>\n",
              "    <tr>\n",
              "      <th>98</th>\n",
              "      <td>196</td>\n",
              "      <td>197</td>\n",
              "    </tr>\n",
              "    <tr>\n",
              "      <th>99</th>\n",
              "      <td>198</td>\n",
              "      <td>199</td>\n",
              "    </tr>\n",
              "  </tbody>\n",
              "</table>\n",
              "</div>"
            ],
            "text/plain": [
              "    even  odd\n",
              "93   186  187\n",
              "94   188  189\n",
              "95   190  191\n",
              "96   192  193\n",
              "97   194  195\n",
              "98   196  197\n",
              "99   198  199"
            ]
          },
          "metadata": {
            "tags": []
          },
          "execution_count": 75
        }
      ]
    },
    {
      "cell_type": "markdown",
      "metadata": {
        "id": "sJ8t9alGusho",
        "colab_type": "text"
      },
      "source": [
        "<p><a name=\"internet\"></a></p>\n",
        "\n",
        "## 4.3 Carga de una base de datos de internet.\n",
        "\n",
        "[[Contenidos]](#contents)\n"
      ]
    },
    {
      "cell_type": "code",
      "metadata": {
        "id": "o2ji8VAvu9ij",
        "colab_type": "code",
        "colab": {}
      },
      "source": [
        "import pandas as pd\n",
        "\n",
        "# Lectura de una base de datos en internet y asignación a la variable df.\n",
        "path = \"https://s3-api.us-geo.objectstorage.softlayer.net/cf-courses-data/CognitiveClass/DA0101EN/auto.csv\"\n",
        "df = pd.read_csv(path, header=None)"
      ],
      "execution_count": 0,
      "outputs": []
    },
    {
      "cell_type": "markdown",
      "metadata": {
        "id": "HKLB_0Cdvy94",
        "colab_type": "text"
      },
      "source": [
        "Inspección de la tabla"
      ]
    },
    {
      "cell_type": "code",
      "metadata": {
        "id": "NquKtl9zwDwo",
        "colab_type": "code",
        "outputId": "93d428f6-c606-4faa-873d-ddde7e698a0d",
        "colab": {
          "base_uri": "https://localhost:8080/",
          "height": 270
        }
      },
      "source": [
        "df.head()"
      ],
      "execution_count": 0,
      "outputs": [
        {
          "output_type": "execute_result",
          "data": {
            "text/html": [
              "<div>\n",
              "<style scoped>\n",
              "    .dataframe tbody tr th:only-of-type {\n",
              "        vertical-align: middle;\n",
              "    }\n",
              "\n",
              "    .dataframe tbody tr th {\n",
              "        vertical-align: top;\n",
              "    }\n",
              "\n",
              "    .dataframe thead th {\n",
              "        text-align: right;\n",
              "    }\n",
              "</style>\n",
              "<table border=\"1\" class=\"dataframe\">\n",
              "  <thead>\n",
              "    <tr style=\"text-align: right;\">\n",
              "      <th></th>\n",
              "      <th>0</th>\n",
              "      <th>1</th>\n",
              "      <th>2</th>\n",
              "      <th>3</th>\n",
              "      <th>4</th>\n",
              "      <th>5</th>\n",
              "      <th>6</th>\n",
              "      <th>7</th>\n",
              "      <th>8</th>\n",
              "      <th>9</th>\n",
              "      <th>10</th>\n",
              "      <th>11</th>\n",
              "      <th>12</th>\n",
              "      <th>13</th>\n",
              "      <th>14</th>\n",
              "      <th>15</th>\n",
              "      <th>16</th>\n",
              "      <th>17</th>\n",
              "      <th>18</th>\n",
              "      <th>19</th>\n",
              "      <th>20</th>\n",
              "      <th>21</th>\n",
              "      <th>22</th>\n",
              "      <th>23</th>\n",
              "      <th>24</th>\n",
              "      <th>25</th>\n",
              "    </tr>\n",
              "  </thead>\n",
              "  <tbody>\n",
              "    <tr>\n",
              "      <th>0</th>\n",
              "      <td>3</td>\n",
              "      <td>?</td>\n",
              "      <td>alfa-romero</td>\n",
              "      <td>gas</td>\n",
              "      <td>std</td>\n",
              "      <td>two</td>\n",
              "      <td>convertible</td>\n",
              "      <td>rwd</td>\n",
              "      <td>front</td>\n",
              "      <td>88.6</td>\n",
              "      <td>168.8</td>\n",
              "      <td>64.1</td>\n",
              "      <td>48.8</td>\n",
              "      <td>2548</td>\n",
              "      <td>dohc</td>\n",
              "      <td>four</td>\n",
              "      <td>130</td>\n",
              "      <td>mpfi</td>\n",
              "      <td>3.47</td>\n",
              "      <td>2.68</td>\n",
              "      <td>9.0</td>\n",
              "      <td>111</td>\n",
              "      <td>5000</td>\n",
              "      <td>21</td>\n",
              "      <td>27</td>\n",
              "      <td>13495</td>\n",
              "    </tr>\n",
              "    <tr>\n",
              "      <th>1</th>\n",
              "      <td>3</td>\n",
              "      <td>?</td>\n",
              "      <td>alfa-romero</td>\n",
              "      <td>gas</td>\n",
              "      <td>std</td>\n",
              "      <td>two</td>\n",
              "      <td>convertible</td>\n",
              "      <td>rwd</td>\n",
              "      <td>front</td>\n",
              "      <td>88.6</td>\n",
              "      <td>168.8</td>\n",
              "      <td>64.1</td>\n",
              "      <td>48.8</td>\n",
              "      <td>2548</td>\n",
              "      <td>dohc</td>\n",
              "      <td>four</td>\n",
              "      <td>130</td>\n",
              "      <td>mpfi</td>\n",
              "      <td>3.47</td>\n",
              "      <td>2.68</td>\n",
              "      <td>9.0</td>\n",
              "      <td>111</td>\n",
              "      <td>5000</td>\n",
              "      <td>21</td>\n",
              "      <td>27</td>\n",
              "      <td>16500</td>\n",
              "    </tr>\n",
              "    <tr>\n",
              "      <th>2</th>\n",
              "      <td>1</td>\n",
              "      <td>?</td>\n",
              "      <td>alfa-romero</td>\n",
              "      <td>gas</td>\n",
              "      <td>std</td>\n",
              "      <td>two</td>\n",
              "      <td>hatchback</td>\n",
              "      <td>rwd</td>\n",
              "      <td>front</td>\n",
              "      <td>94.5</td>\n",
              "      <td>171.2</td>\n",
              "      <td>65.5</td>\n",
              "      <td>52.4</td>\n",
              "      <td>2823</td>\n",
              "      <td>ohcv</td>\n",
              "      <td>six</td>\n",
              "      <td>152</td>\n",
              "      <td>mpfi</td>\n",
              "      <td>2.68</td>\n",
              "      <td>3.47</td>\n",
              "      <td>9.0</td>\n",
              "      <td>154</td>\n",
              "      <td>5000</td>\n",
              "      <td>19</td>\n",
              "      <td>26</td>\n",
              "      <td>16500</td>\n",
              "    </tr>\n",
              "    <tr>\n",
              "      <th>3</th>\n",
              "      <td>2</td>\n",
              "      <td>164</td>\n",
              "      <td>audi</td>\n",
              "      <td>gas</td>\n",
              "      <td>std</td>\n",
              "      <td>four</td>\n",
              "      <td>sedan</td>\n",
              "      <td>fwd</td>\n",
              "      <td>front</td>\n",
              "      <td>99.8</td>\n",
              "      <td>176.6</td>\n",
              "      <td>66.2</td>\n",
              "      <td>54.3</td>\n",
              "      <td>2337</td>\n",
              "      <td>ohc</td>\n",
              "      <td>four</td>\n",
              "      <td>109</td>\n",
              "      <td>mpfi</td>\n",
              "      <td>3.19</td>\n",
              "      <td>3.40</td>\n",
              "      <td>10.0</td>\n",
              "      <td>102</td>\n",
              "      <td>5500</td>\n",
              "      <td>24</td>\n",
              "      <td>30</td>\n",
              "      <td>13950</td>\n",
              "    </tr>\n",
              "    <tr>\n",
              "      <th>4</th>\n",
              "      <td>2</td>\n",
              "      <td>164</td>\n",
              "      <td>audi</td>\n",
              "      <td>gas</td>\n",
              "      <td>std</td>\n",
              "      <td>four</td>\n",
              "      <td>sedan</td>\n",
              "      <td>4wd</td>\n",
              "      <td>front</td>\n",
              "      <td>99.4</td>\n",
              "      <td>176.6</td>\n",
              "      <td>66.4</td>\n",
              "      <td>54.3</td>\n",
              "      <td>2824</td>\n",
              "      <td>ohc</td>\n",
              "      <td>five</td>\n",
              "      <td>136</td>\n",
              "      <td>mpfi</td>\n",
              "      <td>3.19</td>\n",
              "      <td>3.40</td>\n",
              "      <td>8.0</td>\n",
              "      <td>115</td>\n",
              "      <td>5500</td>\n",
              "      <td>18</td>\n",
              "      <td>22</td>\n",
              "      <td>17450</td>\n",
              "    </tr>\n",
              "  </tbody>\n",
              "</table>\n",
              "</div>"
            ],
            "text/plain": [
              "   0    1            2    3    4     5   ...    20   21    22  23  24     25\n",
              "0   3    ?  alfa-romero  gas  std   two  ...   9.0  111  5000  21  27  13495\n",
              "1   3    ?  alfa-romero  gas  std   two  ...   9.0  111  5000  21  27  16500\n",
              "2   1    ?  alfa-romero  gas  std   two  ...   9.0  154  5000  19  26  16500\n",
              "3   2  164         audi  gas  std  four  ...  10.0  102  5500  24  30  13950\n",
              "4   2  164         audi  gas  std  four  ...   8.0  115  5500  18  22  17450\n",
              "\n",
              "[5 rows x 26 columns]"
            ]
          },
          "metadata": {
            "tags": []
          },
          "execution_count": 77
        }
      ]
    },
    {
      "cell_type": "markdown",
      "metadata": {
        "id": "_gW_tx5Wwbf7",
        "colab_type": "text"
      },
      "source": [
        "Nótese que la cabecera de la tabla no se imprime, esto se debe a que, cuando se importó la tabla, no incluimos la cabecera al indicarlo mediante el argumento `header=None`."
      ]
    },
    {
      "cell_type": "code",
      "metadata": {
        "id": "I6ndQk2bwMq7",
        "colab_type": "code",
        "outputId": "fe4e067a-bf9f-4c60-f599-51ea120830df",
        "colab": {
          "base_uri": "https://localhost:8080/",
          "height": 218
        }
      },
      "source": [
        "df.tail()"
      ],
      "execution_count": 0,
      "outputs": [
        {
          "output_type": "execute_result",
          "data": {
            "text/html": [
              "<div>\n",
              "<style scoped>\n",
              "    .dataframe tbody tr th:only-of-type {\n",
              "        vertical-align: middle;\n",
              "    }\n",
              "\n",
              "    .dataframe tbody tr th {\n",
              "        vertical-align: top;\n",
              "    }\n",
              "\n",
              "    .dataframe thead th {\n",
              "        text-align: right;\n",
              "    }\n",
              "</style>\n",
              "<table border=\"1\" class=\"dataframe\">\n",
              "  <thead>\n",
              "    <tr style=\"text-align: right;\">\n",
              "      <th></th>\n",
              "      <th>0</th>\n",
              "      <th>1</th>\n",
              "      <th>2</th>\n",
              "      <th>3</th>\n",
              "      <th>4</th>\n",
              "      <th>5</th>\n",
              "      <th>6</th>\n",
              "      <th>7</th>\n",
              "      <th>8</th>\n",
              "      <th>9</th>\n",
              "      <th>10</th>\n",
              "      <th>11</th>\n",
              "      <th>12</th>\n",
              "      <th>13</th>\n",
              "      <th>14</th>\n",
              "      <th>15</th>\n",
              "      <th>16</th>\n",
              "      <th>17</th>\n",
              "      <th>18</th>\n",
              "      <th>19</th>\n",
              "      <th>20</th>\n",
              "      <th>21</th>\n",
              "      <th>22</th>\n",
              "      <th>23</th>\n",
              "      <th>24</th>\n",
              "      <th>25</th>\n",
              "    </tr>\n",
              "  </thead>\n",
              "  <tbody>\n",
              "    <tr>\n",
              "      <th>200</th>\n",
              "      <td>-1</td>\n",
              "      <td>95</td>\n",
              "      <td>volvo</td>\n",
              "      <td>gas</td>\n",
              "      <td>std</td>\n",
              "      <td>four</td>\n",
              "      <td>sedan</td>\n",
              "      <td>rwd</td>\n",
              "      <td>front</td>\n",
              "      <td>109.1</td>\n",
              "      <td>188.8</td>\n",
              "      <td>68.9</td>\n",
              "      <td>55.5</td>\n",
              "      <td>2952</td>\n",
              "      <td>ohc</td>\n",
              "      <td>four</td>\n",
              "      <td>141</td>\n",
              "      <td>mpfi</td>\n",
              "      <td>3.78</td>\n",
              "      <td>3.15</td>\n",
              "      <td>9.5</td>\n",
              "      <td>114</td>\n",
              "      <td>5400</td>\n",
              "      <td>23</td>\n",
              "      <td>28</td>\n",
              "      <td>16845</td>\n",
              "    </tr>\n",
              "    <tr>\n",
              "      <th>201</th>\n",
              "      <td>-1</td>\n",
              "      <td>95</td>\n",
              "      <td>volvo</td>\n",
              "      <td>gas</td>\n",
              "      <td>turbo</td>\n",
              "      <td>four</td>\n",
              "      <td>sedan</td>\n",
              "      <td>rwd</td>\n",
              "      <td>front</td>\n",
              "      <td>109.1</td>\n",
              "      <td>188.8</td>\n",
              "      <td>68.8</td>\n",
              "      <td>55.5</td>\n",
              "      <td>3049</td>\n",
              "      <td>ohc</td>\n",
              "      <td>four</td>\n",
              "      <td>141</td>\n",
              "      <td>mpfi</td>\n",
              "      <td>3.78</td>\n",
              "      <td>3.15</td>\n",
              "      <td>8.7</td>\n",
              "      <td>160</td>\n",
              "      <td>5300</td>\n",
              "      <td>19</td>\n",
              "      <td>25</td>\n",
              "      <td>19045</td>\n",
              "    </tr>\n",
              "    <tr>\n",
              "      <th>202</th>\n",
              "      <td>-1</td>\n",
              "      <td>95</td>\n",
              "      <td>volvo</td>\n",
              "      <td>gas</td>\n",
              "      <td>std</td>\n",
              "      <td>four</td>\n",
              "      <td>sedan</td>\n",
              "      <td>rwd</td>\n",
              "      <td>front</td>\n",
              "      <td>109.1</td>\n",
              "      <td>188.8</td>\n",
              "      <td>68.9</td>\n",
              "      <td>55.5</td>\n",
              "      <td>3012</td>\n",
              "      <td>ohcv</td>\n",
              "      <td>six</td>\n",
              "      <td>173</td>\n",
              "      <td>mpfi</td>\n",
              "      <td>3.58</td>\n",
              "      <td>2.87</td>\n",
              "      <td>8.8</td>\n",
              "      <td>134</td>\n",
              "      <td>5500</td>\n",
              "      <td>18</td>\n",
              "      <td>23</td>\n",
              "      <td>21485</td>\n",
              "    </tr>\n",
              "    <tr>\n",
              "      <th>203</th>\n",
              "      <td>-1</td>\n",
              "      <td>95</td>\n",
              "      <td>volvo</td>\n",
              "      <td>diesel</td>\n",
              "      <td>turbo</td>\n",
              "      <td>four</td>\n",
              "      <td>sedan</td>\n",
              "      <td>rwd</td>\n",
              "      <td>front</td>\n",
              "      <td>109.1</td>\n",
              "      <td>188.8</td>\n",
              "      <td>68.9</td>\n",
              "      <td>55.5</td>\n",
              "      <td>3217</td>\n",
              "      <td>ohc</td>\n",
              "      <td>six</td>\n",
              "      <td>145</td>\n",
              "      <td>idi</td>\n",
              "      <td>3.01</td>\n",
              "      <td>3.40</td>\n",
              "      <td>23.0</td>\n",
              "      <td>106</td>\n",
              "      <td>4800</td>\n",
              "      <td>26</td>\n",
              "      <td>27</td>\n",
              "      <td>22470</td>\n",
              "    </tr>\n",
              "    <tr>\n",
              "      <th>204</th>\n",
              "      <td>-1</td>\n",
              "      <td>95</td>\n",
              "      <td>volvo</td>\n",
              "      <td>gas</td>\n",
              "      <td>turbo</td>\n",
              "      <td>four</td>\n",
              "      <td>sedan</td>\n",
              "      <td>rwd</td>\n",
              "      <td>front</td>\n",
              "      <td>109.1</td>\n",
              "      <td>188.8</td>\n",
              "      <td>68.9</td>\n",
              "      <td>55.5</td>\n",
              "      <td>3062</td>\n",
              "      <td>ohc</td>\n",
              "      <td>four</td>\n",
              "      <td>141</td>\n",
              "      <td>mpfi</td>\n",
              "      <td>3.78</td>\n",
              "      <td>3.15</td>\n",
              "      <td>9.5</td>\n",
              "      <td>114</td>\n",
              "      <td>5400</td>\n",
              "      <td>19</td>\n",
              "      <td>25</td>\n",
              "      <td>22625</td>\n",
              "    </tr>\n",
              "  </tbody>\n",
              "</table>\n",
              "</div>"
            ],
            "text/plain": [
              "     0   1      2       3      4     5   ...    20   21    22  23  24     25\n",
              "200  -1  95  volvo     gas    std  four  ...   9.5  114  5400  23  28  16845\n",
              "201  -1  95  volvo     gas  turbo  four  ...   8.7  160  5300  19  25  19045\n",
              "202  -1  95  volvo     gas    std  four  ...   8.8  134  5500  18  23  21485\n",
              "203  -1  95  volvo  diesel  turbo  four  ...  23.0  106  4800  26  27  22470\n",
              "204  -1  95  volvo     gas  turbo  four  ...   9.5  114  5400  19  25  22625\n",
              "\n",
              "[5 rows x 26 columns]"
            ]
          },
          "metadata": {
            "tags": []
          },
          "execution_count": 78
        }
      ]
    },
    {
      "cell_type": "markdown",
      "metadata": {
        "id": "lvfDMqm5BIgJ",
        "colab_type": "text"
      },
      "source": [
        "## Pregunta: \n",
        "\n",
        "Imprima en pantalla los 10 primeros elementos del dataFrame y los 10 últimos elementos."
      ]
    },
    {
      "cell_type": "markdown",
      "metadata": {
        "id": "ELX582hhBOys",
        "colab_type": "text"
      },
      "source": [
        "Para ver la solución haga double-click <b>aquí</b>.\n",
        "\n",
        "<!-- La respuesta se encuentra a continuación:\n",
        "\n",
        "# Celda 1: 10 primeros elementos del dataFrame\n",
        "\n",
        "df.head(10)\n",
        "\n",
        "# Celda 2: 10 últimos elementos del dataFrame\n",
        "\n",
        "df.tail(10)\n",
        "\n",
        "-->"
      ]
    },
    {
      "cell_type": "markdown",
      "metadata": {
        "id": "uRHx-OTDBWp7",
        "colab_type": "text"
      },
      "source": [
        "Agreguemos un header a los datos cargados:"
      ]
    },
    {
      "cell_type": "code",
      "metadata": {
        "id": "ggmzAZlmBbnX",
        "colab_type": "code",
        "outputId": "54cee9ae-5209-490f-ccb7-9a293c79e7c0",
        "colab": {
          "base_uri": "https://localhost:8080/",
          "height": 74
        }
      },
      "source": [
        "# Creación de un header\n",
        "headers = [\"symboling\",\"normalized-losses\",\"make\",\"fuel-type\",\"aspiration\", \"num-of-doors\",\"body-style\",\n",
        "         \"drive-wheels\",\"engine-location\",\"wheel-base\", \"length\",\"width\",\"height\",\"curb-weight\",\"engine-type\",\n",
        "         \"num-of-cylinders\", \"engine-size\",\"fuel-system\",\"bore\",\"stroke\",\"compression-ratio\",\"horsepower\",\n",
        "         \"peak-rpm\",\"city-mpg\",\"highway-mpg\",\"price\"]\n",
        "print(\"headers\\n\", headers)"
      ],
      "execution_count": 0,
      "outputs": [
        {
          "output_type": "stream",
          "text": [
            "headers\n",
            " ['symboling', 'normalized-losses', 'make', 'fuel-type', 'aspiration', 'num-of-doors', 'body-style', 'drive-wheels', 'engine-location', 'wheel-base', 'length', 'width', 'height', 'curb-weight', 'engine-type', 'num-of-cylinders', 'engine-size', 'fuel-system', 'bore', 'stroke', 'compression-ratio', 'horsepower', 'peak-rpm', 'city-mpg', 'highway-mpg', 'price']\n"
          ],
          "name": "stdout"
        }
      ]
    },
    {
      "cell_type": "markdown",
      "metadata": {
        "id": "72gjs6qUBgoy",
        "colab_type": "text"
      },
      "source": [
        "Remplazo del header en el dataFrame"
      ]
    },
    {
      "cell_type": "code",
      "metadata": {
        "id": "3ySUhc6qBme1",
        "colab_type": "code",
        "outputId": "c1c048bd-f556-468a-f9e2-9f67cbcb75cd",
        "colab": {
          "base_uri": "https://localhost:8080/",
          "height": 455
        }
      },
      "source": [
        "df.columns = headers\n",
        "df.head(10)"
      ],
      "execution_count": 0,
      "outputs": [
        {
          "output_type": "execute_result",
          "data": {
            "text/html": [
              "<div>\n",
              "<style scoped>\n",
              "    .dataframe tbody tr th:only-of-type {\n",
              "        vertical-align: middle;\n",
              "    }\n",
              "\n",
              "    .dataframe tbody tr th {\n",
              "        vertical-align: top;\n",
              "    }\n",
              "\n",
              "    .dataframe thead th {\n",
              "        text-align: right;\n",
              "    }\n",
              "</style>\n",
              "<table border=\"1\" class=\"dataframe\">\n",
              "  <thead>\n",
              "    <tr style=\"text-align: right;\">\n",
              "      <th></th>\n",
              "      <th>symboling</th>\n",
              "      <th>normalized-losses</th>\n",
              "      <th>make</th>\n",
              "      <th>fuel-type</th>\n",
              "      <th>aspiration</th>\n",
              "      <th>num-of-doors</th>\n",
              "      <th>body-style</th>\n",
              "      <th>drive-wheels</th>\n",
              "      <th>engine-location</th>\n",
              "      <th>wheel-base</th>\n",
              "      <th>length</th>\n",
              "      <th>width</th>\n",
              "      <th>height</th>\n",
              "      <th>curb-weight</th>\n",
              "      <th>engine-type</th>\n",
              "      <th>num-of-cylinders</th>\n",
              "      <th>engine-size</th>\n",
              "      <th>fuel-system</th>\n",
              "      <th>bore</th>\n",
              "      <th>stroke</th>\n",
              "      <th>compression-ratio</th>\n",
              "      <th>horsepower</th>\n",
              "      <th>peak-rpm</th>\n",
              "      <th>city-mpg</th>\n",
              "      <th>highway-mpg</th>\n",
              "      <th>price</th>\n",
              "    </tr>\n",
              "  </thead>\n",
              "  <tbody>\n",
              "    <tr>\n",
              "      <th>0</th>\n",
              "      <td>3</td>\n",
              "      <td>?</td>\n",
              "      <td>alfa-romero</td>\n",
              "      <td>gas</td>\n",
              "      <td>std</td>\n",
              "      <td>two</td>\n",
              "      <td>convertible</td>\n",
              "      <td>rwd</td>\n",
              "      <td>front</td>\n",
              "      <td>88.6</td>\n",
              "      <td>168.8</td>\n",
              "      <td>64.1</td>\n",
              "      <td>48.8</td>\n",
              "      <td>2548</td>\n",
              "      <td>dohc</td>\n",
              "      <td>four</td>\n",
              "      <td>130</td>\n",
              "      <td>mpfi</td>\n",
              "      <td>3.47</td>\n",
              "      <td>2.68</td>\n",
              "      <td>9.0</td>\n",
              "      <td>111</td>\n",
              "      <td>5000</td>\n",
              "      <td>21</td>\n",
              "      <td>27</td>\n",
              "      <td>13495</td>\n",
              "    </tr>\n",
              "    <tr>\n",
              "      <th>1</th>\n",
              "      <td>3</td>\n",
              "      <td>?</td>\n",
              "      <td>alfa-romero</td>\n",
              "      <td>gas</td>\n",
              "      <td>std</td>\n",
              "      <td>two</td>\n",
              "      <td>convertible</td>\n",
              "      <td>rwd</td>\n",
              "      <td>front</td>\n",
              "      <td>88.6</td>\n",
              "      <td>168.8</td>\n",
              "      <td>64.1</td>\n",
              "      <td>48.8</td>\n",
              "      <td>2548</td>\n",
              "      <td>dohc</td>\n",
              "      <td>four</td>\n",
              "      <td>130</td>\n",
              "      <td>mpfi</td>\n",
              "      <td>3.47</td>\n",
              "      <td>2.68</td>\n",
              "      <td>9.0</td>\n",
              "      <td>111</td>\n",
              "      <td>5000</td>\n",
              "      <td>21</td>\n",
              "      <td>27</td>\n",
              "      <td>16500</td>\n",
              "    </tr>\n",
              "    <tr>\n",
              "      <th>2</th>\n",
              "      <td>1</td>\n",
              "      <td>?</td>\n",
              "      <td>alfa-romero</td>\n",
              "      <td>gas</td>\n",
              "      <td>std</td>\n",
              "      <td>two</td>\n",
              "      <td>hatchback</td>\n",
              "      <td>rwd</td>\n",
              "      <td>front</td>\n",
              "      <td>94.5</td>\n",
              "      <td>171.2</td>\n",
              "      <td>65.5</td>\n",
              "      <td>52.4</td>\n",
              "      <td>2823</td>\n",
              "      <td>ohcv</td>\n",
              "      <td>six</td>\n",
              "      <td>152</td>\n",
              "      <td>mpfi</td>\n",
              "      <td>2.68</td>\n",
              "      <td>3.47</td>\n",
              "      <td>9.0</td>\n",
              "      <td>154</td>\n",
              "      <td>5000</td>\n",
              "      <td>19</td>\n",
              "      <td>26</td>\n",
              "      <td>16500</td>\n",
              "    </tr>\n",
              "    <tr>\n",
              "      <th>3</th>\n",
              "      <td>2</td>\n",
              "      <td>164</td>\n",
              "      <td>audi</td>\n",
              "      <td>gas</td>\n",
              "      <td>std</td>\n",
              "      <td>four</td>\n",
              "      <td>sedan</td>\n",
              "      <td>fwd</td>\n",
              "      <td>front</td>\n",
              "      <td>99.8</td>\n",
              "      <td>176.6</td>\n",
              "      <td>66.2</td>\n",
              "      <td>54.3</td>\n",
              "      <td>2337</td>\n",
              "      <td>ohc</td>\n",
              "      <td>four</td>\n",
              "      <td>109</td>\n",
              "      <td>mpfi</td>\n",
              "      <td>3.19</td>\n",
              "      <td>3.40</td>\n",
              "      <td>10.0</td>\n",
              "      <td>102</td>\n",
              "      <td>5500</td>\n",
              "      <td>24</td>\n",
              "      <td>30</td>\n",
              "      <td>13950</td>\n",
              "    </tr>\n",
              "    <tr>\n",
              "      <th>4</th>\n",
              "      <td>2</td>\n",
              "      <td>164</td>\n",
              "      <td>audi</td>\n",
              "      <td>gas</td>\n",
              "      <td>std</td>\n",
              "      <td>four</td>\n",
              "      <td>sedan</td>\n",
              "      <td>4wd</td>\n",
              "      <td>front</td>\n",
              "      <td>99.4</td>\n",
              "      <td>176.6</td>\n",
              "      <td>66.4</td>\n",
              "      <td>54.3</td>\n",
              "      <td>2824</td>\n",
              "      <td>ohc</td>\n",
              "      <td>five</td>\n",
              "      <td>136</td>\n",
              "      <td>mpfi</td>\n",
              "      <td>3.19</td>\n",
              "      <td>3.40</td>\n",
              "      <td>8.0</td>\n",
              "      <td>115</td>\n",
              "      <td>5500</td>\n",
              "      <td>18</td>\n",
              "      <td>22</td>\n",
              "      <td>17450</td>\n",
              "    </tr>\n",
              "    <tr>\n",
              "      <th>5</th>\n",
              "      <td>2</td>\n",
              "      <td>?</td>\n",
              "      <td>audi</td>\n",
              "      <td>gas</td>\n",
              "      <td>std</td>\n",
              "      <td>two</td>\n",
              "      <td>sedan</td>\n",
              "      <td>fwd</td>\n",
              "      <td>front</td>\n",
              "      <td>99.8</td>\n",
              "      <td>177.3</td>\n",
              "      <td>66.3</td>\n",
              "      <td>53.1</td>\n",
              "      <td>2507</td>\n",
              "      <td>ohc</td>\n",
              "      <td>five</td>\n",
              "      <td>136</td>\n",
              "      <td>mpfi</td>\n",
              "      <td>3.19</td>\n",
              "      <td>3.40</td>\n",
              "      <td>8.5</td>\n",
              "      <td>110</td>\n",
              "      <td>5500</td>\n",
              "      <td>19</td>\n",
              "      <td>25</td>\n",
              "      <td>15250</td>\n",
              "    </tr>\n",
              "    <tr>\n",
              "      <th>6</th>\n",
              "      <td>1</td>\n",
              "      <td>158</td>\n",
              "      <td>audi</td>\n",
              "      <td>gas</td>\n",
              "      <td>std</td>\n",
              "      <td>four</td>\n",
              "      <td>sedan</td>\n",
              "      <td>fwd</td>\n",
              "      <td>front</td>\n",
              "      <td>105.8</td>\n",
              "      <td>192.7</td>\n",
              "      <td>71.4</td>\n",
              "      <td>55.7</td>\n",
              "      <td>2844</td>\n",
              "      <td>ohc</td>\n",
              "      <td>five</td>\n",
              "      <td>136</td>\n",
              "      <td>mpfi</td>\n",
              "      <td>3.19</td>\n",
              "      <td>3.40</td>\n",
              "      <td>8.5</td>\n",
              "      <td>110</td>\n",
              "      <td>5500</td>\n",
              "      <td>19</td>\n",
              "      <td>25</td>\n",
              "      <td>17710</td>\n",
              "    </tr>\n",
              "    <tr>\n",
              "      <th>7</th>\n",
              "      <td>1</td>\n",
              "      <td>?</td>\n",
              "      <td>audi</td>\n",
              "      <td>gas</td>\n",
              "      <td>std</td>\n",
              "      <td>four</td>\n",
              "      <td>wagon</td>\n",
              "      <td>fwd</td>\n",
              "      <td>front</td>\n",
              "      <td>105.8</td>\n",
              "      <td>192.7</td>\n",
              "      <td>71.4</td>\n",
              "      <td>55.7</td>\n",
              "      <td>2954</td>\n",
              "      <td>ohc</td>\n",
              "      <td>five</td>\n",
              "      <td>136</td>\n",
              "      <td>mpfi</td>\n",
              "      <td>3.19</td>\n",
              "      <td>3.40</td>\n",
              "      <td>8.5</td>\n",
              "      <td>110</td>\n",
              "      <td>5500</td>\n",
              "      <td>19</td>\n",
              "      <td>25</td>\n",
              "      <td>18920</td>\n",
              "    </tr>\n",
              "    <tr>\n",
              "      <th>8</th>\n",
              "      <td>1</td>\n",
              "      <td>158</td>\n",
              "      <td>audi</td>\n",
              "      <td>gas</td>\n",
              "      <td>turbo</td>\n",
              "      <td>four</td>\n",
              "      <td>sedan</td>\n",
              "      <td>fwd</td>\n",
              "      <td>front</td>\n",
              "      <td>105.8</td>\n",
              "      <td>192.7</td>\n",
              "      <td>71.4</td>\n",
              "      <td>55.9</td>\n",
              "      <td>3086</td>\n",
              "      <td>ohc</td>\n",
              "      <td>five</td>\n",
              "      <td>131</td>\n",
              "      <td>mpfi</td>\n",
              "      <td>3.13</td>\n",
              "      <td>3.40</td>\n",
              "      <td>8.3</td>\n",
              "      <td>140</td>\n",
              "      <td>5500</td>\n",
              "      <td>17</td>\n",
              "      <td>20</td>\n",
              "      <td>23875</td>\n",
              "    </tr>\n",
              "    <tr>\n",
              "      <th>9</th>\n",
              "      <td>0</td>\n",
              "      <td>?</td>\n",
              "      <td>audi</td>\n",
              "      <td>gas</td>\n",
              "      <td>turbo</td>\n",
              "      <td>two</td>\n",
              "      <td>hatchback</td>\n",
              "      <td>4wd</td>\n",
              "      <td>front</td>\n",
              "      <td>99.5</td>\n",
              "      <td>178.2</td>\n",
              "      <td>67.9</td>\n",
              "      <td>52.0</td>\n",
              "      <td>3053</td>\n",
              "      <td>ohc</td>\n",
              "      <td>five</td>\n",
              "      <td>131</td>\n",
              "      <td>mpfi</td>\n",
              "      <td>3.13</td>\n",
              "      <td>3.40</td>\n",
              "      <td>7.0</td>\n",
              "      <td>160</td>\n",
              "      <td>5500</td>\n",
              "      <td>16</td>\n",
              "      <td>22</td>\n",
              "      <td>?</td>\n",
              "    </tr>\n",
              "  </tbody>\n",
              "</table>\n",
              "</div>"
            ],
            "text/plain": [
              "   symboling normalized-losses         make  ... city-mpg highway-mpg  price\n",
              "0          3                 ?  alfa-romero  ...       21          27  13495\n",
              "1          3                 ?  alfa-romero  ...       21          27  16500\n",
              "2          1                 ?  alfa-romero  ...       19          26  16500\n",
              "3          2               164         audi  ...       24          30  13950\n",
              "4          2               164         audi  ...       18          22  17450\n",
              "5          2                 ?         audi  ...       19          25  15250\n",
              "6          1               158         audi  ...       19          25  17710\n",
              "7          1                 ?         audi  ...       19          25  18920\n",
              "8          1               158         audi  ...       17          20  23875\n",
              "9          0                 ?         audi  ...       16          22      ?\n",
              "\n",
              "[10 rows x 26 columns]"
            ]
          },
          "metadata": {
            "tags": []
          },
          "execution_count": 80
        }
      ]
    },
    {
      "cell_type": "markdown",
      "metadata": {
        "id": "ZO4od7zdACUx",
        "colab_type": "text"
      },
      "source": [
        "<p><a name=\"dataExploration\"></a></p>\n",
        "\n",
        "## 4.4 Exploración básica del dataFrame.\n",
        "\n",
        "[[Contenidos]](#contents)\n",
        "\n",
        "\n",
        "A continuación se analizan los tipos de datos que contiene el dataFrame anterior. Para esto, usamos la funcion `dtypes`"
      ]
    },
    {
      "cell_type": "code",
      "metadata": {
        "id": "RdtAfbJdAcw-",
        "colab_type": "code",
        "outputId": "b9a2b512-4fad-4e7b-9c1a-532aff70ae3d",
        "colab": {
          "base_uri": "https://localhost:8080/",
          "height": 508
        }
      },
      "source": [
        "df.dtypes"
      ],
      "execution_count": 0,
      "outputs": [
        {
          "output_type": "execute_result",
          "data": {
            "text/plain": [
              "symboling              int64\n",
              "normalized-losses     object\n",
              "make                  object\n",
              "fuel-type             object\n",
              "aspiration            object\n",
              "num-of-doors          object\n",
              "body-style            object\n",
              "drive-wheels          object\n",
              "engine-location       object\n",
              "wheel-base           float64\n",
              "length               float64\n",
              "width                float64\n",
              "height               float64\n",
              "curb-weight            int64\n",
              "engine-type           object\n",
              "num-of-cylinders      object\n",
              "engine-size            int64\n",
              "fuel-system           object\n",
              "bore                  object\n",
              "stroke                object\n",
              "compression-ratio    float64\n",
              "horsepower            object\n",
              "peak-rpm              object\n",
              "city-mpg               int64\n",
              "highway-mpg            int64\n",
              "price                 object\n",
              "dtype: object"
            ]
          },
          "metadata": {
            "tags": []
          },
          "execution_count": 81
        }
      ]
    },
    {
      "cell_type": "code",
      "metadata": {
        "id": "ZmklUL9QUmXt",
        "colab_type": "code",
        "outputId": "563bb8e7-c4ed-420d-9abb-53085e41dc28",
        "colab": {
          "base_uri": "https://localhost:8080/",
          "height": 145
        }
      },
      "source": [
        "np.array(df[df.columns[df.dtypes=='float64']])"
      ],
      "execution_count": 0,
      "outputs": [
        {
          "output_type": "execute_result",
          "data": {
            "text/plain": [
              "array([[ 88.6, 168.8,  64.1,  48.8,   9. ],\n",
              "       [ 88.6, 168.8,  64.1,  48.8,   9. ],\n",
              "       [ 94.5, 171.2,  65.5,  52.4,   9. ],\n",
              "       ...,\n",
              "       [109.1, 188.8,  68.9,  55.5,   8.8],\n",
              "       [109.1, 188.8,  68.9,  55.5,  23. ],\n",
              "       [109.1, 188.8,  68.9,  55.5,   9.5]])"
            ]
          },
          "metadata": {
            "tags": []
          },
          "execution_count": 82
        }
      ]
    },
    {
      "cell_type": "markdown",
      "metadata": {
        "id": "mfb_KbuLB5S3",
        "colab_type": "text"
      },
      "source": [
        "**Descripción del dataFrame**\n",
        "\n",
        "Para obtener una descripción estadistica del dataFrame, podemos usar el método `describe()` de la siguiente forma "
      ]
    },
    {
      "cell_type": "code",
      "metadata": {
        "id": "EyfNX8ACB3-p",
        "colab_type": "code",
        "outputId": "6ffa558f-110e-4585-da02-5ff684c8221a",
        "colab": {
          "base_uri": "https://localhost:8080/",
          "height": 288
        }
      },
      "source": [
        "df.describe()"
      ],
      "execution_count": 0,
      "outputs": [
        {
          "output_type": "execute_result",
          "data": {
            "text/html": [
              "<div>\n",
              "<style scoped>\n",
              "    .dataframe tbody tr th:only-of-type {\n",
              "        vertical-align: middle;\n",
              "    }\n",
              "\n",
              "    .dataframe tbody tr th {\n",
              "        vertical-align: top;\n",
              "    }\n",
              "\n",
              "    .dataframe thead th {\n",
              "        text-align: right;\n",
              "    }\n",
              "</style>\n",
              "<table border=\"1\" class=\"dataframe\">\n",
              "  <thead>\n",
              "    <tr style=\"text-align: right;\">\n",
              "      <th></th>\n",
              "      <th>symboling</th>\n",
              "      <th>wheel-base</th>\n",
              "      <th>length</th>\n",
              "      <th>width</th>\n",
              "      <th>height</th>\n",
              "      <th>curb-weight</th>\n",
              "      <th>engine-size</th>\n",
              "      <th>compression-ratio</th>\n",
              "      <th>city-mpg</th>\n",
              "      <th>highway-mpg</th>\n",
              "    </tr>\n",
              "  </thead>\n",
              "  <tbody>\n",
              "    <tr>\n",
              "      <th>count</th>\n",
              "      <td>205.000000</td>\n",
              "      <td>205.000000</td>\n",
              "      <td>205.000000</td>\n",
              "      <td>205.000000</td>\n",
              "      <td>205.000000</td>\n",
              "      <td>205.000000</td>\n",
              "      <td>205.000000</td>\n",
              "      <td>205.000000</td>\n",
              "      <td>205.000000</td>\n",
              "      <td>205.000000</td>\n",
              "    </tr>\n",
              "    <tr>\n",
              "      <th>mean</th>\n",
              "      <td>0.834146</td>\n",
              "      <td>98.756585</td>\n",
              "      <td>174.049268</td>\n",
              "      <td>65.907805</td>\n",
              "      <td>53.724878</td>\n",
              "      <td>2555.565854</td>\n",
              "      <td>126.907317</td>\n",
              "      <td>10.142537</td>\n",
              "      <td>25.219512</td>\n",
              "      <td>30.751220</td>\n",
              "    </tr>\n",
              "    <tr>\n",
              "      <th>std</th>\n",
              "      <td>1.245307</td>\n",
              "      <td>6.021776</td>\n",
              "      <td>12.337289</td>\n",
              "      <td>2.145204</td>\n",
              "      <td>2.443522</td>\n",
              "      <td>520.680204</td>\n",
              "      <td>41.642693</td>\n",
              "      <td>3.972040</td>\n",
              "      <td>6.542142</td>\n",
              "      <td>6.886443</td>\n",
              "    </tr>\n",
              "    <tr>\n",
              "      <th>min</th>\n",
              "      <td>-2.000000</td>\n",
              "      <td>86.600000</td>\n",
              "      <td>141.100000</td>\n",
              "      <td>60.300000</td>\n",
              "      <td>47.800000</td>\n",
              "      <td>1488.000000</td>\n",
              "      <td>61.000000</td>\n",
              "      <td>7.000000</td>\n",
              "      <td>13.000000</td>\n",
              "      <td>16.000000</td>\n",
              "    </tr>\n",
              "    <tr>\n",
              "      <th>25%</th>\n",
              "      <td>0.000000</td>\n",
              "      <td>94.500000</td>\n",
              "      <td>166.300000</td>\n",
              "      <td>64.100000</td>\n",
              "      <td>52.000000</td>\n",
              "      <td>2145.000000</td>\n",
              "      <td>97.000000</td>\n",
              "      <td>8.600000</td>\n",
              "      <td>19.000000</td>\n",
              "      <td>25.000000</td>\n",
              "    </tr>\n",
              "    <tr>\n",
              "      <th>50%</th>\n",
              "      <td>1.000000</td>\n",
              "      <td>97.000000</td>\n",
              "      <td>173.200000</td>\n",
              "      <td>65.500000</td>\n",
              "      <td>54.100000</td>\n",
              "      <td>2414.000000</td>\n",
              "      <td>120.000000</td>\n",
              "      <td>9.000000</td>\n",
              "      <td>24.000000</td>\n",
              "      <td>30.000000</td>\n",
              "    </tr>\n",
              "    <tr>\n",
              "      <th>75%</th>\n",
              "      <td>2.000000</td>\n",
              "      <td>102.400000</td>\n",
              "      <td>183.100000</td>\n",
              "      <td>66.900000</td>\n",
              "      <td>55.500000</td>\n",
              "      <td>2935.000000</td>\n",
              "      <td>141.000000</td>\n",
              "      <td>9.400000</td>\n",
              "      <td>30.000000</td>\n",
              "      <td>34.000000</td>\n",
              "    </tr>\n",
              "    <tr>\n",
              "      <th>max</th>\n",
              "      <td>3.000000</td>\n",
              "      <td>120.900000</td>\n",
              "      <td>208.100000</td>\n",
              "      <td>72.300000</td>\n",
              "      <td>59.800000</td>\n",
              "      <td>4066.000000</td>\n",
              "      <td>326.000000</td>\n",
              "      <td>23.000000</td>\n",
              "      <td>49.000000</td>\n",
              "      <td>54.000000</td>\n",
              "    </tr>\n",
              "  </tbody>\n",
              "</table>\n",
              "</div>"
            ],
            "text/plain": [
              "        symboling  wheel-base  ...    city-mpg  highway-mpg\n",
              "count  205.000000  205.000000  ...  205.000000   205.000000\n",
              "mean     0.834146   98.756585  ...   25.219512    30.751220\n",
              "std      1.245307    6.021776  ...    6.542142     6.886443\n",
              "min     -2.000000   86.600000  ...   13.000000    16.000000\n",
              "25%      0.000000   94.500000  ...   19.000000    25.000000\n",
              "50%      1.000000   97.000000  ...   24.000000    30.000000\n",
              "75%      2.000000  102.400000  ...   30.000000    34.000000\n",
              "max      3.000000  120.900000  ...   49.000000    54.000000\n",
              "\n",
              "[8 rows x 10 columns]"
            ]
          },
          "metadata": {
            "tags": []
          },
          "execution_count": 83
        }
      ]
    },
    {
      "cell_type": "markdown",
      "metadata": {
        "id": "l0qd61hBCi0A",
        "colab_type": "text"
      },
      "source": [
        "También podemos mostrar la descripción de unas cuantas columnas de la tabla, indicando los nombres de las columnas:"
      ]
    },
    {
      "cell_type": "code",
      "metadata": {
        "id": "KXkiRk5HDBxL",
        "colab_type": "code",
        "outputId": "63557a66-706a-4d5a-a1cd-e963aba56895",
        "colab": {
          "base_uri": "https://localhost:8080/",
          "height": 288
        }
      },
      "source": [
        "df[['length','compression-ratio']].describe()"
      ],
      "execution_count": 0,
      "outputs": [
        {
          "output_type": "execute_result",
          "data": {
            "text/html": [
              "<div>\n",
              "<style scoped>\n",
              "    .dataframe tbody tr th:only-of-type {\n",
              "        vertical-align: middle;\n",
              "    }\n",
              "\n",
              "    .dataframe tbody tr th {\n",
              "        vertical-align: top;\n",
              "    }\n",
              "\n",
              "    .dataframe thead th {\n",
              "        text-align: right;\n",
              "    }\n",
              "</style>\n",
              "<table border=\"1\" class=\"dataframe\">\n",
              "  <thead>\n",
              "    <tr style=\"text-align: right;\">\n",
              "      <th></th>\n",
              "      <th>length</th>\n",
              "      <th>compression-ratio</th>\n",
              "    </tr>\n",
              "  </thead>\n",
              "  <tbody>\n",
              "    <tr>\n",
              "      <th>count</th>\n",
              "      <td>205.000000</td>\n",
              "      <td>205.000000</td>\n",
              "    </tr>\n",
              "    <tr>\n",
              "      <th>mean</th>\n",
              "      <td>174.049268</td>\n",
              "      <td>10.142537</td>\n",
              "    </tr>\n",
              "    <tr>\n",
              "      <th>std</th>\n",
              "      <td>12.337289</td>\n",
              "      <td>3.972040</td>\n",
              "    </tr>\n",
              "    <tr>\n",
              "      <th>min</th>\n",
              "      <td>141.100000</td>\n",
              "      <td>7.000000</td>\n",
              "    </tr>\n",
              "    <tr>\n",
              "      <th>25%</th>\n",
              "      <td>166.300000</td>\n",
              "      <td>8.600000</td>\n",
              "    </tr>\n",
              "    <tr>\n",
              "      <th>50%</th>\n",
              "      <td>173.200000</td>\n",
              "      <td>9.000000</td>\n",
              "    </tr>\n",
              "    <tr>\n",
              "      <th>75%</th>\n",
              "      <td>183.100000</td>\n",
              "      <td>9.400000</td>\n",
              "    </tr>\n",
              "    <tr>\n",
              "      <th>max</th>\n",
              "      <td>208.100000</td>\n",
              "      <td>23.000000</td>\n",
              "    </tr>\n",
              "  </tbody>\n",
              "</table>\n",
              "</div>"
            ],
            "text/plain": [
              "           length  compression-ratio\n",
              "count  205.000000         205.000000\n",
              "mean   174.049268          10.142537\n",
              "std     12.337289           3.972040\n",
              "min    141.100000           7.000000\n",
              "25%    166.300000           8.600000\n",
              "50%    173.200000           9.000000\n",
              "75%    183.100000           9.400000\n",
              "max    208.100000          23.000000"
            ]
          },
          "metadata": {
            "tags": []
          },
          "execution_count": 84
        }
      ]
    },
    {
      "cell_type": "markdown",
      "metadata": {
        "id": "6OnqFBnKDNUC",
        "colab_type": "text"
      },
      "source": [
        "Para obtener un resumen conciso de los datos almacenados en el dataFrame, podemos ejecutar el método `info()`"
      ]
    },
    {
      "cell_type": "code",
      "metadata": {
        "id": "ib_NQM28DiMe",
        "colab_type": "code",
        "outputId": "695fcc06-336e-4564-c3cb-e7c94790244a",
        "colab": {
          "base_uri": "https://localhost:8080/",
          "height": 581
        }
      },
      "source": [
        "df.info()"
      ],
      "execution_count": 0,
      "outputs": [
        {
          "output_type": "stream",
          "text": [
            "<class 'pandas.core.frame.DataFrame'>\n",
            "RangeIndex: 205 entries, 0 to 204\n",
            "Data columns (total 26 columns):\n",
            "symboling            205 non-null int64\n",
            "normalized-losses    205 non-null object\n",
            "make                 205 non-null object\n",
            "fuel-type            205 non-null object\n",
            "aspiration           205 non-null object\n",
            "num-of-doors         205 non-null object\n",
            "body-style           205 non-null object\n",
            "drive-wheels         205 non-null object\n",
            "engine-location      205 non-null object\n",
            "wheel-base           205 non-null float64\n",
            "length               205 non-null float64\n",
            "width                205 non-null float64\n",
            "height               205 non-null float64\n",
            "curb-weight          205 non-null int64\n",
            "engine-type          205 non-null object\n",
            "num-of-cylinders     205 non-null object\n",
            "engine-size          205 non-null int64\n",
            "fuel-system          205 non-null object\n",
            "bore                 205 non-null object\n",
            "stroke               205 non-null object\n",
            "compression-ratio    205 non-null float64\n",
            "horsepower           205 non-null object\n",
            "peak-rpm             205 non-null object\n",
            "city-mpg             205 non-null int64\n",
            "highway-mpg          205 non-null int64\n",
            "price                205 non-null object\n",
            "dtypes: float64(5), int64(5), object(16)\n",
            "memory usage: 41.8+ KB\n"
          ],
          "name": "stdout"
        }
      ]
    },
    {
      "cell_type": "code",
      "metadata": {
        "id": "5PRXYEcLWeHg",
        "colab_type": "code",
        "outputId": "fc63b934-3cbf-4422-ff15-9adbead90269",
        "colab": {
          "base_uri": "https://localhost:8080/",
          "height": 72
        }
      },
      "source": [
        "dfPrueba.dtypes"
      ],
      "execution_count": 0,
      "outputs": [
        {
          "output_type": "execute_result",
          "data": {
            "text/plain": [
              "even      int64\n",
              "odd     float64\n",
              "dtype: object"
            ]
          },
          "metadata": {
            "tags": []
          },
          "execution_count": 86
        }
      ]
    },
    {
      "cell_type": "code",
      "metadata": {
        "id": "5NkmA9fCWtlf",
        "colab_type": "code",
        "colab": {}
      },
      "source": [
        "dfPrueba.even=dfPrueba.even.astype('float64')"
      ],
      "execution_count": 0,
      "outputs": []
    },
    {
      "cell_type": "code",
      "metadata": {
        "id": "Hr8MtfrTO8V0",
        "colab_type": "code",
        "colab": {}
      },
      "source": [
        "# Import packages\n",
        "import numpy as np\n",
        "import pandas as pd\n",
        "import matplotlib.pyplot as plt\n",
        "\n",
        "# Lectura de una base de datos en internet y asignación a la variable df.\n",
        "path = \"https://raw.githubusercontent.com/diplomado-bigdata-machinelearning-udea/Curso1/master/s02/multiTimeline.csv\"\n",
        "df = pd.read_csv(path, skiprows=1)"
      ],
      "execution_count": 0,
      "outputs": []
    },
    {
      "cell_type": "code",
      "metadata": {
        "id": "oX-74tbGPIN3",
        "colab_type": "code",
        "outputId": "15c2b19e-6286-4eb2-a571-88d9ad7df407",
        "colab": {
          "base_uri": "https://localhost:8080/",
          "height": 198
        }
      },
      "source": [
        "df.head()"
      ],
      "execution_count": 0,
      "outputs": [
        {
          "output_type": "execute_result",
          "data": {
            "text/html": [
              "<div>\n",
              "<style scoped>\n",
              "    .dataframe tbody tr th:only-of-type {\n",
              "        vertical-align: middle;\n",
              "    }\n",
              "\n",
              "    .dataframe tbody tr th {\n",
              "        vertical-align: top;\n",
              "    }\n",
              "\n",
              "    .dataframe thead th {\n",
              "        text-align: right;\n",
              "    }\n",
              "</style>\n",
              "<table border=\"1\" class=\"dataframe\">\n",
              "  <thead>\n",
              "    <tr style=\"text-align: right;\">\n",
              "      <th></th>\n",
              "      <th>Month</th>\n",
              "      <th>diet: (Worldwide)</th>\n",
              "      <th>gym: (Worldwide)</th>\n",
              "      <th>finance: (Worldwide)</th>\n",
              "    </tr>\n",
              "  </thead>\n",
              "  <tbody>\n",
              "    <tr>\n",
              "      <th>0</th>\n",
              "      <td>2004-01</td>\n",
              "      <td>100</td>\n",
              "      <td>31</td>\n",
              "      <td>48</td>\n",
              "    </tr>\n",
              "    <tr>\n",
              "      <th>1</th>\n",
              "      <td>2004-02</td>\n",
              "      <td>75</td>\n",
              "      <td>26</td>\n",
              "      <td>49</td>\n",
              "    </tr>\n",
              "    <tr>\n",
              "      <th>2</th>\n",
              "      <td>2004-03</td>\n",
              "      <td>67</td>\n",
              "      <td>24</td>\n",
              "      <td>47</td>\n",
              "    </tr>\n",
              "    <tr>\n",
              "      <th>3</th>\n",
              "      <td>2004-04</td>\n",
              "      <td>70</td>\n",
              "      <td>22</td>\n",
              "      <td>48</td>\n",
              "    </tr>\n",
              "    <tr>\n",
              "      <th>4</th>\n",
              "      <td>2004-05</td>\n",
              "      <td>72</td>\n",
              "      <td>22</td>\n",
              "      <td>43</td>\n",
              "    </tr>\n",
              "  </tbody>\n",
              "</table>\n",
              "</div>"
            ],
            "text/plain": [
              "     Month  diet: (Worldwide)  gym: (Worldwide)  finance: (Worldwide)\n",
              "0  2004-01                100                31                    48\n",
              "1  2004-02                 75                26                    49\n",
              "2  2004-03                 67                24                    47\n",
              "3  2004-04                 70                22                    48\n",
              "4  2004-05                 72                22                    43"
            ]
          },
          "metadata": {
            "tags": []
          },
          "execution_count": 89
        }
      ]
    },
    {
      "cell_type": "markdown",
      "metadata": {
        "id": "zDV6eZ8vPNJw",
        "colab_type": "text"
      },
      "source": [
        "El argumento `skiprows` se introduce con el fin de no incluir la primera columna.\n",
        "\n",
        "Se puede usar también el método `.info()` para revizar los tipos de datos, el número de columnas y más:"
      ]
    },
    {
      "cell_type": "code",
      "metadata": {
        "id": "-Qj8lccxPOd-",
        "colab_type": "code",
        "outputId": "9cf5dfec-c911-435b-f08b-3b113b4c7dc1",
        "colab": {
          "base_uri": "https://localhost:8080/",
          "height": 181
        }
      },
      "source": [
        "df.info()"
      ],
      "execution_count": 0,
      "outputs": [
        {
          "output_type": "stream",
          "text": [
            "<class 'pandas.core.frame.DataFrame'>\n",
            "RangeIndex: 168 entries, 0 to 167\n",
            "Data columns (total 4 columns):\n",
            "Month                   168 non-null object\n",
            "diet: (Worldwide)       168 non-null int64\n",
            "gym: (Worldwide)        168 non-null int64\n",
            "finance: (Worldwide)    168 non-null int64\n",
            "dtypes: int64(3), object(1)\n",
            "memory usage: 5.4+ KB\n"
          ],
          "name": "stdout"
        }
      ]
    },
    {
      "cell_type": "markdown",
      "metadata": {
        "id": "hCW75le1LRfc",
        "colab_type": "text"
      },
      "source": [
        "<p><a name=\"tpandas\"></a></p>\n",
        "\n",
        "## 4.6 Taller `pandas`.\n",
        "\n",
        "[[Contenidos]](#contents)"
      ]
    },
    {
      "cell_type": "markdown",
      "metadata": {
        "id": "amHmB1KXEk38",
        "colab_type": "text"
      },
      "source": [
        "<div class=\"alert alert-danger alertdanger\" style=\"margin-top: 20px\">\n",
        "<h1> Pregunta #1: </h1>\n",
        "  \n",
        "  Escriba un código de pandas para agregar datos a la siguiente serie de pandas s = pd.Series(['100', '200', 'python', '300.12', '400'])"
      ]
    },
    {
      "cell_type": "markdown",
      "metadata": {
        "id": "6CGawz-sEyim",
        "colab_type": "text"
      },
      "source": [
        "<div class=\"alert alert-danger alertdanger\" style=\"margin-top: 20px\">\n",
        "<h1> Respuesta Pregunta #1: </h1>\n",
        "<b>Corra el código a continuación:</b>\n",
        "</div>"
      ]
    },
    {
      "cell_type": "markdown",
      "metadata": {
        "id": "3GOGHumvE42W",
        "colab_type": "text"
      },
      "source": [
        "Para ver la solución haga double-click <b>aquí</b>.\n",
        "\n",
        "<!-- La respuesta se encuentra a continuación:\n",
        "\n",
        "# Celda 1: s = pd.Series(['100', '200', 'python', '300.12', '400'])\n",
        "print(\"Original Data Series:\")\n",
        "print(s)\n",
        "print(\"\\nData Series after adding some data:\")\n",
        "new_s = s.append(pd.Series(['500', 'php']))\n",
        "print(new_s)\n",
        "\n",
        "\n",
        "-->"
      ]
    },
    {
      "cell_type": "markdown",
      "metadata": {
        "id": "pG0BOoQGFQbI",
        "colab_type": "text"
      },
      "source": [
        "<div class=\"alert alert-danger alertdanger\" style=\"margin-top: 20px\">\n",
        "<h1> Pregunta #2: </h1>\n",
        "  \n",
        "  \n",
        "1.  Escriba un código usando pandas que cree y muestre un DataFrame creado a partir del siguiente diccionario exam_data = {'name': ['Anastasia', 'Dima', 'Katherine', 'James', 'Emily', 'Michael', 'Matthew', 'Laura', 'Kevin', 'Jonas'], 'score': [12.5, 9, 16.5, 10, 9, 20, 14.5, 12, 8, 19], 'attempts': [1, 3, 2, 3, 2, 3, 1, 1, 2, 1], 'qualify': ['yes', 'no', 'yes', 'no', 'no', 'yes', 'yes', 'no', 'no', 'yes']} y las siguientes etiquetas para los índices labels = ['a', 'b', 'c', 'd', 'e', 'f', 'g', 'h', 'i', 'j']\n",
        "\n",
        "2.  Filtre solo las columnas 'name' y 'score'   DataFrame exam_data\n",
        "  \n",
        "3.  Selecionel las filas donde el número de intentos (attemps) es mayor que 2\n",
        "\n",
        "\n",
        "\n",
        "  \n",
        "\n"
      ]
    },
    {
      "cell_type": "markdown",
      "metadata": {
        "id": "Zhp8mBkvKNnx",
        "colab_type": "text"
      },
      "source": [
        "<div class=\"alert alert-danger alertdanger\" style=\"margin-top: 20px\">\n",
        "<h1> Respuesta Pregunta #2: </h1>\n",
        "<b>Corra el código a continuación:</b>\n",
        "</div>"
      ]
    },
    {
      "cell_type": "markdown",
      "metadata": {
        "id": "td2Dy9xfMNQ9",
        "colab_type": "text"
      },
      "source": [
        "Para ver la solución haga double-click <b>aquí</b>.\n",
        "\n",
        "<!-- La respuesta se encuentra a continuación:\n",
        "\n",
        "# Celda 1: exam_data  = {'name': ['Anastasia', 'Dima', 'Katherine', 'James', 'Emily', 'Michael', 'Matthew', 'Laura', 'Kevin', 'Jonas'],\n",
        "        'score': [12.5, 9, 16.5, 10, 9, 20, 14.5, 12, 8, 19],\n",
        "        'attempts': [1, 3, 2, 3, 2, 3, 1, 1, 2, 1],\n",
        "        'qualify': ['yes', 'no', 'yes', 'no', 'no', 'yes', 'yes', 'no', 'no', 'yes']}\n",
        "labels = ['a', 'b', 'c', 'd', 'e', 'f', 'g', 'h', 'i', 'j']\n",
        "\n",
        "df = pd.DataFrame(exam_data , index=labels)\n",
        "\n",
        "# Celda 2: df[['name', 'score']]\n",
        "\n",
        "# Celda 3: df[df['attempts']>2]\n",
        "\n",
        "\n",
        "-->"
      ]
    },
    {
      "cell_type": "markdown",
      "metadata": {
        "id": "boFz2qYDKNCY",
        "colab_type": "text"
      },
      "source": [
        "<div class=\"alert alert-danger alertdanger\" style=\"margin-top: 20px\">\n",
        "<h1> Pregunta #3: </h1>\n",
        "\n",
        "Usando el mismo DatFrame anteior \n",
        "1. Selecciones las filas donde score se encuentre entre 15 y 20 (incluidos)\n",
        "2. Cambie el score en la fila 'd' a 11.5\n",
        "3. Agregue una nueva fila con etiqueta 'k' al data frame con un valor que usted desee para cada columna\n",
        "4. Borre la fila 'k' y entregue nuevamente el  DataFrame original.\n",
        "5. Ordene el DataFrame por nombre ('name') en orden ascendente.\n",
        "6.Reemplace los valores de la columna 'qualify' que contiene los valores 'yes' y 'no' por los valores buleanos True and False respectivamente.\n"
      ]
    },
    {
      "cell_type": "markdown",
      "metadata": {
        "id": "UctnYfR1MlYI",
        "colab_type": "text"
      },
      "source": [
        "<div class=\"alert alert-danger alertdanger\" style=\"margin-top: 20px\">\n",
        "<h1> Respuesta Pregunta #3: </h1>\n",
        "<b>Corra el código a continuación:</b>\n",
        "</div>"
      ]
    },
    {
      "cell_type": "markdown",
      "metadata": {
        "id": "lQSED9LYMsry",
        "colab_type": "text"
      },
      "source": [
        "Para ver la solución haga double-click <b>aquí</b>.\n",
        "\n",
        "<!-- La respuesta se encuentra a continuación:\n",
        "\n",
        "# Celda 1: df[df['score'].between(15, 20)] ##también puede ser df[(df['score']>=15) & (df['score']<=20)]\n",
        "\n",
        "# Celda 2: df.loc['d', 'score'] = 11.5\n",
        "\n",
        "# Celda 3: df.loc['k'] = [1, 'Suresh', 'yes', 15.5]\n",
        "\n",
        "# Celda 4: df = df.drop('k')\n",
        "\n",
        "# Celda 5: df.sort_values(by=['name'], ascending=[True])\n",
        "\n",
        "# Celda 6: df['qualify'] = df['qualify'].map({'yes': True, 'no': False})\n",
        "\n",
        "\n",
        "-->"
      ]
    },
    {
      "cell_type": "markdown",
      "metadata": {
        "id": "JsrMK0ddMBdp",
        "colab_type": "text"
      },
      "source": [
        "<div class=\"alert alert-danger alertdanger\" style=\"margin-top: 20px\">\n",
        "<h1> Pregunta #4: </h1>\n",
        "\n",
        "Descargue el archivo almacenado en `*/s02/exp_data.csv` para almacenarlo localmente y cargue el archivo al colaboratory para elaborar una gráfica de las columnas que contienen el archívo; para realizar la gráfica decifre cual de ellas es la variable independiente y cual la dependiente.\n"
      ]
    },
    {
      "cell_type": "markdown",
      "metadata": {
        "id": "Qrw_qjbSMBUv",
        "colab_type": "text"
      },
      "source": [
        "<div class=\"alert alert-danger alertdanger\" style=\"margin-top: 20px\">\n",
        "<h1> Respuesta Pregunta #4: </h1>\n",
        "<b>Corra el código a continuación:</b>\n",
        "</div>"
      ]
    },
    {
      "cell_type": "markdown",
      "metadata": {
        "id": "X_P2QneuMBIT",
        "colab_type": "text"
      },
      "source": [
        "Para ver la solución haga double-click <b>aquí</b>.\n",
        "\n",
        "<!-- La respuesta se encuentra a continuación:\n",
        "\n",
        "# Celda 1: Importar método files y cargar archivo\n",
        "from google.colab import files\n",
        "\n",
        "uploaded = files.upload()\n",
        "\n",
        "# Celda2: Generación de diccionario\n",
        " for fn in uploaded.keys():\n",
        "  print('User uploaded file \"{name}\" with length {length} bytes'.format(\n",
        "      name=fn, length=len(uploaded[fn])))\n",
        "\n",
        "# Celda3: Impresión de información del diccionario\n",
        "uploaded\n",
        "\n",
        "# Celda4: Importar librería pandas y generar el dataframe\n",
        "import pandas as pd\n",
        "import io \n",
        "\n",
        "exp_data = pd.read_csv(io.StringIO(uploaded['expData.csv'].decode('utf-8')))\n",
        "\n",
        "# Celda5: Gráfica de los datos del archivo expDaata.csv\n",
        "import matplotlib.pyplot as plt\n",
        "plt.plot(exp_data['x'],exp_data['exp(x)'])\n",
        "\n",
        "\n",
        "-->"
      ]
    }
  ]
}