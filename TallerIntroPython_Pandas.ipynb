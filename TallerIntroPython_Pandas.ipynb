{
  "nbformat": 4,
  "nbformat_minor": 0,
  "metadata": {
    "colab": {
      "name": "TallerIntroPython_Pandas.ipynb",
      "provenance": [],
      "collapsed_sections": [],
      "include_colab_link": true
    },
    "kernelspec": {
      "name": "python3",
      "display_name": "Python 3"
    }
  },
  "cells": [
    {
      "cell_type": "markdown",
      "metadata": {
        "id": "view-in-github",
        "colab_type": "text"
      },
      "source": [
        "<a href=\"https://colab.research.google.com/github/jubotero/cursoML/blob/master/TallerIntroPython_Pandas.ipynb\" target=\"_parent\"><img src=\"https://colab.research.google.com/assets/colab-badge.svg\" alt=\"Open In Colab\"/></a>"
      ]
    },
    {
      "cell_type": "code",
      "metadata": {
        "id": "tQZu3WlEf97h",
        "colab_type": "code",
        "colab": {}
      },
      "source": [
        ""
      ],
      "execution_count": 0,
      "outputs": []
    },
    {
      "cell_type": "markdown",
      "metadata": {
        "id": "sC6Fw0H0Ph75",
        "colab_type": "text"
      },
      "source": [
        "<p><a name=\"taller\"></a></p>\n",
        "\n",
        "# 1. Taller Python"
      ]
    },
    {
      "cell_type": "markdown",
      "metadata": {
        "id": "T6h3MM0NSf0-",
        "colab_type": "text"
      },
      "source": [
        "## Pregunta 1\n",
        "\n",
        "Definir una función max_de_dos(), que tome dos números como argumentos y devuelva el mayor de ellos. Si los números son iguales que imprima en pantalla \"Los números son iguales\" y no regrese ningún valor.\n"
      ]
    },
    {
      "cell_type": "markdown",
      "metadata": {
        "id": "JqkdxxVgSstd",
        "colab_type": "text"
      },
      "source": [
        "Para ver la solución haga double-click <b>aquí</b>.\n",
        "<!--\n",
        "\n",
        "def max_de_dos(a, b):\n",
        "  \n",
        "  if a>b:\n",
        "    output=a\n",
        "  elif b>a:\n",
        "    output=b\n",
        "  else:\n",
        "    print('Los números son iguales')\n",
        "    output=None\n",
        "  return output\n",
        "  \n",
        "\n",
        "-->"
      ]
    },
    {
      "cell_type": "markdown",
      "metadata": {
        "id": "h9iOo3FkPh5P",
        "colab_type": "text"
      },
      "source": [
        "## Pregunta 2\n",
        "\n",
        "Escriba un código de python que imprima todos los números pares de una lista dada y que deje de mostrar números cuando se encuentre el número 237\n",
        "\n",
        "Lista de números de muestra:\n",
        "\n",
        "numbers = [\n",
        "386, 462, 47, 418, 907, 344, 236, 375, 823, 566, 597, 978, 328, 615, 953, 345, 399, 162, 758, 219, 918, 237, 412, 566, 826, 248, 866, 950, 626, 949, 687, 217, 815, 67, 104, 58, 512, 24, 892, 894, 767, 553, 81, 379, 843, 831, 445, 742, 717, 958,743, 527 ]"
      ]
    },
    {
      "cell_type": "markdown",
      "metadata": {
        "id": "d5yYWl5fPh22",
        "colab_type": "text"
      },
      "source": [
        "Para ver la solución haga double-click <b>aquí</b>.\n",
        "<!--\n",
        "\n",
        "numbers = [\n",
        "386, 462, 47, 418, 907, 344, 236, 375, 823, 566, 597, 978, 328, 615, 953, 345, 399, 162, 758, 219, 918, 237, 412, 566, 826, 248, 866, 950, 626, 949, 687, 217, 815, 67, 104, 58, 512, 24, 892, 894, 767, 553, 81, 379, 843, 831, 445, 742, 717, 958,743, 527 ]\n",
        "\n",
        "listaFin=[]\n",
        "for i in numbers:\n",
        "  if (i%2==0):\n",
        "      listaFin.append(i)\n",
        "  if (i==237): \n",
        "      break\n",
        "print(listaFin)\n",
        "\n",
        "-->"
      ]
    },
    {
      "cell_type": "markdown",
      "metadata": {
        "id": "XBNbM5IwPh0I",
        "colab_type": "text"
      },
      "source": [
        "## Pregunta 3\n",
        "\n",
        "  * Mostrar con un while los números del 1 al 20\n",
        "\n",
        "  * Mostrar con un for los números del 1 al 20"
      ]
    },
    {
      "cell_type": "markdown",
      "metadata": {
        "id": "G_prdXRjZeg-",
        "colab_type": "text"
      },
      "source": [
        "Para ver la solución haga double-click <b>aquí</b>.\n",
        "<!--\n",
        "\n",
        "a=1\n",
        "while a<=20: \n",
        "  print(a)\n",
        "  a+=1\n",
        "\n",
        "#####\n",
        "\n",
        "for a in range(1,21):\n",
        "  print(a)\n",
        "\n",
        "-->"
      ]
    },
    {
      "cell_type": "markdown",
      "metadata": {
        "id": "B0pkMOrNPhuu",
        "colab_type": "text"
      },
      "source": [
        "## Pregunta 4\n",
        "\n",
        "Juguemos al juego de adivinar el numero, generaremos un número entre 1 y 20.\n",
        "\n",
        "Nuestro objetivo es adivinar el número. Si fallamos nos dirán si es mayor o menor que el número buscado. También poner el número de intentos requeridos."
      ]
    },
    {
      "cell_type": "markdown",
      "metadata": {
        "id": "MwxkJEBmPhsC",
        "colab_type": "text"
      },
      "source": [
        "Para ver la solución haga double-click <b>aquí</b>.\n",
        "<!--\n",
        "\n",
        "def adivina_numero():\n",
        "  \n",
        "  import numpy as np  \n",
        "  numero_buscado = np.random.randint(1, 21)\n",
        " \n",
        "  encontrado = False\n",
        "  intentos = 0\n",
        "\n",
        "  while not encontrado:\n",
        "\n",
        "      numero_usuario = int(input(\"Introduce el número buscado: \"))\n",
        "\n",
        "      if numero_usuario > numero_buscado:\n",
        "          print(\"El número que buscas es menor\")\n",
        "          intentos = intentos +1\n",
        "      elif numero_usuario < numero_buscado:\n",
        "          print(\"El numero que buscas es mayor\")\n",
        "          intentos = intentos +1\n",
        "      else:\n",
        "          encontrado = True\n",
        "          print(\"Has acertado el número correcto es \" , numero_usuario, \" te ha llevado \", intentos,\" intentos\")\n",
        "\n",
        "-->"
      ]
    },
    {
      "cell_type": "markdown",
      "metadata": {
        "id": "_KGV5fSPgFlW",
        "colab_type": "text"
      },
      "source": [
        "## Pregunta 5\n",
        "\n",
        "Defina una función llamada `es_cadena_no_vacia()` que evalúe si una cadena de caracteres es vacía o no y que retorne un variable booleana según sea el caso"
      ]
    },
    {
      "cell_type": "markdown",
      "metadata": {
        "id": "DesQud5cgp89",
        "colab_type": "text"
      },
      "source": [
        "Para ver la solución haga double-click <b>aquí</b>.\n",
        "<!--\n",
        "\n",
        "\n",
        "        def es_cadena_no_vacia(cadena=None):\n",
        "          if cadena==None:\n",
        "            salida=False\n",
        "          else:\n",
        "            salida=True\n",
        "          return salida\n",
        "\n",
        "-->"
      ]
    },
    {
      "cell_type": "markdown",
      "metadata": {
        "id": "IDW3cSxwgvUt",
        "colab_type": "text"
      },
      "source": [
        "## Pregunta 6\n",
        "\n",
        "Defina una función llamada `es_numero()` que evalúa si la entrada es un número y que retorne una variable booleana según sea el caso"
      ]
    },
    {
      "cell_type": "markdown",
      "metadata": {
        "id": "C-KDI__6hFD9",
        "colab_type": "text"
      },
      "source": [
        "Para ver la solución haga double-click <b>aquí</b>.\n",
        "<!--\n",
        "\n",
        "def es_numero(num=None):\n",
        "  if type(num)==int or type(num)==float:\n",
        "    salida=True\n",
        "  else:\n",
        "    salida=False\n",
        "    \n",
        "  return salida\n",
        "\n",
        "-->"
      ]
    },
    {
      "cell_type": "markdown",
      "metadata": {
        "id": "YCWHaLZQi1Dr",
        "colab_type": "text"
      },
      "source": [
        "## Pregunta 7\n",
        "\n",
        "Defina una clase llamada Hotel que contenga los atributos nombre, ubicación, puntaje obtenido por votación, y precio. Se tienen las siguientes restricciones:\n",
        "\n",
        "* El nombre y la ubicación deben ser cadenas no vacías. \n",
        "* El puntaje debe ser un número (sin restricciones sobre su valor) \n",
        "* El precio debe ser un número distinto de cero.\n",
        "\n",
        "si no se cumple alguna de las condiciones, ejecute un error que muestre en pantalla el problema.\n",
        "\n",
        "*Pista*: Use las funciónes `es_cadena_no_vacia()` y `es_numero()`\n",
        "\n",
        "\n"
      ]
    },
    {
      "cell_type": "markdown",
      "metadata": {
        "id": "ey_Ag-sHkvwt",
        "colab_type": "text"
      },
      "source": [
        "Para ver la solución haga double-click <b>aquí</b>.\n",
        "<!--\n",
        "\n",
        "class Hotel(object):\n",
        "    \"\"\" Hotel: sus atributos son: nombre, ubicacion, puntaje y precio.\"\"\"\n",
        "\n",
        "    def __init__(self, nombre = '*', ubicacion = '*',\n",
        "                 puntaje = 0, precio = float(\"inf\")):\n",
        "        \"\"\" nombre y ubicacion deben ser cadenas no vacías,\n",
        "            puntaje y precio son números.\n",
        "            Si el precio es 0 se reemplaza por infinito. \"\"\"\n",
        "\n",
        "        def es_cadena_no_vacia(cadena=None):\n",
        "          if cadena==None:\n",
        "            salida=False\n",
        "          else:\n",
        "            salida=True\n",
        "          return salida\n",
        "        \n",
        "        def es_numero(num=None):\n",
        "          if type(num)==int or type(num)==float:\n",
        "            salida=True\n",
        "          else:\n",
        "            salida=False\n",
        "\n",
        "          return salida\n",
        "        \n",
        "        if es_cadena_no_vacia (nombre):\n",
        "            self.nombre = nombre\n",
        "        else:\n",
        "            raise TypeError (\"El nombre debe ser una cadena no vacía\")\n",
        "\n",
        "        if es_cadena_no_vacia (ubicacion):\n",
        "            self.ubicacion = ubicacion\n",
        "        else:\n",
        "            raise TypeError (\"La ubicación debe ser una cadena no vacía\")\n",
        "\n",
        "        if es_numero(puntaje):\n",
        "            self.puntaje = puntaje\n",
        "        else:\n",
        "            raise TypeError (\"El puntaje debe ser un número\")\n",
        "\n",
        "        if es_numero(precio):\n",
        "            if precio != 0:\n",
        "                self.precio = precio\n",
        "            else:\n",
        "                self.precio = float(\"inf\")\n",
        "        else:\n",
        "            raise TypeError(\"El precio debe ser un número\")\n",
        "\n",
        "    def __str__(self):\n",
        "        \"\"\" Muestra el hotel según lo requerido. \"\"\"\n",
        "        return self.nombre + \" de \"+ self.ubicacion+ \\\n",
        "                \" - Puntaje: \"+ str(self.puntaje) + \" - Precio: \"+ \\\n",
        "                str(self.precio)+ \" pesos.\"\n",
        "-->"
      ]
    },
    {
      "cell_type": "markdown",
      "metadata": {
        "id": "O2ehaErhoIav",
        "colab_type": "text"
      },
      "source": [
        "<p><a name=\"tallpan\"></a></p>\n",
        "\n",
        "## 2. Taller Pandas"
      ]
    },
    {
      "cell_type": "markdown",
      "metadata": {
        "id": "yz3mwAY5mdCi",
        "colab_type": "text"
      },
      "source": [
        "### Ejercicio 1 \n",
        "\n",
        "Cargue el dataset provisto en la dirección 'https://pynative.com/wp-content/uploads/2019/01/company_sales_data.csv'  grafique la ganancia total (total_profit) para todos los meses. La gráfica debe tener las siguientes propiedades:\n",
        "\n",
        "* El estilo de línea punteado y de color rojo \n",
        "* Mostrar la legenda (legend) en la parte inferior derecha\n",
        "* X label name = Month Number\n",
        "* Y label name = Profits in dollars\n",
        "* Título : Company sales data of last year\n",
        "* Los markers deben ser circulares y de color negro\n",
        "* El grosor de la línea debe ser 3\n",
        "\n",
        "Solución esperada:\n",
        "<p><img  height=\"260px\" src=\"https://pynative.com/wp-content/uploads/2019/01/matplotlib_and_pandas_exercise_2_plot_style_properties-768x512.png\" align=\"center\" hspace=\"10px\" vspace=\"0px\"></p>"
      ]
    },
    {
      "cell_type": "markdown",
      "metadata": {
        "id": "FmT4jjbmmqFq",
        "colab_type": "text"
      },
      "source": [
        "Para ver la solución haga double-click <b>aquí</b>.\n",
        "\n",
        "\n",
        "<!--\n",
        "\n",
        "import pandas as pd\n",
        "import matplotlib.pyplot as plt  \n",
        "df = pd.read_csv('https://pynative.com/wp-content/uploads/2019/01/company_sales_data.csv')\n",
        "profitList = df ['total_profit'].tolist()\n",
        "monthList  = df ['month_number'].tolist()\n",
        "plt.plot(monthList, profitList, label = 'Profit data of last year', \n",
        "      color='r', marker='o', markerfacecolor='k', \n",
        "      linestyle='--', linewidth=3)\n",
        "      \n",
        "plt.xlabel('Month Number')\n",
        "plt.ylabel('Profit in dollar')\n",
        "plt.legend(loc='lower right')\n",
        "plt.title('Company Sales data of last year')\n",
        "plt.xticks(monthList)\n",
        "plt.yticks([100000, 200000, 300000, 400000, 500000])\n",
        "plt.show()\n",
        "-->"
      ]
    },
    {
      "cell_type": "markdown",
      "metadata": {
        "id": "es-m65sEpb7b",
        "colab_type": "text"
      },
      "source": [
        "### Ejercicio 2\n",
        "\n",
        "Dataset: https://raw.githubusercontent.com/justmarkham/DAT8/master/data/u.user\n",
        "\n",
        "1. Importar el dataset, asignarlo a una variable llamada *users* y usar el *user_id* como índice.\n",
        "2. ¿Cuál es el número de observaciones y columnas en el dataset? \n",
        "3. Mostrar el nombre de las columnas y el tipo de dato que contiene.\n",
        "4. Mostrar la indexación del dataset.\n",
        "5. ¿Cuántas ocupaciones diferentes hay en este conjunto de datos?\n",
        "6. ¿Cuál es la ocupación más frecuente?\n",
        "7. ¿Cuál es la edad media de los usuarios?\n",
        "8. ¿Cuál es la edad con menos ocurrencia?\n"
      ]
    },
    {
      "cell_type": "markdown",
      "metadata": {
        "id": "Wuwt_G1GpbN_",
        "colab_type": "text"
      },
      "source": [
        "Para ver la solución haga double-click <b>aquí</b>.\n",
        "<!--\n",
        "\n",
        "1. \n",
        "\n",
        "import pandas as pd\n",
        "\n",
        "users = pd.read_csv('https://raw.githubusercontent.com/justmarkham/DAT8/master/data/u.user', delimiter='|', index_col='user_id')\n",
        "users.head()\n",
        "  \n",
        "2.\n",
        "print(\"Número de observaciones:\",users.shape[0])\n",
        "print(\"Número de columnas: \",users.shape[1])\n",
        "\n",
        "3.\n",
        "print(\"Columnas: \",users.columns)\n",
        "print(\"Tipo de datos: \\n\",users.dtypes)\n",
        "\n",
        "4.\n",
        "print(\"Indexación: \",users.index)\n",
        "\n",
        "5.\n",
        "print(\"Número de ocupaciones diferentes:\",users.occupation.nunique())\n",
        "\n",
        "6.\n",
        "print(\"Ocupaciones más frecuentes:\\n\",users.occupation.value_counts().head())\n",
        "\n",
        "7.\n",
        "print(\"Edad media de los usuarios:\",round(users.age.mean()))\n",
        "\n",
        "8.\n",
        "print(\"Edades de menos ocurrencia:\\n\",users.age.value_counts().tail(10))\n",
        "\n",
        "-->"
      ]
    },
    {
      "cell_type": "markdown",
      "metadata": {
        "id": "pCX-t7lsuSVv",
        "colab_type": "text"
      },
      "source": [
        "### Ejercicio 3"
      ]
    },
    {
      "cell_type": "markdown",
      "metadata": {
        "id": "brSEH5NbyWwA",
        "colab_type": "text"
      },
      "source": [
        "Diccionario dado:\n",
        "\n",
        "raw_data = {'regiment': ['Nighthawks', 'Nighthawks', 'Nighthawks', 'Nighthawks', 'Dragoons', 'Dragoons', 'Dragoons', 'Dragoons', 'Scouts', 'Scouts', 'Scouts', 'Scouts'],\n",
        "            'company': ['1st', '1st', '2nd', '2nd', '1st', '1st', '2nd', '2nd','1st', '1st', '2nd', '2nd'],\n",
        "            'deaths': [523, 52, 25, 616, 43, 234, 523, 62, 62, 73, 37, 35],\n",
        "            'battles': [5, 42, 2, 2, 4, 7, 8, 3, 4, 7, 8, 9],\n",
        "            'size': [1045, 957, 1099, 1400, 1592, 1006, 987, 849, 973, 1005, 1099, 1523],\n",
        "            'veterans': [1, 5, 62, 26, 73, 37, 949, 48, 48, 435, 63, 345],\n",
        "            'readiness': [1, 2, 3, 3, 2, 1, 2, 3, 2, 1, 2, 3],\n",
        "            'armored': [1, 0, 1, 1, 0, 1, 0, 1, 0, 0, 1, 1],\n",
        "            'deserters': [4, 24, 31, 2, 3, 4, 24, 31, 2, 3, 2, 3],\n",
        "            'origin': ['Arizona', 'California', 'Texas', 'Florida', 'Maine', 'Iowa', 'Alaska', 'Washington', 'Oregon', 'Wyoming', 'Louisana', 'Georgia']}\n",
        "            \n",
        "1. Crea un DataFrame llamado *army* a partir del diccionario dado \n",
        "\n",
        "(No olvide incluir los nombres de las columnas en el orden presentado en el diccionario ('regimen', 'company', ...) para que el orden del índice de la columna sea coherente con las soluciones. Si se omite, Pandas ordenará las columnas alfabéticamente.\n",
        "\n",
        "2. Establezca la columna 'origin' como índice del dataset.\n",
        "3. Imprima las columnas 'veterans' y 'deaths'\n",
        "4. Seleccione las columnas 'deaths', 'size' y 'deserters' de Maine a Alaska.\n",
        "5. Seleccione la tercera columna hasta la séptima columna.\n",
        "6. Seleccione las filas donde *deaths* sea mayor que 50.\n",
        "7. Seleccione las filas donde *deaths* sea mayor que 500 o menor que 50.\n",
        "8. Selecciona todos los *regiments* no nombrados *Dragoons*.\n",
        "9. Seleccione la tercera celda en la fila llamada *Arizona*\n",
        "10. Seleccione la tercera celda en la columna llamada *deaths*\n"
      ]
    },
    {
      "cell_type": "markdown",
      "metadata": {
        "id": "gTBNeJy0yQFB",
        "colab_type": "text"
      },
      "source": [
        "Para ver la solución haga double-click <b>aquí</b>.\n",
        "<!--\n",
        "1.\n",
        "raw_data = {'regiment': ['Nighthawks', 'Nighthawks', 'Nighthawks', 'Nighthawks', 'Dragoons', 'Dragoons', 'Dragoons', 'Dragoons', 'Scouts', 'Scouts', 'Scouts', 'Scouts'], 'company': ['1st', '1st', '2nd', '2nd', '1st', '1st', '2nd', '2nd','1st', '1st', '2nd', '2nd'], 'deaths': [523, 52, 25, 616, 43, 234, 523, 62, 62, 73, 37, 35], 'battles': [5, 42, 2, 2, 4, 7, 8, 3, 4, 7, 8, 9], 'size': [1045, 957, 1099, 1400, 1592, 1006, 987, 849, 973, 1005, 1099, 1523], 'veterans': [1, 5, 62, 26, 73, 37, 949, 48, 48, 435, 63, 345], 'readiness': [1, 2, 3, 3, 2, 1, 2, 3, 2, 1, 2, 3], 'armored': [1, 0, 1, 1, 0, 1, 0, 1, 0, 0, 1, 1], 'deserters': [4, 24, 31, 2, 3, 4, 24, 31, 2, 3, 2, 3], 'origin': ['Arizona', 'California', 'Texas', 'Florida', 'Maine', 'Iowa', 'Alaska', 'Washington', 'Oregon', 'Wyoming', 'Louisana', 'Georgia']}\n",
        "\n",
        "army = pd.DataFrame(raw_data, columns = ['regiment', 'company', 'deaths', 'battles', 'size', 'veterans', 'readiness', 'armored', 'deserters', 'origin'])\n",
        "\n",
        "army.head()\n",
        "\n",
        "2.\n",
        "army = army.set_index(\"origin\")\n",
        "army.head()\n",
        "\n",
        "3. \n",
        "army[['veterans', 'deaths']]\n",
        "\n",
        "4.\n",
        "army.loc[['Maine','Alaska'] , [\"deaths\",\"size\",\"deserters\"]]\n",
        "\n",
        "5.\n",
        "army.iloc[: , 4:7]\n",
        "\n",
        "6.\n",
        "army[army['deaths'] > 50]\n",
        "\n",
        "7. \n",
        "army[(army['deaths'] > 500) | (army['deaths'] < 50)]\n",
        "\n",
        "8.\n",
        "army[(army['regiment'] != 'Dragoons')]\n",
        "\n",
        "9.\n",
        "army.loc[['Arizona'], ['deaths']]\n",
        "\n",
        "#O\n",
        "\n",
        "#army.iloc[[0]\n",
        "\n",
        "10.\n",
        "army.loc['Texas', 'deaths']\n",
        "\n",
        "#O\n",
        "\n",
        "#army.iloc[[2]\n",
        "\n",
        "\n",
        "-->"
      ]
    },
    {
      "cell_type": "markdown",
      "metadata": {
        "id": "2uqS7sNd8_Fk",
        "colab_type": "text"
      },
      "source": [
        "### Ejercicio 4\n",
        "\n",
        "Dataset: https://raw.githubusercontent.com/justmarkham/DAT8/master/data/u.user\n",
        "\n",
        "1.  Importar el dataset, asignarlo a una variable llamada *users* y usar el *user_id* como índice.\n",
        "2. ¿Cuál es la edad media por ocupación?\n",
        "3. Descubra la proporción de hombres por ocupación y clasifíquela de mayor a menor (cree una columna).\n",
        "4. Para cada ocupación calcule las edades mínimas y máximas.\n",
        "5. Para cada combinación de ocupación y género calcule la edad media.\n",
        "6. Para cada ocupación muestre el porcentaje de mujeres y hombres."
      ]
    },
    {
      "cell_type": "markdown",
      "metadata": {
        "id": "TVbi8B-a-gZ9",
        "colab_type": "text"
      },
      "source": [
        "Para ver la solución haga double-click <b>aquí</b>.\n",
        "<!--\n",
        "\n",
        "1. \n",
        "\n",
        "import pandas as pd\n",
        "\n",
        "users = pd.read_csv('https://raw.githubusercontent.com/justmarkham/DAT8/master/data/u.user', delimiter='|', index_col='user_id')\n",
        "users.head()\n",
        "  \n",
        "2.\n",
        "users.groupby('occupation').age.mean()\n",
        "\n",
        "3.\n",
        "# funcion que mapea el genero a un numero\n",
        "def gender_to_numeric(x):\n",
        "    if x == 'M':\n",
        "        return 1\n",
        "    if x == 'F':\n",
        "        return 0\n",
        "\n",
        "# aplica la funcion a la columna genero y saca el porcentaje de hombres por ocupacion\n",
        "users['gender_n'] = users['gender'].apply(gender_to_numeric)\n",
        "\n",
        "# se \n",
        "a = users.groupby('occupation').gender_n.sum() / users.occupation.value_counts() * 100 \n",
        "\n",
        "# ordenamiento de mayor a menor\n",
        "a.sort_values(ascending = False)\n",
        "\n",
        "4.\n",
        "users.groupby('occupation').age.agg(['min', 'max'])\n",
        "\n",
        "5.\n",
        "users.groupby(['occupation', 'gender']).age.mean()\n",
        "\n",
        "6.\n",
        "# crea un dataframe y aplica \"count\" al genero\n",
        "gender_ocup = users.groupby(['occupation', 'gender']).agg({'gender': 'count'})\n",
        "\n",
        "# crea un dataframe y aplica \"count\" para cada ocupacion\n",
        "occup_count = users.groupby(['occupation']).agg('count')\n",
        "\n",
        "# divida gender_ocup por occup_count y multiplique por 100\n",
        "occup_gender = gender_ocup.div(occup_count, level = \"occupation\") * 100\n",
        "\n",
        "# mostrar todas las filas de la columna genero\n",
        "occup_gender.loc[: , 'gender']\n",
        "\n",
        "-->"
      ]
    }
  ]
}